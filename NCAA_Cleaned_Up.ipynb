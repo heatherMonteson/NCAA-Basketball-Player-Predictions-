{
 "cells": [
  {
   "cell_type": "markdown",
   "id": "13628048",
   "metadata": {},
   "source": [
    "## Cleaning"
   ]
  },
  {
   "cell_type": "code",
   "execution_count": 1,
   "id": "e13f38a9",
   "metadata": {},
   "outputs": [],
   "source": [
    "import numpy as np\n",
    "import pandas as pd\n",
    "import seaborn as sns\n",
    "import matplotlib.pyplot as plt\n",
    "import glob\n",
    "from sklearn.model_selection import train_test_split\n",
    "from sklearn.linear_model import LinearRegression, Ridge, Lasso\n",
    "from sklearn import metrics, preprocessing\n",
    "from sklearn.impute import KNNImputer\n",
    "from sklearn.preprocessing import LabelEncoder"
   ]
  },
  {
   "cell_type": "markdown",
   "id": "6337cb28",
   "metadata": {},
   "source": [
    "Read in player data"
   ]
  },
  {
   "cell_type": "code",
   "execution_count": 14,
   "id": "9cf827e2",
   "metadata": {},
   "outputs": [
    {
     "data": {
      "text/plain": [
       "(61061, 57)"
      ]
     },
     "execution_count": 14,
     "metadata": {},
     "output_type": "execute_result"
    }
   ],
   "source": [
    "playerDf = pd.read_csv('trainingData/CollegeBasketballPlayers2009-2021.csv', low_memory=False)\n",
    "\n",
    "#initial dropping of inconsistant data for player data \n",
    "playerDf = playerDf.rename(columns = {'Unnamed: 64' : 'role_position'})\n",
    "playerDf = playerDf.drop('Unnamed: 65', axis=1) # Has no meaning in the dataset\n",
    "playerDf = playerDf.drop('ht', axis=1) # Temporarily excluding this column due to inconsistent date formats and other values\n",
    "playerDf = playerDf.drop('num', axis=1) # It might denote a player's choice or position but with significant variation in meaning.\n",
    "playerDf = playerDf.drop('type', axis=1) # Column has 1 unique value\n",
    "playerDf= playerDf.drop('pid', axis=1) # catigorical, not needed \n",
    "playerDf= playerDf.drop('yr', axis=1) # catigorical, not needed \n",
    "playerDf = playerDf.drop('player_name', axis=1)\n",
    "playerDf = playerDf.drop('team', axis=1)\n",
    "playerDf = playerDf.drop('conf', axis=1)\n",
    "playerDf.shape"
   ]
  },
  {
   "cell_type": "markdown",
   "id": "be7b5d95",
   "metadata": {},
   "source": [
    "Display columns with over 60% nulls and drop them"
   ]
  },
  {
   "cell_type": "code",
   "execution_count": 15,
   "id": "4e372036",
   "metadata": {},
   "outputs": [
    {
     "name": "stdout",
     "output_type": "stream",
     "text": [
      "Player  DF: Column 'Rec Rank': Number of NaN: 42591 Percentage: 69.75%\n",
      "Player  DF: Column 'pick': Number of NaN: 59626 Percentage: 97.65%\n"
     ]
    }
   ],
   "source": [
    "# Count and remove columns with over 60% nan values from players\n",
    "total = len(playerDf)\n",
    "for column in playerDf.columns:\n",
    "    count = playerDf[column].isna().sum()\n",
    "    percent= (count/ total) * 100\n",
    "    if (percent>=60):\n",
    "        print(f\"Player  DF: Column '{column}':\", f\"Number of NaN: {count}\", f\"Percentage: {percent:.2f}%\")"
   ]
  },
  {
   "cell_type": "code",
   "execution_count": 19,
   "id": "a1668f92",
   "metadata": {},
   "outputs": [
    {
     "ename": "KeyError",
     "evalue": "\"['Rec Rank'] not found in axis\"",
     "output_type": "error",
     "traceback": [
      "\u001b[1;31m---------------------------------------------------------------------------\u001b[0m",
      "\u001b[1;31mKeyError\u001b[0m                                  Traceback (most recent call last)",
      "\u001b[1;32mc:\\Users\\Steven\\source\\repos\\NCAA-Basketball-Player-Predictions-\\NCAA_Cleaned_Up.ipynb Cell 7\u001b[0m line \u001b[0;36m2\n\u001b[0;32m      <a href='vscode-notebook-cell:/c%3A/Users/Steven/source/repos/NCAA-Basketball-Player-Predictions-/NCAA_Cleaned_Up.ipynb#X62sZmlsZQ%3D%3D?line=0'>1</a>\u001b[0m \u001b[39m#Drop all the over 60% cols from the player. Dont drop pick, nan recorded as not drafted, need for predictions filling in later\u001b[39;00m\n\u001b[1;32m----> <a href='vscode-notebook-cell:/c%3A/Users/Steven/source/repos/NCAA-Basketball-Player-Predictions-/NCAA_Cleaned_Up.ipynb#X62sZmlsZQ%3D%3D?line=1'>2</a>\u001b[0m playerDf \u001b[39m=\u001b[39m playerDf\u001b[39m.\u001b[39;49mdrop(\u001b[39m'\u001b[39;49m\u001b[39mRec Rank\u001b[39;49m\u001b[39m'\u001b[39;49m, axis\u001b[39m=\u001b[39;49m\u001b[39m1\u001b[39;49m) \n\u001b[0;32m      <a href='vscode-notebook-cell:/c%3A/Users/Steven/source/repos/NCAA-Basketball-Player-Predictions-/NCAA_Cleaned_Up.ipynb#X62sZmlsZQ%3D%3D?line=2'>3</a>\u001b[0m role_position_label_encoder \u001b[39m=\u001b[39m LabelEncoder()\n\u001b[0;32m      <a href='vscode-notebook-cell:/c%3A/Users/Steven/source/repos/NCAA-Basketball-Player-Predictions-/NCAA_Cleaned_Up.ipynb#X62sZmlsZQ%3D%3D?line=3'>4</a>\u001b[0m playerDf[\u001b[39m'\u001b[39m\u001b[39mrole_position\u001b[39m\u001b[39m'\u001b[39m] \u001b[39m=\u001b[39m role_position_label_encoder\u001b[39m.\u001b[39mfit_transform(playerDf[\u001b[39m'\u001b[39m\u001b[39mrole_position\u001b[39m\u001b[39m'\u001b[39m])\n",
      "File \u001b[1;32m~\\AppData\\Local\\Packages\\PythonSoftwareFoundation.Python.3.11_qbz5n2kfra8p0\\LocalCache\\local-packages\\Python311\\site-packages\\pandas\\core\\frame.py:5347\u001b[0m, in \u001b[0;36mDataFrame.drop\u001b[1;34m(self, labels, axis, index, columns, level, inplace, errors)\u001b[0m\n\u001b[0;32m   5199\u001b[0m \u001b[39mdef\u001b[39;00m \u001b[39mdrop\u001b[39m(\n\u001b[0;32m   5200\u001b[0m     \u001b[39mself\u001b[39m,\n\u001b[0;32m   5201\u001b[0m     labels: IndexLabel \u001b[39m|\u001b[39m \u001b[39mNone\u001b[39;00m \u001b[39m=\u001b[39m \u001b[39mNone\u001b[39;00m,\n\u001b[1;32m   (...)\u001b[0m\n\u001b[0;32m   5208\u001b[0m     errors: IgnoreRaise \u001b[39m=\u001b[39m \u001b[39m\"\u001b[39m\u001b[39mraise\u001b[39m\u001b[39m\"\u001b[39m,\n\u001b[0;32m   5209\u001b[0m ) \u001b[39m-\u001b[39m\u001b[39m>\u001b[39m DataFrame \u001b[39m|\u001b[39m \u001b[39mNone\u001b[39;00m:\n\u001b[0;32m   5210\u001b[0m \u001b[39m    \u001b[39m\u001b[39m\"\"\"\u001b[39;00m\n\u001b[0;32m   5211\u001b[0m \u001b[39m    Drop specified labels from rows or columns.\u001b[39;00m\n\u001b[0;32m   5212\u001b[0m \n\u001b[1;32m   (...)\u001b[0m\n\u001b[0;32m   5345\u001b[0m \u001b[39m            weight  1.0     0.8\u001b[39;00m\n\u001b[0;32m   5346\u001b[0m \u001b[39m    \"\"\"\u001b[39;00m\n\u001b[1;32m-> 5347\u001b[0m     \u001b[39mreturn\u001b[39;00m \u001b[39msuper\u001b[39;49m()\u001b[39m.\u001b[39;49mdrop(\n\u001b[0;32m   5348\u001b[0m         labels\u001b[39m=\u001b[39;49mlabels,\n\u001b[0;32m   5349\u001b[0m         axis\u001b[39m=\u001b[39;49maxis,\n\u001b[0;32m   5350\u001b[0m         index\u001b[39m=\u001b[39;49mindex,\n\u001b[0;32m   5351\u001b[0m         columns\u001b[39m=\u001b[39;49mcolumns,\n\u001b[0;32m   5352\u001b[0m         level\u001b[39m=\u001b[39;49mlevel,\n\u001b[0;32m   5353\u001b[0m         inplace\u001b[39m=\u001b[39;49minplace,\n\u001b[0;32m   5354\u001b[0m         errors\u001b[39m=\u001b[39;49merrors,\n\u001b[0;32m   5355\u001b[0m     )\n",
      "File \u001b[1;32m~\\AppData\\Local\\Packages\\PythonSoftwareFoundation.Python.3.11_qbz5n2kfra8p0\\LocalCache\\local-packages\\Python311\\site-packages\\pandas\\core\\generic.py:4711\u001b[0m, in \u001b[0;36mNDFrame.drop\u001b[1;34m(self, labels, axis, index, columns, level, inplace, errors)\u001b[0m\n\u001b[0;32m   4709\u001b[0m \u001b[39mfor\u001b[39;00m axis, labels \u001b[39min\u001b[39;00m axes\u001b[39m.\u001b[39mitems():\n\u001b[0;32m   4710\u001b[0m     \u001b[39mif\u001b[39;00m labels \u001b[39mis\u001b[39;00m \u001b[39mnot\u001b[39;00m \u001b[39mNone\u001b[39;00m:\n\u001b[1;32m-> 4711\u001b[0m         obj \u001b[39m=\u001b[39m obj\u001b[39m.\u001b[39;49m_drop_axis(labels, axis, level\u001b[39m=\u001b[39;49mlevel, errors\u001b[39m=\u001b[39;49merrors)\n\u001b[0;32m   4713\u001b[0m \u001b[39mif\u001b[39;00m inplace:\n\u001b[0;32m   4714\u001b[0m     \u001b[39mself\u001b[39m\u001b[39m.\u001b[39m_update_inplace(obj)\n",
      "File \u001b[1;32m~\\AppData\\Local\\Packages\\PythonSoftwareFoundation.Python.3.11_qbz5n2kfra8p0\\LocalCache\\local-packages\\Python311\\site-packages\\pandas\\core\\generic.py:4753\u001b[0m, in \u001b[0;36mNDFrame._drop_axis\u001b[1;34m(self, labels, axis, level, errors, only_slice)\u001b[0m\n\u001b[0;32m   4751\u001b[0m         new_axis \u001b[39m=\u001b[39m axis\u001b[39m.\u001b[39mdrop(labels, level\u001b[39m=\u001b[39mlevel, errors\u001b[39m=\u001b[39merrors)\n\u001b[0;32m   4752\u001b[0m     \u001b[39melse\u001b[39;00m:\n\u001b[1;32m-> 4753\u001b[0m         new_axis \u001b[39m=\u001b[39m axis\u001b[39m.\u001b[39;49mdrop(labels, errors\u001b[39m=\u001b[39;49merrors)\n\u001b[0;32m   4754\u001b[0m     indexer \u001b[39m=\u001b[39m axis\u001b[39m.\u001b[39mget_indexer(new_axis)\n\u001b[0;32m   4756\u001b[0m \u001b[39m# Case for non-unique axis\u001b[39;00m\n\u001b[0;32m   4757\u001b[0m \u001b[39melse\u001b[39;00m:\n",
      "File \u001b[1;32m~\\AppData\\Local\\Packages\\PythonSoftwareFoundation.Python.3.11_qbz5n2kfra8p0\\LocalCache\\local-packages\\Python311\\site-packages\\pandas\\core\\indexes\\base.py:6992\u001b[0m, in \u001b[0;36mIndex.drop\u001b[1;34m(self, labels, errors)\u001b[0m\n\u001b[0;32m   6990\u001b[0m \u001b[39mif\u001b[39;00m mask\u001b[39m.\u001b[39many():\n\u001b[0;32m   6991\u001b[0m     \u001b[39mif\u001b[39;00m errors \u001b[39m!=\u001b[39m \u001b[39m\"\u001b[39m\u001b[39mignore\u001b[39m\u001b[39m\"\u001b[39m:\n\u001b[1;32m-> 6992\u001b[0m         \u001b[39mraise\u001b[39;00m \u001b[39mKeyError\u001b[39;00m(\u001b[39mf\u001b[39m\u001b[39m\"\u001b[39m\u001b[39m{\u001b[39;00mlabels[mask]\u001b[39m.\u001b[39mtolist()\u001b[39m}\u001b[39;00m\u001b[39m not found in axis\u001b[39m\u001b[39m\"\u001b[39m)\n\u001b[0;32m   6993\u001b[0m     indexer \u001b[39m=\u001b[39m indexer[\u001b[39m~\u001b[39mmask]\n\u001b[0;32m   6994\u001b[0m \u001b[39mreturn\u001b[39;00m \u001b[39mself\u001b[39m\u001b[39m.\u001b[39mdelete(indexer)\n",
      "\u001b[1;31mKeyError\u001b[0m: \"['Rec Rank'] not found in axis\""
     ]
    }
   ],
   "source": [
    "#Drop all the over 60% cols from the player. Dont drop pick, nan recorded as not drafted, need for predictions filling in later\n",
    "playerDf = playerDf.drop('Rec Rank', axis=1) \n",
    "role_position_label_encoder = LabelEncoder()\n",
    "playerDf['role_position'] = role_position_label_encoder.fit_transform(playerDf['role_position'])"
   ]
  },
  {
   "cell_type": "code",
   "execution_count": 17,
   "id": "d73a76aa",
   "metadata": {},
   "outputs": [],
   "source": [
    "#player_corr_matrix = playerDf.corr()\n",
    "\n",
    "# Create a heatmap\n",
    "# plt.figure(figsize=(12, 10))\n",
    "# sns.heatmap(player_corr_matrix, fmt=\".2f\", linewidths=.5)\n",
    "# plt.title('Correlation Matrix Heatmap')\n",
    "# plt.show()"
   ]
  },
  {
   "cell_type": "markdown",
   "id": "0fdf480c",
   "metadata": {},
   "source": [
    "Findand remove redundant data "
   ]
  },
  {
   "cell_type": "code",
   "execution_count": 18,
   "id": "85ae4409",
   "metadata": {},
   "outputs": [
    {
     "ename": "ValueError",
     "evalue": "could not convert string to float: 'Combo G'",
     "output_type": "error",
     "traceback": [
      "\u001b[1;31m---------------------------------------------------------------------------\u001b[0m",
      "\u001b[1;31mValueError\u001b[0m                                Traceback (most recent call last)",
      "\u001b[1;32mc:\\Users\\Steven\\source\\repos\\NCAA-Basketball-Player-Predictions-\\NCAA_Cleaned_Up.ipynb Cell 10\u001b[0m line \u001b[0;36m4\n\u001b[0;32m      <a href='vscode-notebook-cell:/c%3A/Users/Steven/source/repos/NCAA-Basketball-Player-Predictions-/NCAA_Cleaned_Up.ipynb#X65sZmlsZQ%3D%3D?line=0'>1</a>\u001b[0m correlation_threshold \u001b[39m=\u001b[39m \u001b[39m0.9\u001b[39m\n\u001b[0;32m      <a href='vscode-notebook-cell:/c%3A/Users/Steven/source/repos/NCAA-Basketball-Player-Predictions-/NCAA_Cleaned_Up.ipynb#X65sZmlsZQ%3D%3D?line=2'>3</a>\u001b[0m \u001b[39m# Create positive correlation matrix\u001b[39;00m\n\u001b[1;32m----> <a href='vscode-notebook-cell:/c%3A/Users/Steven/source/repos/NCAA-Basketball-Player-Predictions-/NCAA_Cleaned_Up.ipynb#X65sZmlsZQ%3D%3D?line=3'>4</a>\u001b[0m corr_df \u001b[39m=\u001b[39m playerDf\u001b[39m.\u001b[39;49mcorr()\u001b[39m.\u001b[39mabs()\n\u001b[0;32m      <a href='vscode-notebook-cell:/c%3A/Users/Steven/source/repos/NCAA-Basketball-Player-Predictions-/NCAA_Cleaned_Up.ipynb#X65sZmlsZQ%3D%3D?line=6'>7</a>\u001b[0m \u001b[39m# Create and apply mask\u001b[39;00m\n\u001b[0;32m      <a href='vscode-notebook-cell:/c%3A/Users/Steven/source/repos/NCAA-Basketball-Player-Predictions-/NCAA_Cleaned_Up.ipynb#X65sZmlsZQ%3D%3D?line=7'>8</a>\u001b[0m mask \u001b[39m=\u001b[39m np\u001b[39m.\u001b[39mtriu(np\u001b[39m.\u001b[39mones_like(corr_df, dtype\u001b[39m=\u001b[39m\u001b[39mbool\u001b[39m))\n",
      "File \u001b[1;32m~\\AppData\\Local\\Packages\\PythonSoftwareFoundation.Python.3.11_qbz5n2kfra8p0\\LocalCache\\local-packages\\Python311\\site-packages\\pandas\\core\\frame.py:10707\u001b[0m, in \u001b[0;36mDataFrame.corr\u001b[1;34m(self, method, min_periods, numeric_only)\u001b[0m\n\u001b[0;32m  10705\u001b[0m cols \u001b[39m=\u001b[39m data\u001b[39m.\u001b[39mcolumns\n\u001b[0;32m  10706\u001b[0m idx \u001b[39m=\u001b[39m cols\u001b[39m.\u001b[39mcopy()\n\u001b[1;32m> 10707\u001b[0m mat \u001b[39m=\u001b[39m data\u001b[39m.\u001b[39;49mto_numpy(dtype\u001b[39m=\u001b[39;49m\u001b[39mfloat\u001b[39;49m, na_value\u001b[39m=\u001b[39;49mnp\u001b[39m.\u001b[39;49mnan, copy\u001b[39m=\u001b[39;49m\u001b[39mFalse\u001b[39;49;00m)\n\u001b[0;32m  10709\u001b[0m \u001b[39mif\u001b[39;00m method \u001b[39m==\u001b[39m \u001b[39m\"\u001b[39m\u001b[39mpearson\u001b[39m\u001b[39m\"\u001b[39m:\n\u001b[0;32m  10710\u001b[0m     correl \u001b[39m=\u001b[39m libalgos\u001b[39m.\u001b[39mnancorr(mat, minp\u001b[39m=\u001b[39mmin_periods)\n",
      "File \u001b[1;32m~\\AppData\\Local\\Packages\\PythonSoftwareFoundation.Python.3.11_qbz5n2kfra8p0\\LocalCache\\local-packages\\Python311\\site-packages\\pandas\\core\\frame.py:1892\u001b[0m, in \u001b[0;36mDataFrame.to_numpy\u001b[1;34m(self, dtype, copy, na_value)\u001b[0m\n\u001b[0;32m   1890\u001b[0m \u001b[39mif\u001b[39;00m dtype \u001b[39mis\u001b[39;00m \u001b[39mnot\u001b[39;00m \u001b[39mNone\u001b[39;00m:\n\u001b[0;32m   1891\u001b[0m     dtype \u001b[39m=\u001b[39m np\u001b[39m.\u001b[39mdtype(dtype)\n\u001b[1;32m-> 1892\u001b[0m result \u001b[39m=\u001b[39m \u001b[39mself\u001b[39;49m\u001b[39m.\u001b[39;49m_mgr\u001b[39m.\u001b[39;49mas_array(dtype\u001b[39m=\u001b[39;49mdtype, copy\u001b[39m=\u001b[39;49mcopy, na_value\u001b[39m=\u001b[39;49mna_value)\n\u001b[0;32m   1893\u001b[0m \u001b[39mif\u001b[39;00m result\u001b[39m.\u001b[39mdtype \u001b[39mis\u001b[39;00m \u001b[39mnot\u001b[39;00m dtype:\n\u001b[0;32m   1894\u001b[0m     result \u001b[39m=\u001b[39m np\u001b[39m.\u001b[39marray(result, dtype\u001b[39m=\u001b[39mdtype, copy\u001b[39m=\u001b[39m\u001b[39mFalse\u001b[39;00m)\n",
      "File \u001b[1;32m~\\AppData\\Local\\Packages\\PythonSoftwareFoundation.Python.3.11_qbz5n2kfra8p0\\LocalCache\\local-packages\\Python311\\site-packages\\pandas\\core\\internals\\managers.py:1656\u001b[0m, in \u001b[0;36mBlockManager.as_array\u001b[1;34m(self, dtype, copy, na_value)\u001b[0m\n\u001b[0;32m   1654\u001b[0m         arr\u001b[39m.\u001b[39mflags\u001b[39m.\u001b[39mwriteable \u001b[39m=\u001b[39m \u001b[39mFalse\u001b[39;00m\n\u001b[0;32m   1655\u001b[0m \u001b[39melse\u001b[39;00m:\n\u001b[1;32m-> 1656\u001b[0m     arr \u001b[39m=\u001b[39m \u001b[39mself\u001b[39;49m\u001b[39m.\u001b[39;49m_interleave(dtype\u001b[39m=\u001b[39;49mdtype, na_value\u001b[39m=\u001b[39;49mna_value)\n\u001b[0;32m   1657\u001b[0m     \u001b[39m# The underlying data was copied within _interleave, so no need\u001b[39;00m\n\u001b[0;32m   1658\u001b[0m     \u001b[39m# to further copy if copy=True or setting na_value\u001b[39;00m\n\u001b[0;32m   1660\u001b[0m \u001b[39mif\u001b[39;00m na_value \u001b[39mis\u001b[39;00m lib\u001b[39m.\u001b[39mno_default:\n",
      "File \u001b[1;32m~\\AppData\\Local\\Packages\\PythonSoftwareFoundation.Python.3.11_qbz5n2kfra8p0\\LocalCache\\local-packages\\Python311\\site-packages\\pandas\\core\\internals\\managers.py:1715\u001b[0m, in \u001b[0;36mBlockManager._interleave\u001b[1;34m(self, dtype, na_value)\u001b[0m\n\u001b[0;32m   1713\u001b[0m     \u001b[39melse\u001b[39;00m:\n\u001b[0;32m   1714\u001b[0m         arr \u001b[39m=\u001b[39m blk\u001b[39m.\u001b[39mget_values(dtype)\n\u001b[1;32m-> 1715\u001b[0m     result[rl\u001b[39m.\u001b[39;49mindexer] \u001b[39m=\u001b[39m arr\n\u001b[0;32m   1716\u001b[0m     itemmask[rl\u001b[39m.\u001b[39mindexer] \u001b[39m=\u001b[39m \u001b[39m1\u001b[39m\n\u001b[0;32m   1718\u001b[0m \u001b[39mif\u001b[39;00m \u001b[39mnot\u001b[39;00m itemmask\u001b[39m.\u001b[39mall():\n",
      "\u001b[1;31mValueError\u001b[0m: could not convert string to float: 'Combo G'"
     ]
    }
   ],
   "source": [
    "correlation_threshold = 0.9\n",
    "\n",
    "# Create positive correlation matrix\n",
    "corr_df = playerDf.corr().abs()\n",
    "\n",
    "\n",
    "# Create and apply mask\n",
    "mask = np.triu(np.ones_like(corr_df, dtype=bool))\n",
    "tri_df = corr_df.mask(mask)\n",
    "\n",
    "# Find columns that meet threshold\n",
    "features_to_drop = [c for c in tri_df.columns if any(tri_df[c] > 0.90)]\n",
    "print(features_to_drop)"
   ]
  },
  {
   "cell_type": "code",
   "execution_count": 7,
   "id": "bf4dd6c0",
   "metadata": {},
   "outputs": [
    {
     "name": "stdout",
     "output_type": "stream",
     "text": [
      "Shape of the DataFrame after removing highly correlated features: (61061, 43)\n"
     ]
    }
   ],
   "source": [
    "# Remove the highly correlated features from the DataFrame\n",
    "playerDf = playerDf.drop(columns=features_to_drop, axis=1)\n",
    "\n",
    "# Display the new shape of the DataFrame\n",
    "print(\"Shape of the DataFrame after removing highly correlated features:\", playerDf.shape)"
   ]
  },
  {
   "cell_type": "code",
   "execution_count": 8,
   "id": "25495ec6",
   "metadata": {},
   "outputs": [],
   "source": [
    "player_corr_matrix = playerDf.corr()\n",
    "\n",
    "# # Create a heatmap\n",
    "# plt.figure(figsize=(12, 10))\n",
    "# sns.heatmap(player_corr_matrix, fmt=\".2f\", linewidths=.5)\n",
    "# plt.title('Correlation Matrix Heatmap')\n",
    "# plt.show()"
   ]
  },
  {
   "cell_type": "markdown",
   "id": "75ff6935",
   "metadata": {},
   "source": [
    "KNN to fill in all NAN values"
   ]
  },
  {
   "cell_type": "code",
   "execution_count": 20,
   "id": "f6aa6657",
   "metadata": {},
   "outputs": [],
   "source": [
    "#if drafted, change to 1 \n",
    "playerDf.loc[playerDf[\"pick\"] > 0, \"pick\"] = 1\n",
    "#not drafted was nan, replace with 0 \n",
    "playerDf.loc[playerDf[\"pick\"] != 1, \"pick\"] = 0"
   ]
  },
  {
   "cell_type": "code",
   "execution_count": 22,
   "id": "53e37739",
   "metadata": {},
   "outputs": [],
   "source": [
    "#team_label_encoder = LabelEncoder()\n",
    "#playerDf['team'] = team_label_encoder.fit_transform(playerDf['team'])\n",
    "\n",
    "#conf_label_encoder = LabelEncoder()\n",
    "#playerDf['conf'] = conf_label_encoder.fit_transform(playerDf['conf'])\n",
    "\n",
    "role_position_label_encoder = LabelEncoder()\n",
    "playerDf['role_position'] = role_position_label_encoder.fit_transform(playerDf['role_position'])\n",
    "\n",
    "#player_name_label_encoder = LabelEncoder()\n",
    "#playerDf['player_name'] = player_name_label_encoder.fit_transform(playerDf['player_name'])"
   ]
  },
  {
   "cell_type": "code",
   "execution_count": 23,
   "id": "d2978867",
   "metadata": {},
   "outputs": [
    {
     "ename": "KeyboardInterrupt",
     "evalue": "",
     "output_type": "error",
     "traceback": [
      "\u001b[1;31m---------------------------------------------------------------------------\u001b[0m",
      "\u001b[1;31mKeyboardInterrupt\u001b[0m                         Traceback (most recent call last)",
      "\u001b[1;32mc:\\Users\\Steven\\source\\repos\\NCAA-Basketball-Player-Predictions-\\NCAA_Cleaned_Up.ipynb Cell 16\u001b[0m line \u001b[0;36m2\n\u001b[0;32m      <a href='vscode-notebook-cell:/c%3A/Users/Steven/source/repos/NCAA-Basketball-Player-Predictions-/NCAA_Cleaned_Up.ipynb#Y104sZmlsZQ%3D%3D?line=0'>1</a>\u001b[0m imputer \u001b[39m=\u001b[39m KNNImputer(n_neighbors\u001b[39m=\u001b[39m\u001b[39m10\u001b[39m)\n\u001b[1;32m----> <a href='vscode-notebook-cell:/c%3A/Users/Steven/source/repos/NCAA-Basketball-Player-Predictions-/NCAA_Cleaned_Up.ipynb#Y104sZmlsZQ%3D%3D?line=1'>2</a>\u001b[0m imputed_numeric \u001b[39m=\u001b[39m imputer\u001b[39m.\u001b[39;49mfit_transform(playerDf\u001b[39m.\u001b[39;49mselect_dtypes(include\u001b[39m=\u001b[39;49mnp\u001b[39m.\u001b[39;49mnumber))\n\u001b[0;32m      <a href='vscode-notebook-cell:/c%3A/Users/Steven/source/repos/NCAA-Basketball-Player-Predictions-/NCAA_Cleaned_Up.ipynb#Y104sZmlsZQ%3D%3D?line=2'>3</a>\u001b[0m dfBasketballTraining_filled \u001b[39m=\u001b[39m pd\u001b[39m.\u001b[39mDataFrame(imputed_numeric, columns\u001b[39m=\u001b[39mplayerDf\u001b[39m.\u001b[39mselect_dtypes(include\u001b[39m=\u001b[39mnp\u001b[39m.\u001b[39mnumber)\u001b[39m.\u001b[39mcolumns)\n\u001b[0;32m      <a href='vscode-notebook-cell:/c%3A/Users/Steven/source/repos/NCAA-Basketball-Player-Predictions-/NCAA_Cleaned_Up.ipynb#Y104sZmlsZQ%3D%3D?line=3'>4</a>\u001b[0m string_columns \u001b[39m=\u001b[39m playerDf\u001b[39m.\u001b[39mselect_dtypes(include\u001b[39m=\u001b[39m\u001b[39m'\u001b[39m\u001b[39mobject\u001b[39m\u001b[39m'\u001b[39m)\u001b[39m.\u001b[39mcolumns\n",
      "File \u001b[1;32m~\\AppData\\Local\\Packages\\PythonSoftwareFoundation.Python.3.11_qbz5n2kfra8p0\\LocalCache\\local-packages\\Python311\\site-packages\\sklearn\\utils\\_set_output.py:157\u001b[0m, in \u001b[0;36m_wrap_method_output.<locals>.wrapped\u001b[1;34m(self, X, *args, **kwargs)\u001b[0m\n\u001b[0;32m    155\u001b[0m \u001b[39m@wraps\u001b[39m(f)\n\u001b[0;32m    156\u001b[0m \u001b[39mdef\u001b[39;00m \u001b[39mwrapped\u001b[39m(\u001b[39mself\u001b[39m, X, \u001b[39m*\u001b[39margs, \u001b[39m*\u001b[39m\u001b[39m*\u001b[39mkwargs):\n\u001b[1;32m--> 157\u001b[0m     data_to_wrap \u001b[39m=\u001b[39m f(\u001b[39mself\u001b[39;49m, X, \u001b[39m*\u001b[39;49margs, \u001b[39m*\u001b[39;49m\u001b[39m*\u001b[39;49mkwargs)\n\u001b[0;32m    158\u001b[0m     \u001b[39mif\u001b[39;00m \u001b[39misinstance\u001b[39m(data_to_wrap, \u001b[39mtuple\u001b[39m):\n\u001b[0;32m    159\u001b[0m         \u001b[39m# only wrap the first output for cross decomposition\u001b[39;00m\n\u001b[0;32m    160\u001b[0m         return_tuple \u001b[39m=\u001b[39m (\n\u001b[0;32m    161\u001b[0m             _wrap_data_with_container(method, data_to_wrap[\u001b[39m0\u001b[39m], X, \u001b[39mself\u001b[39m),\n\u001b[0;32m    162\u001b[0m             \u001b[39m*\u001b[39mdata_to_wrap[\u001b[39m1\u001b[39m:],\n\u001b[0;32m    163\u001b[0m         )\n",
      "File \u001b[1;32m~\\AppData\\Local\\Packages\\PythonSoftwareFoundation.Python.3.11_qbz5n2kfra8p0\\LocalCache\\local-packages\\Python311\\site-packages\\sklearn\\base.py:916\u001b[0m, in \u001b[0;36mTransformerMixin.fit_transform\u001b[1;34m(self, X, y, **fit_params)\u001b[0m\n\u001b[0;32m    912\u001b[0m \u001b[39m# non-optimized default implementation; override when a better\u001b[39;00m\n\u001b[0;32m    913\u001b[0m \u001b[39m# method is possible for a given clustering algorithm\u001b[39;00m\n\u001b[0;32m    914\u001b[0m \u001b[39mif\u001b[39;00m y \u001b[39mis\u001b[39;00m \u001b[39mNone\u001b[39;00m:\n\u001b[0;32m    915\u001b[0m     \u001b[39m# fit method of arity 1 (unsupervised transformation)\u001b[39;00m\n\u001b[1;32m--> 916\u001b[0m     \u001b[39mreturn\u001b[39;00m \u001b[39mself\u001b[39;49m\u001b[39m.\u001b[39;49mfit(X, \u001b[39m*\u001b[39;49m\u001b[39m*\u001b[39;49mfit_params)\u001b[39m.\u001b[39;49mtransform(X)\n\u001b[0;32m    917\u001b[0m \u001b[39melse\u001b[39;00m:\n\u001b[0;32m    918\u001b[0m     \u001b[39m# fit method of arity 2 (supervised transformation)\u001b[39;00m\n\u001b[0;32m    919\u001b[0m     \u001b[39mreturn\u001b[39;00m \u001b[39mself\u001b[39m\u001b[39m.\u001b[39mfit(X, y, \u001b[39m*\u001b[39m\u001b[39m*\u001b[39mfit_params)\u001b[39m.\u001b[39mtransform(X)\n",
      "File \u001b[1;32m~\\AppData\\Local\\Packages\\PythonSoftwareFoundation.Python.3.11_qbz5n2kfra8p0\\LocalCache\\local-packages\\Python311\\site-packages\\sklearn\\utils\\_set_output.py:157\u001b[0m, in \u001b[0;36m_wrap_method_output.<locals>.wrapped\u001b[1;34m(self, X, *args, **kwargs)\u001b[0m\n\u001b[0;32m    155\u001b[0m \u001b[39m@wraps\u001b[39m(f)\n\u001b[0;32m    156\u001b[0m \u001b[39mdef\u001b[39;00m \u001b[39mwrapped\u001b[39m(\u001b[39mself\u001b[39m, X, \u001b[39m*\u001b[39margs, \u001b[39m*\u001b[39m\u001b[39m*\u001b[39mkwargs):\n\u001b[1;32m--> 157\u001b[0m     data_to_wrap \u001b[39m=\u001b[39m f(\u001b[39mself\u001b[39;49m, X, \u001b[39m*\u001b[39;49margs, \u001b[39m*\u001b[39;49m\u001b[39m*\u001b[39;49mkwargs)\n\u001b[0;32m    158\u001b[0m     \u001b[39mif\u001b[39;00m \u001b[39misinstance\u001b[39m(data_to_wrap, \u001b[39mtuple\u001b[39m):\n\u001b[0;32m    159\u001b[0m         \u001b[39m# only wrap the first output for cross decomposition\u001b[39;00m\n\u001b[0;32m    160\u001b[0m         return_tuple \u001b[39m=\u001b[39m (\n\u001b[0;32m    161\u001b[0m             _wrap_data_with_container(method, data_to_wrap[\u001b[39m0\u001b[39m], X, \u001b[39mself\u001b[39m),\n\u001b[0;32m    162\u001b[0m             \u001b[39m*\u001b[39mdata_to_wrap[\u001b[39m1\u001b[39m:],\n\u001b[0;32m    163\u001b[0m         )\n",
      "File \u001b[1;32m~\\AppData\\Local\\Packages\\PythonSoftwareFoundation.Python.3.11_qbz5n2kfra8p0\\LocalCache\\local-packages\\Python311\\site-packages\\sklearn\\impute\\_knn.py:365\u001b[0m, in \u001b[0;36mKNNImputer.transform\u001b[1;34m(self, X)\u001b[0m\n\u001b[0;32m    356\u001b[0m \u001b[39m# process in fixed-memory chunks\u001b[39;00m\n\u001b[0;32m    357\u001b[0m gen \u001b[39m=\u001b[39m pairwise_distances_chunked(\n\u001b[0;32m    358\u001b[0m     X[row_missing_idx, :],\n\u001b[0;32m    359\u001b[0m     \u001b[39mself\u001b[39m\u001b[39m.\u001b[39m_fit_X,\n\u001b[1;32m   (...)\u001b[0m\n\u001b[0;32m    363\u001b[0m     reduce_func\u001b[39m=\u001b[39mprocess_chunk,\n\u001b[0;32m    364\u001b[0m )\n\u001b[1;32m--> 365\u001b[0m \u001b[39mfor\u001b[39;49;00m chunk \u001b[39min\u001b[39;49;00m gen:\n\u001b[0;32m    366\u001b[0m     \u001b[39m# process_chunk modifies X in place. No return value.\u001b[39;49;00m\n\u001b[0;32m    367\u001b[0m     \u001b[39mpass\u001b[39;49;00m\n\u001b[0;32m    369\u001b[0m \u001b[39mif\u001b[39;00m \u001b[39mself\u001b[39m\u001b[39m.\u001b[39mkeep_empty_features:\n",
      "File \u001b[1;32m~\\AppData\\Local\\Packages\\PythonSoftwareFoundation.Python.3.11_qbz5n2kfra8p0\\LocalCache\\local-packages\\Python311\\site-packages\\sklearn\\metrics\\pairwise.py:2018\u001b[0m, in \u001b[0;36mpairwise_distances_chunked\u001b[1;34m(X, Y, reduce_func, metric, n_jobs, working_memory, **kwds)\u001b[0m\n\u001b[0;32m   2016\u001b[0m \u001b[39melse\u001b[39;00m:\n\u001b[0;32m   2017\u001b[0m     X_chunk \u001b[39m=\u001b[39m X[sl]\n\u001b[1;32m-> 2018\u001b[0m D_chunk \u001b[39m=\u001b[39m pairwise_distances(X_chunk, Y, metric\u001b[39m=\u001b[39;49mmetric, n_jobs\u001b[39m=\u001b[39;49mn_jobs, \u001b[39m*\u001b[39;49m\u001b[39m*\u001b[39;49mkwds)\n\u001b[0;32m   2019\u001b[0m \u001b[39mif\u001b[39;00m (X \u001b[39mis\u001b[39;00m Y \u001b[39mor\u001b[39;00m Y \u001b[39mis\u001b[39;00m \u001b[39mNone\u001b[39;00m) \u001b[39mand\u001b[39;00m PAIRWISE_DISTANCE_FUNCTIONS\u001b[39m.\u001b[39mget(\n\u001b[0;32m   2020\u001b[0m     metric, \u001b[39mNone\u001b[39;00m\n\u001b[0;32m   2021\u001b[0m ) \u001b[39mis\u001b[39;00m euclidean_distances:\n\u001b[0;32m   2022\u001b[0m     \u001b[39m# zeroing diagonal, taking care of aliases of \"euclidean\",\u001b[39;00m\n\u001b[0;32m   2023\u001b[0m     \u001b[39m# i.e. \"l2\"\u001b[39;00m\n\u001b[0;32m   2024\u001b[0m     D_chunk\u001b[39m.\u001b[39mflat[sl\u001b[39m.\u001b[39mstart :: _num_samples(X) \u001b[39m+\u001b[39m \u001b[39m1\u001b[39m] \u001b[39m=\u001b[39m \u001b[39m0\u001b[39m\n",
      "File \u001b[1;32m~\\AppData\\Local\\Packages\\PythonSoftwareFoundation.Python.3.11_qbz5n2kfra8p0\\LocalCache\\local-packages\\Python311\\site-packages\\sklearn\\metrics\\pairwise.py:2196\u001b[0m, in \u001b[0;36mpairwise_distances\u001b[1;34m(X, Y, metric, n_jobs, force_all_finite, **kwds)\u001b[0m\n\u001b[0;32m   2193\u001b[0m         \u001b[39mreturn\u001b[39;00m distance\u001b[39m.\u001b[39msquareform(distance\u001b[39m.\u001b[39mpdist(X, metric\u001b[39m=\u001b[39mmetric, \u001b[39m*\u001b[39m\u001b[39m*\u001b[39mkwds))\n\u001b[0;32m   2194\u001b[0m     func \u001b[39m=\u001b[39m partial(distance\u001b[39m.\u001b[39mcdist, metric\u001b[39m=\u001b[39mmetric, \u001b[39m*\u001b[39m\u001b[39m*\u001b[39mkwds)\n\u001b[1;32m-> 2196\u001b[0m \u001b[39mreturn\u001b[39;00m _parallel_pairwise(X, Y, func, n_jobs, \u001b[39m*\u001b[39;49m\u001b[39m*\u001b[39;49mkwds)\n",
      "File \u001b[1;32m~\\AppData\\Local\\Packages\\PythonSoftwareFoundation.Python.3.11_qbz5n2kfra8p0\\LocalCache\\local-packages\\Python311\\site-packages\\sklearn\\metrics\\pairwise.py:1766\u001b[0m, in \u001b[0;36m_parallel_pairwise\u001b[1;34m(X, Y, func, n_jobs, **kwds)\u001b[0m\n\u001b[0;32m   1763\u001b[0m X, Y, dtype \u001b[39m=\u001b[39m _return_float_dtype(X, Y)\n\u001b[0;32m   1765\u001b[0m \u001b[39mif\u001b[39;00m effective_n_jobs(n_jobs) \u001b[39m==\u001b[39m \u001b[39m1\u001b[39m:\n\u001b[1;32m-> 1766\u001b[0m     \u001b[39mreturn\u001b[39;00m func(X, Y, \u001b[39m*\u001b[39;49m\u001b[39m*\u001b[39;49mkwds)\n\u001b[0;32m   1768\u001b[0m \u001b[39m# enforce a threading backend to prevent data communication overhead\u001b[39;00m\n\u001b[0;32m   1769\u001b[0m fd \u001b[39m=\u001b[39m delayed(_dist_wrapper)\n",
      "File \u001b[1;32m~\\AppData\\Local\\Packages\\PythonSoftwareFoundation.Python.3.11_qbz5n2kfra8p0\\LocalCache\\local-packages\\Python311\\site-packages\\sklearn\\utils\\_param_validation.py:211\u001b[0m, in \u001b[0;36mvalidate_params.<locals>.decorator.<locals>.wrapper\u001b[1;34m(*args, **kwargs)\u001b[0m\n\u001b[0;32m    205\u001b[0m \u001b[39mtry\u001b[39;00m:\n\u001b[0;32m    206\u001b[0m     \u001b[39mwith\u001b[39;00m config_context(\n\u001b[0;32m    207\u001b[0m         skip_parameter_validation\u001b[39m=\u001b[39m(\n\u001b[0;32m    208\u001b[0m             prefer_skip_nested_validation \u001b[39mor\u001b[39;00m global_skip_validation\n\u001b[0;32m    209\u001b[0m         )\n\u001b[0;32m    210\u001b[0m     ):\n\u001b[1;32m--> 211\u001b[0m         \u001b[39mreturn\u001b[39;00m func(\u001b[39m*\u001b[39;49margs, \u001b[39m*\u001b[39;49m\u001b[39m*\u001b[39;49mkwargs)\n\u001b[0;32m    212\u001b[0m \u001b[39mexcept\u001b[39;00m InvalidParameterError \u001b[39mas\u001b[39;00m e:\n\u001b[0;32m    213\u001b[0m     \u001b[39m# When the function is just a wrapper around an estimator, we allow\u001b[39;00m\n\u001b[0;32m    214\u001b[0m     \u001b[39m# the function to delegate validation to the estimator, but we replace\u001b[39;00m\n\u001b[0;32m    215\u001b[0m     \u001b[39m# the name of the estimator by the name of the function in the error\u001b[39;00m\n\u001b[0;32m    216\u001b[0m     \u001b[39m# message to avoid confusion.\u001b[39;00m\n\u001b[0;32m    217\u001b[0m     msg \u001b[39m=\u001b[39m re\u001b[39m.\u001b[39msub(\n\u001b[0;32m    218\u001b[0m         \u001b[39mr\u001b[39m\u001b[39m\"\u001b[39m\u001b[39mparameter of \u001b[39m\u001b[39m\\\u001b[39m\u001b[39mw+ must be\u001b[39m\u001b[39m\"\u001b[39m,\n\u001b[0;32m    219\u001b[0m         \u001b[39mf\u001b[39m\u001b[39m\"\u001b[39m\u001b[39mparameter of \u001b[39m\u001b[39m{\u001b[39;00mfunc\u001b[39m.\u001b[39m\u001b[39m__qualname__\u001b[39m\u001b[39m}\u001b[39;00m\u001b[39m must be\u001b[39m\u001b[39m\"\u001b[39m,\n\u001b[0;32m    220\u001b[0m         \u001b[39mstr\u001b[39m(e),\n\u001b[0;32m    221\u001b[0m     )\n",
      "File \u001b[1;32m~\\AppData\\Local\\Packages\\PythonSoftwareFoundation.Python.3.11_qbz5n2kfra8p0\\LocalCache\\local-packages\\Python311\\site-packages\\sklearn\\metrics\\pairwise.py:511\u001b[0m, in \u001b[0;36mnan_euclidean_distances\u001b[1;34m(X, Y, squared, missing_values, copy)\u001b[0m\n\u001b[0;32m    509\u001b[0m present_X \u001b[39m=\u001b[39m \u001b[39m1\u001b[39m \u001b[39m-\u001b[39m missing_X\n\u001b[0;32m    510\u001b[0m present_Y \u001b[39m=\u001b[39m present_X \u001b[39mif\u001b[39;00m Y \u001b[39mis\u001b[39;00m X \u001b[39melse\u001b[39;00m \u001b[39m~\u001b[39mmissing_Y\n\u001b[1;32m--> 511\u001b[0m present_count \u001b[39m=\u001b[39m np\u001b[39m.\u001b[39;49mdot(present_X, present_Y\u001b[39m.\u001b[39;49mT)\n\u001b[0;32m    512\u001b[0m distances[present_count \u001b[39m==\u001b[39m \u001b[39m0\u001b[39m] \u001b[39m=\u001b[39m np\u001b[39m.\u001b[39mnan\n\u001b[0;32m    513\u001b[0m \u001b[39m# avoid divide by zero\u001b[39;00m\n",
      "\u001b[1;31mKeyboardInterrupt\u001b[0m: "
     ]
    }
   ],
   "source": [
    "imputer = KNNImputer(n_neighbors=10)\n",
    "imputed_numeric = imputer.fit_transform(playerDf.select_dtypes(include=np.number))\n",
    "dfBasketballTraining_filled = pd.DataFrame(imputed_numeric, columns=playerDf.select_dtypes(include=np.number).columns)\n",
    "string_columns = playerDf.select_dtypes(include='object').columns\n",
    "imputed_data = pd.concat([playerDf[string_columns], dfBasketballTraining_filled], axis=1)"
   ]
  },
  {
   "cell_type": "code",
   "execution_count": 12,
   "id": "28d296c9",
   "metadata": {},
   "outputs": [],
   "source": [
    "playerDf = pd.DataFrame(imputed_data, columns=playerDf.columns)"
   ]
  },
  {
   "cell_type": "markdown",
   "id": "e1ed4e26",
   "metadata": {},
   "source": [
    "Split into training and test \n",
    "\n",
    "Remove overlapping players based on 4 year college career so that the training set is all \"new\" players"
   ]
  },
  {
   "cell_type": "code",
   "execution_count": 28,
   "id": "21068dda",
   "metadata": {},
   "outputs": [],
   "source": [
    "trainDf=playerDf.loc[playerDf['year'] <2017]\n",
    "testDf= playerDf.loc[playerDf['year'] >= 2021]"
   ]
  },
  {
   "cell_type": "markdown",
   "id": "cea93f1a",
   "metadata": {},
   "source": [
    "Feature selection "
   ]
  },
  {
   "cell_type": "code",
   "execution_count": 14,
   "id": "dd75e00c",
   "metadata": {},
   "outputs": [
    {
     "name": "stdout",
     "output_type": "stream",
     "text": [
      "Selected features:\n",
      "Index(['GP', 'FTA', 'porpag', 'adjoe', 'midmade+midmiss',\n",
      "       'dunksmiss+dunksmade', 'adrtg', 'bpm', 'obpm', 'dbpm', 'ogbpm', 'dgbpm',\n",
      "       'pts'],\n",
      "      dtype='object')\n",
      "Feature importance scores:\n",
      "[0.01974546 0.01812142 0.01495799 0.03602123 0.01963879 0.01879017\n",
      " 0.01637709 0.01580989 0.0165297  0.0194236  0.02705902 0.01698366\n",
      " 0.0170594  0.01951758 0.0136119  0.01720388 0.01455087 0.01831332\n",
      " 0.05148607 0.03968478 0.01740149 0.01001954 0.02169502 0.02029286\n",
      " 0.03444535 0.01931278 0.01795    0.03732596 0.01494993 0.05847997\n",
      " 0.06227992 0.03084766 0.02576788 0.03402688 0.02826008 0.01884714\n",
      " 0.02171011 0.02016268 0.01791246 0.02323173 0.0264026  0.00779213]\n"
     ]
    }
   ],
   "source": [
    "from sklearn.ensemble import RandomForestClassifier\n",
    "from sklearn.feature_selection import SelectFromModel\n",
    "\n",
    "X = trainDf.drop(\"pick\", axis=1)\n",
    "y = trainDf[\"pick\"]\n",
    "\n",
    "X_train, X_test, y_train, y_test = train_test_split(X, y, test_size=0.3, random_state=42)\n",
    "\n",
    "# Fit a RandomForestClassifier\n",
    "rf_classifier = RandomForestClassifier(n_estimators=100)\n",
    "rf_classifier.fit(X_train, y_train)\n",
    "\n",
    "#importance\n",
    "sel = SelectFromModel(rf_classifier)\n",
    "sel.fit(X_train, y_train)\n",
    "\n",
    "# Get support and selected feature names\n",
    "selected_feature_indices = sel.get_support()\n",
    "selected_features = X_train.columns[selected_feature_indices]\n",
    "\n",
    "print(\"Selected features:\")\n",
    "print(selected_features)\n",
    "\n",
    "print(\"Feature importance scores:\")\n",
    "print(sel.estimator_.feature_importances_)\n"
   ]
  },
  {
   "cell_type": "code",
   "execution_count": 15,
   "id": "73755a45",
   "metadata": {},
   "outputs": [
    {
     "data": {
      "text/html": [
       "<div>\n",
       "<style scoped>\n",
       "    .dataframe tbody tr th:only-of-type {\n",
       "        vertical-align: middle;\n",
       "    }\n",
       "\n",
       "    .dataframe tbody tr th {\n",
       "        vertical-align: top;\n",
       "    }\n",
       "\n",
       "    .dataframe thead th {\n",
       "        text-align: right;\n",
       "    }\n",
       "</style>\n",
       "<table border=\"1\" class=\"dataframe\">\n",
       "  <thead>\n",
       "    <tr style=\"text-align: right;\">\n",
       "      <th></th>\n",
       "      <th>player_name</th>\n",
       "      <th>team</th>\n",
       "      <th>conf</th>\n",
       "      <th>GP</th>\n",
       "      <th>usg</th>\n",
       "      <th>TS_per</th>\n",
       "      <th>ORB_per</th>\n",
       "      <th>DRB_per</th>\n",
       "      <th>AST_per</th>\n",
       "      <th>TO_per</th>\n",
       "      <th>...</th>\n",
       "      <th>dbpm</th>\n",
       "      <th>ogbpm</th>\n",
       "      <th>dgbpm</th>\n",
       "      <th>oreb</th>\n",
       "      <th>treb</th>\n",
       "      <th>ast</th>\n",
       "      <th>stl</th>\n",
       "      <th>blk</th>\n",
       "      <th>pts</th>\n",
       "      <th>role_position</th>\n",
       "    </tr>\n",
       "  </thead>\n",
       "  <tbody>\n",
       "    <tr>\n",
       "      <th>4</th>\n",
       "      <td>1314.0</td>\n",
       "      <td>230.0</td>\n",
       "      <td>10.0</td>\n",
       "      <td>33.0</td>\n",
       "      <td>22.0</td>\n",
       "      <td>54.31</td>\n",
       "      <td>8.3</td>\n",
       "      <td>18.6</td>\n",
       "      <td>8.2</td>\n",
       "      <td>22.7</td>\n",
       "      <td>...</td>\n",
       "      <td>0.109983</td>\n",
       "      <td>-1.684860</td>\n",
       "      <td>-0.668318</td>\n",
       "      <td>1.4242</td>\n",
       "      <td>4.7273</td>\n",
       "      <td>0.8485</td>\n",
       "      <td>0.4545</td>\n",
       "      <td>0.3333</td>\n",
       "      <td>7.5758</td>\n",
       "      <td>8.0</td>\n",
       "    </tr>\n",
       "    <tr>\n",
       "      <th>685</th>\n",
       "      <td>1314.0</td>\n",
       "      <td>225.0</td>\n",
       "      <td>6.0</td>\n",
       "      <td>33.0</td>\n",
       "      <td>10.7</td>\n",
       "      <td>53.23</td>\n",
       "      <td>7.4</td>\n",
       "      <td>10.2</td>\n",
       "      <td>3.4</td>\n",
       "      <td>16.8</td>\n",
       "      <td>...</td>\n",
       "      <td>2.076820</td>\n",
       "      <td>-1.031820</td>\n",
       "      <td>1.490050</td>\n",
       "      <td>0.8485</td>\n",
       "      <td>2.0606</td>\n",
       "      <td>0.2727</td>\n",
       "      <td>0.2727</td>\n",
       "      <td>0.3939</td>\n",
       "      <td>2.3939</td>\n",
       "      <td>8.0</td>\n",
       "    </tr>\n",
       "    <tr>\n",
       "      <th>8409</th>\n",
       "      <td>1314.0</td>\n",
       "      <td>344.0</td>\n",
       "      <td>24.0</td>\n",
       "      <td>4.0</td>\n",
       "      <td>8.7</td>\n",
       "      <td>0.00</td>\n",
       "      <td>20.1</td>\n",
       "      <td>20.1</td>\n",
       "      <td>0.0</td>\n",
       "      <td>0.0</td>\n",
       "      <td>...</td>\n",
       "      <td>-6.670430</td>\n",
       "      <td>-3.675910</td>\n",
       "      <td>-5.352120</td>\n",
       "      <td>0.2500</td>\n",
       "      <td>0.5000</td>\n",
       "      <td>0.0000</td>\n",
       "      <td>0.0000</td>\n",
       "      <td>0.0000</td>\n",
       "      <td>0.0000</td>\n",
       "      <td>2.0</td>\n",
       "    </tr>\n",
       "    <tr>\n",
       "      <th>12523</th>\n",
       "      <td>1314.0</td>\n",
       "      <td>285.0</td>\n",
       "      <td>24.0</td>\n",
       "      <td>30.0</td>\n",
       "      <td>18.7</td>\n",
       "      <td>53.90</td>\n",
       "      <td>5.1</td>\n",
       "      <td>11.3</td>\n",
       "      <td>7.0</td>\n",
       "      <td>14.4</td>\n",
       "      <td>...</td>\n",
       "      <td>0.348772</td>\n",
       "      <td>2.725180</td>\n",
       "      <td>0.490090</td>\n",
       "      <td>1.0333</td>\n",
       "      <td>3.2333</td>\n",
       "      <td>0.7667</td>\n",
       "      <td>0.5333</td>\n",
       "      <td>0.2333</td>\n",
       "      <td>8.7000</td>\n",
       "      <td>6.0</td>\n",
       "    </tr>\n",
       "    <tr>\n",
       "      <th>15649</th>\n",
       "      <td>1314.0</td>\n",
       "      <td>285.0</td>\n",
       "      <td>25.0</td>\n",
       "      <td>37.0</td>\n",
       "      <td>18.8</td>\n",
       "      <td>49.47</td>\n",
       "      <td>4.2</td>\n",
       "      <td>15.5</td>\n",
       "      <td>8.5</td>\n",
       "      <td>17.3</td>\n",
       "      <td>...</td>\n",
       "      <td>1.698680</td>\n",
       "      <td>0.576665</td>\n",
       "      <td>1.461380</td>\n",
       "      <td>0.8649</td>\n",
       "      <td>4.0270</td>\n",
       "      <td>1.0270</td>\n",
       "      <td>0.6216</td>\n",
       "      <td>0.1081</td>\n",
       "      <td>8.0811</td>\n",
       "      <td>7.0</td>\n",
       "    </tr>\n",
       "    <tr>\n",
       "      <th>19376</th>\n",
       "      <td>1314.0</td>\n",
       "      <td>285.0</td>\n",
       "      <td>25.0</td>\n",
       "      <td>4.0</td>\n",
       "      <td>17.0</td>\n",
       "      <td>28.64</td>\n",
       "      <td>1.6</td>\n",
       "      <td>13.3</td>\n",
       "      <td>2.6</td>\n",
       "      <td>24.7</td>\n",
       "      <td>...</td>\n",
       "      <td>-0.184311</td>\n",
       "      <td>-6.919020</td>\n",
       "      <td>-0.210866</td>\n",
       "      <td>0.2500</td>\n",
       "      <td>2.2500</td>\n",
       "      <td>0.2500</td>\n",
       "      <td>0.2500</td>\n",
       "      <td>0.2500</td>\n",
       "      <td>3.0000</td>\n",
       "      <td>6.0</td>\n",
       "    </tr>\n",
       "    <tr>\n",
       "      <th>23376</th>\n",
       "      <td>1314.0</td>\n",
       "      <td>285.0</td>\n",
       "      <td>25.0</td>\n",
       "      <td>36.0</td>\n",
       "      <td>18.5</td>\n",
       "      <td>61.00</td>\n",
       "      <td>3.3</td>\n",
       "      <td>13.9</td>\n",
       "      <td>12.4</td>\n",
       "      <td>18.5</td>\n",
       "      <td>...</td>\n",
       "      <td>1.458420</td>\n",
       "      <td>2.716590</td>\n",
       "      <td>1.409900</td>\n",
       "      <td>0.9167</td>\n",
       "      <td>5.0000</td>\n",
       "      <td>2.0833</td>\n",
       "      <td>0.8611</td>\n",
       "      <td>0.1111</td>\n",
       "      <td>12.3056</td>\n",
       "      <td>7.0</td>\n",
       "    </tr>\n",
       "    <tr>\n",
       "      <th>27789</th>\n",
       "      <td>1314.0</td>\n",
       "      <td>285.0</td>\n",
       "      <td>25.0</td>\n",
       "      <td>37.0</td>\n",
       "      <td>21.2</td>\n",
       "      <td>57.30</td>\n",
       "      <td>3.8</td>\n",
       "      <td>18.8</td>\n",
       "      <td>15.2</td>\n",
       "      <td>15.7</td>\n",
       "      <td>...</td>\n",
       "      <td>1.418250</td>\n",
       "      <td>5.257200</td>\n",
       "      <td>1.035880</td>\n",
       "      <td>1.1351</td>\n",
       "      <td>6.9189</td>\n",
       "      <td>2.5405</td>\n",
       "      <td>0.7568</td>\n",
       "      <td>0.1892</td>\n",
       "      <td>14.7838</td>\n",
       "      <td>7.0</td>\n",
       "    </tr>\n",
       "    <tr>\n",
       "      <th>36508</th>\n",
       "      <td>1314.0</td>\n",
       "      <td>109.0</td>\n",
       "      <td>14.0</td>\n",
       "      <td>27.0</td>\n",
       "      <td>12.7</td>\n",
       "      <td>49.88</td>\n",
       "      <td>1.7</td>\n",
       "      <td>10.9</td>\n",
       "      <td>9.1</td>\n",
       "      <td>22.8</td>\n",
       "      <td>...</td>\n",
       "      <td>-1.334410</td>\n",
       "      <td>-3.841620</td>\n",
       "      <td>-0.478065</td>\n",
       "      <td>0.1852</td>\n",
       "      <td>1.2593</td>\n",
       "      <td>0.6296</td>\n",
       "      <td>0.4074</td>\n",
       "      <td>0.0000</td>\n",
       "      <td>2.3333</td>\n",
       "      <td>7.0</td>\n",
       "    </tr>\n",
       "  </tbody>\n",
       "</table>\n",
       "<p>9 rows × 43 columns</p>\n",
       "</div>"
      ],
      "text/plain": [
       "       player_name   team  conf    GP   usg  TS_per  ORB_per  DRB_per  \\\n",
       "4           1314.0  230.0  10.0  33.0  22.0   54.31      8.3     18.6   \n",
       "685         1314.0  225.0   6.0  33.0  10.7   53.23      7.4     10.2   \n",
       "8409        1314.0  344.0  24.0   4.0   8.7    0.00     20.1     20.1   \n",
       "12523       1314.0  285.0  24.0  30.0  18.7   53.90      5.1     11.3   \n",
       "15649       1314.0  285.0  25.0  37.0  18.8   49.47      4.2     15.5   \n",
       "19376       1314.0  285.0  25.0   4.0  17.0   28.64      1.6     13.3   \n",
       "23376       1314.0  285.0  25.0  36.0  18.5   61.00      3.3     13.9   \n",
       "27789       1314.0  285.0  25.0  37.0  21.2   57.30      3.8     18.8   \n",
       "36508       1314.0  109.0  14.0  27.0  12.7   49.88      1.7     10.9   \n",
       "\n",
       "       AST_per  TO_per  ...      dbpm     ogbpm     dgbpm    oreb    treb  \\\n",
       "4          8.2    22.7  ...  0.109983 -1.684860 -0.668318  1.4242  4.7273   \n",
       "685        3.4    16.8  ...  2.076820 -1.031820  1.490050  0.8485  2.0606   \n",
       "8409       0.0     0.0  ... -6.670430 -3.675910 -5.352120  0.2500  0.5000   \n",
       "12523      7.0    14.4  ...  0.348772  2.725180  0.490090  1.0333  3.2333   \n",
       "15649      8.5    17.3  ...  1.698680  0.576665  1.461380  0.8649  4.0270   \n",
       "19376      2.6    24.7  ... -0.184311 -6.919020 -0.210866  0.2500  2.2500   \n",
       "23376     12.4    18.5  ...  1.458420  2.716590  1.409900  0.9167  5.0000   \n",
       "27789     15.2    15.7  ...  1.418250  5.257200  1.035880  1.1351  6.9189   \n",
       "36508      9.1    22.8  ... -1.334410 -3.841620 -0.478065  0.1852  1.2593   \n",
       "\n",
       "          ast     stl     blk      pts  role_position  \n",
       "4      0.8485  0.4545  0.3333   7.5758            8.0  \n",
       "685    0.2727  0.2727  0.3939   2.3939            8.0  \n",
       "8409   0.0000  0.0000  0.0000   0.0000            2.0  \n",
       "12523  0.7667  0.5333  0.2333   8.7000            6.0  \n",
       "15649  1.0270  0.6216  0.1081   8.0811            7.0  \n",
       "19376  0.2500  0.2500  0.2500   3.0000            6.0  \n",
       "23376  2.0833  0.8611  0.1111  12.3056            7.0  \n",
       "27789  2.5405  0.7568  0.1892  14.7838            7.0  \n",
       "36508  0.6296  0.4074  0.0000   2.3333            7.0  \n",
       "\n",
       "[9 rows x 43 columns]"
      ]
     },
     "execution_count": 15,
     "metadata": {},
     "output_type": "execute_result"
    }
   ],
   "source": [
    "trainDf.loc[trainDf['player_name']==1314.0 ]"
   ]
  },
  {
   "cell_type": "markdown",
   "id": "a67ed9b5",
   "metadata": {},
   "source": [
    "## Model"
   ]
  },
  {
   "cell_type": "code",
   "execution_count": 24,
   "id": "e3c44aad",
   "metadata": {},
   "outputs": [],
   "source": [
    "from sklearn.model_selection import train_test_split\n",
    "from sklearn.linear_model import LogisticRegression\n",
    "from sklearn.tree import DecisionTreeClassifier\n",
    "from sklearn.svm import SVC\n",
    "from sklearn.ensemble import RandomForestClassifier, VotingClassifier\n",
    "from sklearn.metrics import accuracy_score\n",
    "from sklearn.metrics import precision_score, recall_score, f1_score"
   ]
  },
  {
   "cell_type": "code",
   "execution_count": 25,
   "id": "51323c1d",
   "metadata": {},
   "outputs": [],
   "source": [
    "#Trying with k-fold cross validation "
   ]
  },
  {
   "cell_type": "code",
   "execution_count": 26,
   "id": "f5977ce0",
   "metadata": {},
   "outputs": [],
   "source": [
    "def get_training_data(dataframe, replacement, features = 13, multiplicity = 10):\n",
    "    trainingCount = int(features*multiplicity/2)\n",
    "    not_drafted = dataframe[dataframe['pick'] == 0].sample(n=trainingCount, replace=replacement)\n",
    "    drafted = dataframe[dataframe['pick'] == 1].sample(n=trainingCount, replace=replacement)\n",
    "    return pd.concat([not_drafted, drafted], ignore_index=True)\n",
    "    "
   ]
  },
  {
   "cell_type": "code",
   "execution_count": 71,
   "id": "8e768a44",
   "metadata": {},
   "outputs": [
    {
     "name": "stdout",
     "output_type": "stream",
     "text": [
      "<class 'pandas.core.frame.DataFrame'>\n",
      "RangeIndex: 130 entries, 0 to 129\n",
      "Data columns (total 56 columns):\n",
      " #   Column                           Non-Null Count  Dtype  \n",
      "---  ------                           --------------  -----  \n",
      " 0   GP                               130 non-null    int64  \n",
      " 1   Min_per                          130 non-null    float64\n",
      " 2   Ortg                             130 non-null    float64\n",
      " 3   usg                              130 non-null    float64\n",
      " 4   eFG                              130 non-null    float64\n",
      " 5   TS_per                           130 non-null    float64\n",
      " 6   ORB_per                          130 non-null    float64\n",
      " 7   DRB_per                          130 non-null    float64\n",
      " 8   AST_per                          130 non-null    float64\n",
      " 9   TO_per                           130 non-null    float64\n",
      " 10  FTM                              130 non-null    int64  \n",
      " 11  FTA                              130 non-null    int64  \n",
      " 12  FT_per                           130 non-null    float64\n",
      " 13  twoPM                            130 non-null    int64  \n",
      " 14  twoPA                            130 non-null    int64  \n",
      " 15  twoP_per                         130 non-null    float64\n",
      " 16  TPM                              130 non-null    int64  \n",
      " 17  TPA                              130 non-null    int64  \n",
      " 18  TP_per                           130 non-null    float64\n",
      " 19  blk_per                          130 non-null    float64\n",
      " 20  stl_per                          130 non-null    float64\n",
      " 21  ftr                              130 non-null    float64\n",
      " 22  porpag                           130 non-null    float64\n",
      " 23  adjoe                            130 non-null    float64\n",
      " 24  pfr                              130 non-null    float64\n",
      " 25  year                             130 non-null    int64  \n",
      " 26  ast/tov                          128 non-null    float64\n",
      " 27  rimmade                          109 non-null    float64\n",
      " 28  rimmade+rimmiss                  109 non-null    float64\n",
      " 29  midmade                          109 non-null    float64\n",
      " 30  midmade+midmiss                  109 non-null    float64\n",
      " 31  rimmade/(rimmade+rimmiss)        107 non-null    float64\n",
      " 32  midmade/(midmade+midmiss)        107 non-null    float64\n",
      " 33  dunksmade                        109 non-null    float64\n",
      " 34  dunksmiss+dunksmade              109 non-null    float64\n",
      " 35  dunksmade/(dunksmade+dunksmiss)  83 non-null     float64\n",
      " 36  pick                             130 non-null    float64\n",
      " 37  drtg                             130 non-null    float64\n",
      " 38  adrtg                            130 non-null    float64\n",
      " 39  dporpag                          130 non-null    float64\n",
      " 40  stops                            130 non-null    float64\n",
      " 41  bpm                              130 non-null    float64\n",
      " 42  obpm                             130 non-null    float64\n",
      " 43  dbpm                             130 non-null    float64\n",
      " 44  gbpm                             130 non-null    float64\n",
      " 45  mp                               130 non-null    float64\n",
      " 46  ogbpm                            130 non-null    float64\n",
      " 47  dgbpm                            130 non-null    float64\n",
      " 48  oreb                             130 non-null    float64\n",
      " 49  dreb                             130 non-null    float64\n",
      " 50  treb                             130 non-null    float64\n",
      " 51  ast                              130 non-null    float64\n",
      " 52  stl                              130 non-null    float64\n",
      " 53  blk                              130 non-null    float64\n",
      " 54  pts                              130 non-null    float64\n",
      " 55  role_position                    130 non-null    int32  \n",
      "dtypes: float64(47), int32(1), int64(8)\n",
      "memory usage: 56.5 KB\n"
     ]
    }
   ],
   "source": [
    "#get divided training data for k-crossfold validation \n",
    "#all features (no pick)\n",
    "# features=['usg', 'DRB_per', 'AST_per', 'TO_per',  'twoP_per', 'blk_per', 'porpag','bpm', 'dbpm', 'ogbpm', 'dgbpm']\n",
    "# features = ['GP', 'FTA', 'porpag', 'adjoe', 'adrtg', 'bpm', 'obpm', 'dbpm', 'ogbpm', 'dgbpm','blk', 'pts']\n",
    "# features = ['GP', 'FTA', 'porpag', 'adjoe', 'adrtg', 'bpm', 'obpm', 'dbpm', 'blk', 'pts']\n",
    "features=['porpag', 'adjoe','adrtg', 'bpm', 'obpm', 'dbpm', 'ogbpm', 'dgbpm', 'pts']\n",
    "\n",
    "# features= selected_features\n",
    "\n",
    "numFeatures= len(features)\n",
    "rows=trainDf.shape[0]\n",
    "numSets=5\n",
    "perSet = int(rows/numSets)\n",
    "\n",
    "#shuffle\n",
    "trainDf = trainDf.sample(frac=1, random_state=42).reset_index(drop=True)\n",
    "\n",
    "set1=get_training_data(trainDf, False) \n",
    "set1.info()\n",
    "#set will inclide any extera entries \n",
    "trainingSets = [get_training_data(trainDf, False), get_training_data(trainDf, False), get_training_data(trainDf, False), get_training_data(trainDf, False)]\n"
   ]
  },
  {
   "cell_type": "code",
   "execution_count": 72,
   "id": "66c5ccf3",
   "metadata": {},
   "outputs": [],
   "source": [
    "def kFoldTrain(model, sets, features, target='pick'):\n",
    "    prefMetrics = {'Precision': [], 'Recall': [], 'F1 Score': []}\n",
    "\n",
    "    for j in range(len(sets)):\n",
    "        valSet=sets[j]\n",
    "        \n",
    "        for i in range(len(sets)):\n",
    "            #dont train validation set against validation set \n",
    "            if i!=j: \n",
    "            \n",
    "                #remove target variable pick from the training and the testing data \n",
    "                trainSet=sets[i]\n",
    "                trainNoTarget=trainSet[features]\n",
    "                trainTarget=trainSet[target]\n",
    "                valNoTarget=valSet[features]\n",
    "                valTarget=valSet[target]\n",
    "                \n",
    "                #train \n",
    "                model.fit(trainNoTarget, trainTarget)\n",
    "                \n",
    "                predVals = model.predict(valNoTarget)\n",
    "                \n",
    "                prefMetrics['Precision'].append(precision_score(valTarget, predVals))\n",
    "                prefMetrics['Recall'].append(recall_score(valTarget, predVals))\n",
    "                prefMetrics['F1 Score'].append(f1_score(valTarget, predVals))\n",
    "            \n",
    "    return prefMetrics \n",
    "                "
   ]
  },
  {
   "cell_type": "code",
   "execution_count": 73,
   "id": "f8f0e9a5",
   "metadata": {},
   "outputs": [],
   "source": [
    "#citations: \n",
    "#video: https://aleksandarhaber.com/ensemble-learning-in-scikit-learn-voting-classifiers/\n",
    "#Documentation: https://scikit-learn.org/stable/modules/generated/sklearn.ensemble.VotingClassifier.html\n",
    "#build model \n",
    "\n",
    "#the 3 models for the ensemble \n",
    "logreg = LogisticRegression(multi_class='multinomial', max_iter=2000, random_state=42)\n",
    "randFor = RandomForestClassifier(n_estimators=50, random_state=15)\n",
    "svm = SVC(probability=True, random_state=1) \n",
    "\n",
    "# voting ensemble classifier \n",
    "model = VotingClassifier(estimators=[('lr', logreg), ('rf', randFor), ('svm', svm)], voting='hard')\n",
    "\n",
    "trainMetrics=kFoldTrain(model, trainingSets, features)\n"
   ]
  },
  {
   "cell_type": "code",
   "execution_count": 74,
   "id": "7fdc5541",
   "metadata": {},
   "outputs": [
    {
     "data": {
      "text/html": [
       "<div>\n",
       "<style scoped>\n",
       "    .dataframe tbody tr th:only-of-type {\n",
       "        vertical-align: middle;\n",
       "    }\n",
       "\n",
       "    .dataframe tbody tr th {\n",
       "        vertical-align: top;\n",
       "    }\n",
       "\n",
       "    .dataframe thead th {\n",
       "        text-align: right;\n",
       "    }\n",
       "</style>\n",
       "<table border=\"1\" class=\"dataframe\">\n",
       "  <thead>\n",
       "    <tr style=\"text-align: right;\">\n",
       "      <th></th>\n",
       "      <th>Precision</th>\n",
       "      <th>Recall</th>\n",
       "      <th>F1 Score</th>\n",
       "    </tr>\n",
       "  </thead>\n",
       "  <tbody>\n",
       "    <tr>\n",
       "      <th>0</th>\n",
       "      <td>0.820896</td>\n",
       "      <td>0.846154</td>\n",
       "      <td>0.833333</td>\n",
       "    </tr>\n",
       "    <tr>\n",
       "      <th>1</th>\n",
       "      <td>0.848485</td>\n",
       "      <td>0.861538</td>\n",
       "      <td>0.854962</td>\n",
       "    </tr>\n",
       "    <tr>\n",
       "      <th>2</th>\n",
       "      <td>0.841270</td>\n",
       "      <td>0.815385</td>\n",
       "      <td>0.828125</td>\n",
       "    </tr>\n",
       "    <tr>\n",
       "      <th>3</th>\n",
       "      <td>0.884058</td>\n",
       "      <td>0.938462</td>\n",
       "      <td>0.910448</td>\n",
       "    </tr>\n",
       "    <tr>\n",
       "      <th>4</th>\n",
       "      <td>0.898551</td>\n",
       "      <td>0.953846</td>\n",
       "      <td>0.925373</td>\n",
       "    </tr>\n",
       "    <tr>\n",
       "      <th>5</th>\n",
       "      <td>0.876923</td>\n",
       "      <td>0.876923</td>\n",
       "      <td>0.876923</td>\n",
       "    </tr>\n",
       "    <tr>\n",
       "      <th>6</th>\n",
       "      <td>0.842857</td>\n",
       "      <td>0.907692</td>\n",
       "      <td>0.874074</td>\n",
       "    </tr>\n",
       "    <tr>\n",
       "      <th>7</th>\n",
       "      <td>0.859155</td>\n",
       "      <td>0.938462</td>\n",
       "      <td>0.897059</td>\n",
       "    </tr>\n",
       "    <tr>\n",
       "      <th>8</th>\n",
       "      <td>0.850746</td>\n",
       "      <td>0.876923</td>\n",
       "      <td>0.863636</td>\n",
       "    </tr>\n",
       "    <tr>\n",
       "      <th>9</th>\n",
       "      <td>0.784810</td>\n",
       "      <td>0.953846</td>\n",
       "      <td>0.861111</td>\n",
       "    </tr>\n",
       "    <tr>\n",
       "      <th>10</th>\n",
       "      <td>0.794872</td>\n",
       "      <td>0.953846</td>\n",
       "      <td>0.867133</td>\n",
       "    </tr>\n",
       "    <tr>\n",
       "      <th>11</th>\n",
       "      <td>0.794872</td>\n",
       "      <td>0.953846</td>\n",
       "      <td>0.867133</td>\n",
       "    </tr>\n",
       "  </tbody>\n",
       "</table>\n",
       "</div>"
      ],
      "text/plain": [
       "    Precision    Recall  F1 Score\n",
       "0    0.820896  0.846154  0.833333\n",
       "1    0.848485  0.861538  0.854962\n",
       "2    0.841270  0.815385  0.828125\n",
       "3    0.884058  0.938462  0.910448\n",
       "4    0.898551  0.953846  0.925373\n",
       "5    0.876923  0.876923  0.876923\n",
       "6    0.842857  0.907692  0.874074\n",
       "7    0.859155  0.938462  0.897059\n",
       "8    0.850746  0.876923  0.863636\n",
       "9    0.784810  0.953846  0.861111\n",
       "10   0.794872  0.953846  0.867133\n",
       "11   0.794872  0.953846  0.867133"
      ]
     },
     "execution_count": 74,
     "metadata": {},
     "output_type": "execute_result"
    }
   ],
   "source": [
    "pd.DataFrame(trainMetrics)\n"
   ]
  },
  {
   "cell_type": "code",
   "execution_count": 75,
   "id": "7b87edfe",
   "metadata": {
    "scrolled": true
   },
   "outputs": [
    {
     "ename": "ValueError",
     "evalue": "Input X contains NaN.\nLogisticRegression does not accept missing values encoded as NaN natively. For supervised learning, you might want to consider sklearn.ensemble.HistGradientBoostingClassifier and Regressor which accept missing values encoded as NaNs natively. Alternatively, it is possible to preprocess the data, for instance by using an imputer transformer in a pipeline or drop samples with missing values. See https://scikit-learn.org/stable/modules/impute.html You can find a list of all estimators that handle NaN values at the following page: https://scikit-learn.org/stable/modules/impute.html#estimators-that-handle-nan-values",
     "output_type": "error",
     "traceback": [
      "\u001b[1;31m---------------------------------------------------------------------------\u001b[0m",
      "\u001b[1;31mValueError\u001b[0m                                Traceback (most recent call last)",
      "\u001b[1;32mc:\\Users\\Steven\\source\\repos\\NCAA-Basketball-Player-Predictions-\\NCAA_Cleaned_Up.ipynb Cell 31\u001b[0m line \u001b[0;36m6\n\u001b[0;32m      <a href='vscode-notebook-cell:/c%3A/Users/Steven/source/repos/NCAA-Basketball-Player-Predictions-/NCAA_Cleaned_Up.ipynb#Y120sZmlsZQ%3D%3D?line=2'>3</a>\u001b[0m testPick\u001b[39m=\u001b[39mtestDf[\u001b[39m'\u001b[39m\u001b[39mpick\u001b[39m\u001b[39m'\u001b[39m]\n\u001b[0;32m      <a href='vscode-notebook-cell:/c%3A/Users/Steven/source/repos/NCAA-Basketball-Player-Predictions-/NCAA_Cleaned_Up.ipynb#Y120sZmlsZQ%3D%3D?line=4'>5</a>\u001b[0m \u001b[39m# Predict if player was selected for the draft on the test set\u001b[39;00m\n\u001b[1;32m----> <a href='vscode-notebook-cell:/c%3A/Users/Steven/source/repos/NCAA-Basketball-Player-Predictions-/NCAA_Cleaned_Up.ipynb#Y120sZmlsZQ%3D%3D?line=5'>6</a>\u001b[0m predTest \u001b[39m=\u001b[39m model\u001b[39m.\u001b[39;49mpredict(testNoPick)\n",
      "File \u001b[1;32m~\\AppData\\Local\\Packages\\PythonSoftwareFoundation.Python.3.11_qbz5n2kfra8p0\\LocalCache\\local-packages\\Python311\\site-packages\\sklearn\\ensemble\\_voting.py:369\u001b[0m, in \u001b[0;36mVotingClassifier.predict\u001b[1;34m(self, X)\u001b[0m\n\u001b[0;32m    366\u001b[0m     maj \u001b[39m=\u001b[39m np\u001b[39m.\u001b[39margmax(\u001b[39mself\u001b[39m\u001b[39m.\u001b[39mpredict_proba(X), axis\u001b[39m=\u001b[39m\u001b[39m1\u001b[39m)\n\u001b[0;32m    368\u001b[0m \u001b[39melse\u001b[39;00m:  \u001b[39m# 'hard' voting\u001b[39;00m\n\u001b[1;32m--> 369\u001b[0m     predictions \u001b[39m=\u001b[39m \u001b[39mself\u001b[39;49m\u001b[39m.\u001b[39;49m_predict(X)\n\u001b[0;32m    370\u001b[0m     maj \u001b[39m=\u001b[39m np\u001b[39m.\u001b[39mapply_along_axis(\n\u001b[0;32m    371\u001b[0m         \u001b[39mlambda\u001b[39;00m x: np\u001b[39m.\u001b[39margmax(np\u001b[39m.\u001b[39mbincount(x, weights\u001b[39m=\u001b[39m\u001b[39mself\u001b[39m\u001b[39m.\u001b[39m_weights_not_none)),\n\u001b[0;32m    372\u001b[0m         axis\u001b[39m=\u001b[39m\u001b[39m1\u001b[39m,\n\u001b[0;32m    373\u001b[0m         arr\u001b[39m=\u001b[39mpredictions,\n\u001b[0;32m    374\u001b[0m     )\n\u001b[0;32m    376\u001b[0m maj \u001b[39m=\u001b[39m \u001b[39mself\u001b[39m\u001b[39m.\u001b[39mle_\u001b[39m.\u001b[39minverse_transform(maj)\n",
      "File \u001b[1;32m~\\AppData\\Local\\Packages\\PythonSoftwareFoundation.Python.3.11_qbz5n2kfra8p0\\LocalCache\\local-packages\\Python311\\site-packages\\sklearn\\ensemble\\_voting.py:68\u001b[0m, in \u001b[0;36m_BaseVoting._predict\u001b[1;34m(self, X)\u001b[0m\n\u001b[0;32m     66\u001b[0m \u001b[39mdef\u001b[39;00m \u001b[39m_predict\u001b[39m(\u001b[39mself\u001b[39m, X):\n\u001b[0;32m     67\u001b[0m \u001b[39m    \u001b[39m\u001b[39m\"\"\"Collect results from clf.predict calls.\"\"\"\u001b[39;00m\n\u001b[1;32m---> 68\u001b[0m     \u001b[39mreturn\u001b[39;00m np\u001b[39m.\u001b[39masarray([est\u001b[39m.\u001b[39;49mpredict(X) \u001b[39mfor\u001b[39;49;00m est \u001b[39min\u001b[39;49;00m \u001b[39mself\u001b[39;49m\u001b[39m.\u001b[39;49mestimators_])\u001b[39m.\u001b[39mT\n",
      "File \u001b[1;32m~\\AppData\\Local\\Packages\\PythonSoftwareFoundation.Python.3.11_qbz5n2kfra8p0\\LocalCache\\local-packages\\Python311\\site-packages\\sklearn\\ensemble\\_voting.py:68\u001b[0m, in \u001b[0;36m<listcomp>\u001b[1;34m(.0)\u001b[0m\n\u001b[0;32m     66\u001b[0m \u001b[39mdef\u001b[39;00m \u001b[39m_predict\u001b[39m(\u001b[39mself\u001b[39m, X):\n\u001b[0;32m     67\u001b[0m \u001b[39m    \u001b[39m\u001b[39m\"\"\"Collect results from clf.predict calls.\"\"\"\u001b[39;00m\n\u001b[1;32m---> 68\u001b[0m     \u001b[39mreturn\u001b[39;00m np\u001b[39m.\u001b[39masarray([est\u001b[39m.\u001b[39;49mpredict(X) \u001b[39mfor\u001b[39;00m est \u001b[39min\u001b[39;00m \u001b[39mself\u001b[39m\u001b[39m.\u001b[39mestimators_])\u001b[39m.\u001b[39mT\n",
      "File \u001b[1;32m~\\AppData\\Local\\Packages\\PythonSoftwareFoundation.Python.3.11_qbz5n2kfra8p0\\LocalCache\\local-packages\\Python311\\site-packages\\sklearn\\linear_model\\_base.py:451\u001b[0m, in \u001b[0;36mLinearClassifierMixin.predict\u001b[1;34m(self, X)\u001b[0m\n\u001b[0;32m    437\u001b[0m \u001b[39m\u001b[39m\u001b[39m\"\"\"\u001b[39;00m\n\u001b[0;32m    438\u001b[0m \u001b[39mPredict class labels for samples in X.\u001b[39;00m\n\u001b[0;32m    439\u001b[0m \n\u001b[1;32m   (...)\u001b[0m\n\u001b[0;32m    448\u001b[0m \u001b[39m    Vector containing the class labels for each sample.\u001b[39;00m\n\u001b[0;32m    449\u001b[0m \u001b[39m\"\"\"\u001b[39;00m\n\u001b[0;32m    450\u001b[0m xp, _ \u001b[39m=\u001b[39m get_namespace(X)\n\u001b[1;32m--> 451\u001b[0m scores \u001b[39m=\u001b[39m \u001b[39mself\u001b[39;49m\u001b[39m.\u001b[39;49mdecision_function(X)\n\u001b[0;32m    452\u001b[0m \u001b[39mif\u001b[39;00m \u001b[39mlen\u001b[39m(scores\u001b[39m.\u001b[39mshape) \u001b[39m==\u001b[39m \u001b[39m1\u001b[39m:\n\u001b[0;32m    453\u001b[0m     indices \u001b[39m=\u001b[39m xp\u001b[39m.\u001b[39mastype(scores \u001b[39m>\u001b[39m \u001b[39m0\u001b[39m, \u001b[39mint\u001b[39m)\n",
      "File \u001b[1;32m~\\AppData\\Local\\Packages\\PythonSoftwareFoundation.Python.3.11_qbz5n2kfra8p0\\LocalCache\\local-packages\\Python311\\site-packages\\sklearn\\linear_model\\_base.py:432\u001b[0m, in \u001b[0;36mLinearClassifierMixin.decision_function\u001b[1;34m(self, X)\u001b[0m\n\u001b[0;32m    429\u001b[0m check_is_fitted(\u001b[39mself\u001b[39m)\n\u001b[0;32m    430\u001b[0m xp, _ \u001b[39m=\u001b[39m get_namespace(X)\n\u001b[1;32m--> 432\u001b[0m X \u001b[39m=\u001b[39m \u001b[39mself\u001b[39;49m\u001b[39m.\u001b[39;49m_validate_data(X, accept_sparse\u001b[39m=\u001b[39;49m\u001b[39m\"\u001b[39;49m\u001b[39mcsr\u001b[39;49m\u001b[39m\"\u001b[39;49m, reset\u001b[39m=\u001b[39;49m\u001b[39mFalse\u001b[39;49;00m)\n\u001b[0;32m    433\u001b[0m scores \u001b[39m=\u001b[39m safe_sparse_dot(X, \u001b[39mself\u001b[39m\u001b[39m.\u001b[39mcoef_\u001b[39m.\u001b[39mT, dense_output\u001b[39m=\u001b[39m\u001b[39mTrue\u001b[39;00m) \u001b[39m+\u001b[39m \u001b[39mself\u001b[39m\u001b[39m.\u001b[39mintercept_\n\u001b[0;32m    434\u001b[0m \u001b[39mreturn\u001b[39;00m xp\u001b[39m.\u001b[39mreshape(scores, (\u001b[39m-\u001b[39m\u001b[39m1\u001b[39m,)) \u001b[39mif\u001b[39;00m scores\u001b[39m.\u001b[39mshape[\u001b[39m1\u001b[39m] \u001b[39m==\u001b[39m \u001b[39m1\u001b[39m \u001b[39melse\u001b[39;00m scores\n",
      "File \u001b[1;32m~\\AppData\\Local\\Packages\\PythonSoftwareFoundation.Python.3.11_qbz5n2kfra8p0\\LocalCache\\local-packages\\Python311\\site-packages\\sklearn\\base.py:605\u001b[0m, in \u001b[0;36mBaseEstimator._validate_data\u001b[1;34m(self, X, y, reset, validate_separately, cast_to_ndarray, **check_params)\u001b[0m\n\u001b[0;32m    603\u001b[0m         out \u001b[39m=\u001b[39m X, y\n\u001b[0;32m    604\u001b[0m \u001b[39melif\u001b[39;00m \u001b[39mnot\u001b[39;00m no_val_X \u001b[39mand\u001b[39;00m no_val_y:\n\u001b[1;32m--> 605\u001b[0m     out \u001b[39m=\u001b[39m check_array(X, input_name\u001b[39m=\u001b[39;49m\u001b[39m\"\u001b[39;49m\u001b[39mX\u001b[39;49m\u001b[39m\"\u001b[39;49m, \u001b[39m*\u001b[39;49m\u001b[39m*\u001b[39;49mcheck_params)\n\u001b[0;32m    606\u001b[0m \u001b[39melif\u001b[39;00m no_val_X \u001b[39mand\u001b[39;00m \u001b[39mnot\u001b[39;00m no_val_y:\n\u001b[0;32m    607\u001b[0m     out \u001b[39m=\u001b[39m _check_y(y, \u001b[39m*\u001b[39m\u001b[39m*\u001b[39mcheck_params)\n",
      "File \u001b[1;32m~\\AppData\\Local\\Packages\\PythonSoftwareFoundation.Python.3.11_qbz5n2kfra8p0\\LocalCache\\local-packages\\Python311\\site-packages\\sklearn\\utils\\validation.py:957\u001b[0m, in \u001b[0;36mcheck_array\u001b[1;34m(array, accept_sparse, accept_large_sparse, dtype, order, copy, force_all_finite, ensure_2d, allow_nd, ensure_min_samples, ensure_min_features, estimator, input_name)\u001b[0m\n\u001b[0;32m    951\u001b[0m         \u001b[39mraise\u001b[39;00m \u001b[39mValueError\u001b[39;00m(\n\u001b[0;32m    952\u001b[0m             \u001b[39m\"\u001b[39m\u001b[39mFound array with dim \u001b[39m\u001b[39m%d\u001b[39;00m\u001b[39m. \u001b[39m\u001b[39m%s\u001b[39;00m\u001b[39m expected <= 2.\u001b[39m\u001b[39m\"\u001b[39m\n\u001b[0;32m    953\u001b[0m             \u001b[39m%\u001b[39m (array\u001b[39m.\u001b[39mndim, estimator_name)\n\u001b[0;32m    954\u001b[0m         )\n\u001b[0;32m    956\u001b[0m     \u001b[39mif\u001b[39;00m force_all_finite:\n\u001b[1;32m--> 957\u001b[0m         _assert_all_finite(\n\u001b[0;32m    958\u001b[0m             array,\n\u001b[0;32m    959\u001b[0m             input_name\u001b[39m=\u001b[39;49minput_name,\n\u001b[0;32m    960\u001b[0m             estimator_name\u001b[39m=\u001b[39;49mestimator_name,\n\u001b[0;32m    961\u001b[0m             allow_nan\u001b[39m=\u001b[39;49mforce_all_finite \u001b[39m==\u001b[39;49m \u001b[39m\"\u001b[39;49m\u001b[39mallow-nan\u001b[39;49m\u001b[39m\"\u001b[39;49m,\n\u001b[0;32m    962\u001b[0m         )\n\u001b[0;32m    964\u001b[0m \u001b[39mif\u001b[39;00m ensure_min_samples \u001b[39m>\u001b[39m \u001b[39m0\u001b[39m:\n\u001b[0;32m    965\u001b[0m     n_samples \u001b[39m=\u001b[39m _num_samples(array)\n",
      "File \u001b[1;32m~\\AppData\\Local\\Packages\\PythonSoftwareFoundation.Python.3.11_qbz5n2kfra8p0\\LocalCache\\local-packages\\Python311\\site-packages\\sklearn\\utils\\validation.py:122\u001b[0m, in \u001b[0;36m_assert_all_finite\u001b[1;34m(X, allow_nan, msg_dtype, estimator_name, input_name)\u001b[0m\n\u001b[0;32m    119\u001b[0m \u001b[39mif\u001b[39;00m first_pass_isfinite:\n\u001b[0;32m    120\u001b[0m     \u001b[39mreturn\u001b[39;00m\n\u001b[1;32m--> 122\u001b[0m _assert_all_finite_element_wise(\n\u001b[0;32m    123\u001b[0m     X,\n\u001b[0;32m    124\u001b[0m     xp\u001b[39m=\u001b[39;49mxp,\n\u001b[0;32m    125\u001b[0m     allow_nan\u001b[39m=\u001b[39;49mallow_nan,\n\u001b[0;32m    126\u001b[0m     msg_dtype\u001b[39m=\u001b[39;49mmsg_dtype,\n\u001b[0;32m    127\u001b[0m     estimator_name\u001b[39m=\u001b[39;49mestimator_name,\n\u001b[0;32m    128\u001b[0m     input_name\u001b[39m=\u001b[39;49minput_name,\n\u001b[0;32m    129\u001b[0m )\n",
      "File \u001b[1;32m~\\AppData\\Local\\Packages\\PythonSoftwareFoundation.Python.3.11_qbz5n2kfra8p0\\LocalCache\\local-packages\\Python311\\site-packages\\sklearn\\utils\\validation.py:171\u001b[0m, in \u001b[0;36m_assert_all_finite_element_wise\u001b[1;34m(X, xp, allow_nan, msg_dtype, estimator_name, input_name)\u001b[0m\n\u001b[0;32m    154\u001b[0m \u001b[39mif\u001b[39;00m estimator_name \u001b[39mand\u001b[39;00m input_name \u001b[39m==\u001b[39m \u001b[39m\"\u001b[39m\u001b[39mX\u001b[39m\u001b[39m\"\u001b[39m \u001b[39mand\u001b[39;00m has_nan_error:\n\u001b[0;32m    155\u001b[0m     \u001b[39m# Improve the error message on how to handle missing values in\u001b[39;00m\n\u001b[0;32m    156\u001b[0m     \u001b[39m# scikit-learn.\u001b[39;00m\n\u001b[0;32m    157\u001b[0m     msg_err \u001b[39m+\u001b[39m\u001b[39m=\u001b[39m (\n\u001b[0;32m    158\u001b[0m         \u001b[39mf\u001b[39m\u001b[39m\"\u001b[39m\u001b[39m\\n\u001b[39;00m\u001b[39m{\u001b[39;00mestimator_name\u001b[39m}\u001b[39;00m\u001b[39m does not accept missing values\u001b[39m\u001b[39m\"\u001b[39m\n\u001b[0;32m    159\u001b[0m         \u001b[39m\"\u001b[39m\u001b[39m encoded as NaN natively. For supervised learning, you might want\u001b[39m\u001b[39m\"\u001b[39m\n\u001b[1;32m   (...)\u001b[0m\n\u001b[0;32m    169\u001b[0m         \u001b[39m\"\u001b[39m\u001b[39m#estimators-that-handle-nan-values\u001b[39m\u001b[39m\"\u001b[39m\n\u001b[0;32m    170\u001b[0m     )\n\u001b[1;32m--> 171\u001b[0m \u001b[39mraise\u001b[39;00m \u001b[39mValueError\u001b[39;00m(msg_err)\n",
      "\u001b[1;31mValueError\u001b[0m: Input X contains NaN.\nLogisticRegression does not accept missing values encoded as NaN natively. For supervised learning, you might want to consider sklearn.ensemble.HistGradientBoostingClassifier and Regressor which accept missing values encoded as NaNs natively. Alternatively, it is possible to preprocess the data, for instance by using an imputer transformer in a pipeline or drop samples with missing values. See https://scikit-learn.org/stable/modules/impute.html You can find a list of all estimators that handle NaN values at the following page: https://scikit-learn.org/stable/modules/impute.html#estimators-that-handle-nan-values"
     ]
    }
   ],
   "source": [
    "#test the model \n",
    "testNoPick=testDf[features]\n",
    "testPick=testDf['pick']\n",
    "\n",
    "# Predict if player was selected for the draft on the test set\n",
    "predTest = model.predict(testNoPick)\n"
   ]
  },
  {
   "cell_type": "code",
   "execution_count": null,
   "id": "e094c711",
   "metadata": {},
   "outputs": [],
   "source": []
  },
  {
   "cell_type": "markdown",
   "id": "b9e1710b",
   "metadata": {},
   "source": [
    "Validation/testing precision, recall and fscore "
   ]
  },
  {
   "cell_type": "code",
   "execution_count": 24,
   "id": "bbc7732a",
   "metadata": {},
   "outputs": [
    {
     "name": "stdout",
     "output_type": "stream",
     "text": [
      "\n",
      "Precision on Test Set: 0.5833333333333334\n",
      "Recall on Test Set: 0.14285714285714285\n",
      "F1-score on Test Set: 0.22950819672131142\n"
     ]
    }
   ],
   "source": [
    "# #preformance metrics for validation \n",
    "# precision = precision_score(valPick, predVals)\n",
    "# recall = recall_score(valPick, predVals)\n",
    "# f1 = f1_score(valPick, predVals)\n",
    "\n",
    "# print('Precision on Validation Set:', precision)\n",
    "# print('Recall on Validation Set:', recall)\n",
    "# print('F1-score on Validation Set:', f1)\n",
    "\n",
    "#preformance metrics for test set\n",
    "print()\n",
    "tPrecision = precision_score(testPick, predTest)\n",
    "tRecall = recall_score(testPick, predTest)\n",
    "tF1 = f1_score(testPick, predTest)\n",
    "\n",
    "print('Precision on Test Set:', tPrecision)\n",
    "print('Recall on Test Set:', tRecall)\n",
    "print('F1-score on Test Set:', tF1)\n"
   ]
  },
  {
   "attachments": {
    "image-2.png": {
     "image/png": "[encoded data removed]"
    },
    "image-4.png": {
     "image/png": "[encoded data removed]"
    },
    "image.png": {
     "image/png": "[encoded data removed]"
    }
   },
   "cell_type": "markdown",
   "id": "73784c77",
   "metadata": {},
   "source": [
    "## Test run pref values for cross fold and various features selected:\n",
    "\n",
    "1) features = ['GP', 'FTA', 'porpag', 'adjoe', 'adrtg', 'bpm', 'obpm', 'dbpm', 'blk', 'pts']\n",
    "\n",
    "![image.png](attachment:image.png)\n",
    "\n",
    "2) features=['usg', 'DRB_per', 'AST_per', 'TO_per',  'twoP_per', 'blk_per', 'porpag','bpm', 'dbpm', 'ogbpm', 'dgbpm']\n",
    "\n",
    "![image-2.png](attachment:image-2.png)\n",
    "\n",
    "3) features=['porpag', 'adjoe','adrtg', 'bpm', 'obpm', 'dbpm', 'ogbpm', 'dgbpm', 'pts']\n",
    "\n",
    "![image-4.png](attachment:image-4.png)"
   ]
  },
  {
   "cell_type": "markdown",
   "id": "a591bfe3",
   "metadata": {},
   "source": [
    "# Testing by training on balanced data"
   ]
  },
  {
   "cell_type": "code",
   "execution_count": 53,
   "id": "5d5c36ff",
   "metadata": {},
   "outputs": [],
   "source": [
    "def get_training_data(dataframe, replacement, features = 13, multiplicity = 10):\n",
    "    trainingCount = int(features*multiplicity/2)\n",
    "    not_drafted = dataframe[dataframe['pick'] == 0].sample(n=trainingCount, replace=replacement)\n",
    "    drafted = dataframe[dataframe['pick'] == 1].sample(n=trainingCount, replace=replacement)\n",
    "    return pd.concat([not_drafted, drafted], ignore_index=True)"
   ]
  },
  {
   "cell_type": "code",
   "execution_count": 54,
   "id": "543c2676",
   "metadata": {},
   "outputs": [],
   "source": [
    "def trainRandSets(model, features, sets, target='pick'): \n",
    "    prefMetrics = {'Precision': [], 'Recall': [], 'F1 Score': []}\n",
    "\n",
    "    for data in sets:\n",
    "        y = data[target]\n",
    "        X = data.drop(target, axis=1) \n",
    "        \n",
    "        trainTarget, valTarget, trainNoTarget, valNoTarget = train_test_split(X, y, test_size=0.2, random_state=42)\n",
    "\n",
    "        # Train\n",
    "        model.fit(trainNoTarget, trainTarget)  \n",
    "\n",
    "        predVals = model.predict(valNoTarget)\n",
    "\n",
    "        prefMetrics['Precision'].append(precision_score(valTarget, predVals))\n",
    "        prefMetrics['Recall'].append(recall_score(valTarget, predVals))\n",
    "        prefMetrics['F1 Score'].append(f1_score(valTarget, predVals))\n",
    "\n",
    "    return prefMetrics"
   ]
  },
  {
   "cell_type": "code",
   "execution_count": 55,
   "id": "0ab49010",
   "metadata": {},
   "outputs": [],
   "source": [
    "def shuffle(): \n",
    "    return trainDf.sample(frac=1, random_state=42).reset_index(drop=True)\n",
    "\n",
    "set1=get_training_data(trainDf, False, len(features))\n",
    "shuffle()\n",
    "set2=get_training_data(trainDf, False, len(features))\n",
    "shuffle()\n",
    "set3=get_training_data(trainDf, False, len(features))\n",
    "shuffle()\n",
    "set4=get_training_data(trainDf, False, len(features))\n",
    "shuffle()\n",
    "set5=get_training_data(trainDf, False, len(features))\n",
    "\n",
    "trainingSets=[set1, set2, set3, set4, set5]"
   ]
  },
  {
   "cell_type": "code",
   "execution_count": 1,
   "id": "dd9de237",
   "metadata": {},
   "outputs": [
    {
     "ename": "NameError",
     "evalue": "name 'LogisticRegression' is not defined",
     "output_type": "error",
     "traceback": [
      "\u001b[1;31m---------------------------------------------------------------------------\u001b[0m",
      "\u001b[1;31mNameError\u001b[0m                                 Traceback (most recent call last)",
      "\u001b[1;32mc:\\Users\\Steven\\source\\repos\\NCAA-Basketball-Player-Predictions-\\NCAA_Cleaned_Up.ipynb Cell 40\u001b[0m line \u001b[0;36m1\n\u001b[1;32m----> <a href='vscode-notebook-cell:/c%3A/Users/Steven/source/repos/NCAA-Basketball-Player-Predictions-/NCAA_Cleaned_Up.ipynb#X54sZmlsZQ%3D%3D?line=0'>1</a>\u001b[0m logreg \u001b[39m=\u001b[39m LogisticRegression(multi_class\u001b[39m=\u001b[39m\u001b[39m'\u001b[39m\u001b[39mmultinomial\u001b[39m\u001b[39m'\u001b[39m, max_iter\u001b[39m=\u001b[39m\u001b[39m2000\u001b[39m, random_state\u001b[39m=\u001b[39m\u001b[39m42\u001b[39m)\n\u001b[0;32m      <a href='vscode-notebook-cell:/c%3A/Users/Steven/source/repos/NCAA-Basketball-Player-Predictions-/NCAA_Cleaned_Up.ipynb#X54sZmlsZQ%3D%3D?line=1'>2</a>\u001b[0m randFor \u001b[39m=\u001b[39m RandomForestClassifier(n_estimators\u001b[39m=\u001b[39m\u001b[39m50\u001b[39m, random_state\u001b[39m=\u001b[39m\u001b[39m15\u001b[39m)\n\u001b[0;32m      <a href='vscode-notebook-cell:/c%3A/Users/Steven/source/repos/NCAA-Basketball-Player-Predictions-/NCAA_Cleaned_Up.ipynb#X54sZmlsZQ%3D%3D?line=2'>3</a>\u001b[0m svm \u001b[39m=\u001b[39m SVC(probability\u001b[39m=\u001b[39m\u001b[39mTrue\u001b[39;00m, random_state\u001b[39m=\u001b[39m\u001b[39m1\u001b[39m) \n",
      "\u001b[1;31mNameError\u001b[0m: name 'LogisticRegression' is not defined"
     ]
    }
   ],
   "source": [
    "logreg = LogisticRegression(multi_class='multinomial', max_iter=2000, random_state=42)\n",
    "randFor = RandomForestClassifier(n_estimators=50, random_state=15)\n",
    "svm = SVC(probability=True, random_state=1) \n",
    "\n",
    "# voting ensemble classifier \n",
    "model2 = VotingClassifier(estimators=[('lr', logreg), ('rf', randFor), ('svm', svm)], voting='hard')\n",
    "\n",
    "#recycle the kfold train method since it's still just testing all the data \n",
    "trainMetrics=trainRandSets(model2,features, trainingSets)\n"
   ]
  },
  {
   "cell_type": "code",
   "execution_count": null,
   "id": "35c4cc90",
   "metadata": {},
   "outputs": [],
   "source": []
  }
 ],
 "metadata": {
  "kernelspec": {
   "display_name": "Python 3 (ipykernel)",
   "language": "python",
   "name": "python3"
  },
  "language_info": {
   "codemirror_mode": {
    "name": "ipython",
    "version": 3
   },
   "file_extension": ".py",
   "mimetype": "text/x-python",
   "name": "python",
   "nbconvert_exporter": "python",
   "pygments_lexer": "ipython3",
   "version": "3.11.7"
  }
 },
 "nbformat": 4,
 "nbformat_minor": 5
}
