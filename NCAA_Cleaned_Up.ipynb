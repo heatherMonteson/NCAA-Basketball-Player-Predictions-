{
 "cells": [
  {
   "cell_type": "markdown",
   "id": "13628048",
   "metadata": {},
   "source": [
    "## Cleaning"
   ]
  },
  {
   "cell_type": "code",
   "execution_count": 1,
   "id": "e13f38a9",
   "metadata": {},
   "outputs": [],
   "source": [
    "import numpy as np\n",
    "import pandas as pd\n",
    "import seaborn as sns\n",
    "import matplotlib.pyplot as plt\n",
    "import glob\n",
    "from sklearn.model_selection import train_test_split\n",
    "from sklearn.linear_model import LinearRegression, Ridge, Lasso\n",
    "from sklearn import metrics, preprocessing\n",
    "from sklearn.impute import KNNImputer\n",
    "from sklearn.preprocessing import LabelEncoder"
   ]
  },
  {
   "cell_type": "markdown",
   "id": "6337cb28",
   "metadata": {},
   "source": [
    "Read in player data"
   ]
  },
  {
   "cell_type": "code",
   "execution_count": 2,
   "id": "9cf827e2",
   "metadata": {},
   "outputs": [
    {
     "data": {
      "text/plain": [
       "(61061, 60)"
      ]
     },
     "execution_count": 2,
     "metadata": {},
     "output_type": "execute_result"
    }
   ],
   "source": [
    "playerDf = pd.read_csv('data/CollegeBasketballPlayers2009-2021.csv', low_memory=False)\n",
    "\n",
    "#initial dropping of inconsistant data for player data \n",
    "playerDf = playerDf.rename(columns = {'Unnamed: 64' : 'role_position'})\n",
    "playerDf = playerDf.drop('Unnamed: 65', axis=1) # Has no meaning in the dataset\n",
    "playerDf = playerDf.drop('ht', axis=1) # Temporarily excluding this column due to inconsistent date formats and other values\n",
    "playerDf = playerDf.drop('num', axis=1) # It might denote a player's choice or position but with significant variation in meaning.\n",
    "playerDf = playerDf.drop('type', axis=1) # Column has 1 unique value\n",
    "playerDf= playerDf.drop('pid', axis=1) # catigorical, not needed \n",
    "playerDf= playerDf.drop('yr', axis=1) # catigorical, not needed \n",
    "\n",
    "playerDf.shape"
   ]
  },
  {
   "cell_type": "markdown",
   "id": "be7b5d95",
   "metadata": {},
   "source": [
    "Display columns with over 60% nulls and drop them"
   ]
  },
  {
   "cell_type": "code",
   "execution_count": 3,
   "id": "4e372036",
   "metadata": {},
   "outputs": [
    {
     "name": "stdout",
     "output_type": "stream",
     "text": [
      "Player  DF: Column 'Rec Rank': Number of NaN: 42591 Percentage: 69.75%\n",
      "Player  DF: Column 'pick': Number of NaN: 59626 Percentage: 97.65%\n"
     ]
    }
   ],
   "source": [
    "# Count and remove columns with over 60% nan values from players\n",
    "total = len(playerDf)\n",
    "for column in playerDf.columns:\n",
    "    count = playerDf[column].isna().sum()\n",
    "    percent= (count/ total) * 100\n",
    "    if (percent>=60):\n",
    "        print(f\"Player  DF: Column '{column}':\", f\"Number of NaN: {count}\", f\"Percentage: {percent:.2f}%\")"
   ]
  },
  {
   "cell_type": "code",
   "execution_count": 4,
   "id": "a1668f92",
   "metadata": {},
   "outputs": [],
   "source": [
    "#Drop all the over 60% cols from the player. Dont drop pick, nan recorded as not drafted, need for predictions filling in later\n",
    "playerDf = playerDf.drop('Rec Rank', axis=1) "
   ]
  },
  {
   "cell_type": "markdown",
   "id": "0fdf480c",
   "metadata": {},
   "source": [
    "Findand remove redundant data "
   ]
  },
  {
   "cell_type": "code",
   "execution_count": 5,
   "id": "23d28a80",
   "metadata": {},
   "outputs": [
    {
     "name": "stdout",
     "output_type": "stream",
     "text": [
      "['Min_per', 'Ortg', 'eFG', 'FTM', 'twoPM', 'twoPA', 'TPM', 'rimmade', 'midmade', 'dunksmade', 'drtg', 'dporpag', 'stops', 'gbpm', 'mp', 'dreb']\n"
     ]
    }
   ],
   "source": [
    "player_corr_matrix = playerDf.corr()\n",
    "correlation_threshold = 0.9\n",
    "\n",
    "# Create positive correlation matrix\n",
    "corr_df = playerDf.corr().abs()\n",
    "\n",
    "\n",
    "# Create and apply mask\n",
    "mask = np.triu(np.ones_like(corr_df, dtype=bool))\n",
    "tri_df = corr_df.mask(mask)\n",
    "\n",
    "# Find columns that meet threshold\n",
    "features_to_drop = [c for c in tri_df.columns if any(tri_df[c] >= correlation_threshold)]\n",
    "print(features_to_drop)"
   ]
  },
  {
   "cell_type": "code",
   "execution_count": 6,
   "id": "bf4dd6c0",
   "metadata": {},
   "outputs": [
    {
     "name": "stdout",
     "output_type": "stream",
     "text": [
      "Shape of the DataFrame after removing highly correlated features: (61061, 43)\n"
     ]
    }
   ],
   "source": [
    "# Remove the highly correlated features from the DataFrame\n",
    "playerDf = playerDf.drop(columns=features_to_drop, axis=1)\n",
    "\n",
    "# Display the new shape of the DataFrame\n",
    "print(\"Shape of the DataFrame after removing highly correlated features:\", playerDf.shape)"
   ]
  },
  {
   "cell_type": "markdown",
   "id": "38a7b728",
   "metadata": {},
   "source": [
    "Merging each player into 1 row (save players that will be used in just the testing data) "
   ]
  },
  {
   "cell_type": "code",
   "execution_count": 7,
   "id": "1d01a482",
   "metadata": {},
   "outputs": [],
   "source": [
    "# #first seperate the players who were in the NCAA in 2021 as they will be used for traininng \n",
    "# #need to know what player to use for training\n",
    "# #sperate after mergind players\n",
    "# byYear= playerDf[playerDf['year'] >= 2021]\n",
    "# players_and_teams_list =byYear[['player_name', 'team']].values.tolist()"
   ]
  },
  {
   "cell_type": "code",
   "execution_count": 8,
   "id": "549bb0a4",
   "metadata": {},
   "outputs": [],
   "source": [
    "#if drafted, change to 1 since values for drafted are 1-60 and not drafted is saved as nan\n",
    "playerDf.loc[playerDf[\"pick\"] > 0, \"pick\"] = 1\n",
    "#not drafted was nan, replace with 0 \n",
    "playerDf.loc[playerDf[\"pick\"] != 1, \"pick\"] = 0"
   ]
  },
  {
   "cell_type": "code",
   "execution_count": 9,
   "id": "366c9a23",
   "metadata": {},
   "outputs": [],
   "source": [
    "categorical_columns = ['player_name', 'team', 'role_position', 'conf']\n",
    "\n",
    "# Function to calculate weighted average\n",
    "def weighted_avg(group):\n",
    "    categorical_data = group.iloc[-1, group.columns.isin(categorical_columns)]\n",
    "    data_to_ave = group.drop(columns=categorical_columns).mean(numeric_only=True)\n",
    "    \n",
    "    if any(group['pick'] == 1):\n",
    "        group['pick'] = 1\n",
    "    return pd.concat([categorical_data, data_to_ave])\n",
    "\n",
    "# Group by player name and team, then apply weighted average\n",
    "playerDf['player_name'] = playerDf['player_name'].str.lower()\n",
    "player_grouped = playerDf.groupby(['player_name', 'team'], as_index=False).apply(weighted_avg)\n",
    "player_grouped.reset_index(drop=True, inplace=True)\n"
   ]
  },
  {
   "cell_type": "code",
   "execution_count": 10,
   "id": "5cb0c003",
   "metadata": {},
   "outputs": [
    {
     "data": {
      "text/html": [
       "<div>\n",
       "<style scoped>\n",
       "    .dataframe tbody tr th:only-of-type {\n",
       "        vertical-align: middle;\n",
       "    }\n",
       "\n",
       "    .dataframe tbody tr th {\n",
       "        vertical-align: top;\n",
       "    }\n",
       "\n",
       "    .dataframe thead th {\n",
       "        text-align: right;\n",
       "    }\n",
       "</style>\n",
       "<table border=\"1\" class=\"dataframe\">\n",
       "  <thead>\n",
       "    <tr style=\"text-align: right;\">\n",
       "      <th></th>\n",
       "      <th>player_name</th>\n",
       "      <th>team</th>\n",
       "      <th>conf</th>\n",
       "      <th>role_position</th>\n",
       "      <th>GP</th>\n",
       "      <th>usg</th>\n",
       "      <th>TS_per</th>\n",
       "      <th>ORB_per</th>\n",
       "      <th>DRB_per</th>\n",
       "      <th>AST_per</th>\n",
       "      <th>...</th>\n",
       "      <th>obpm</th>\n",
       "      <th>dbpm</th>\n",
       "      <th>ogbpm</th>\n",
       "      <th>dgbpm</th>\n",
       "      <th>oreb</th>\n",
       "      <th>treb</th>\n",
       "      <th>ast</th>\n",
       "      <th>stl</th>\n",
       "      <th>blk</th>\n",
       "      <th>pts</th>\n",
       "    </tr>\n",
       "  </thead>\n",
       "  <tbody>\n",
       "    <tr>\n",
       "      <th>0</th>\n",
       "      <td>a'torey everett</td>\n",
       "      <td>Tennessee St.</td>\n",
       "      <td>OVC</td>\n",
       "      <td>Combo G</td>\n",
       "      <td>23.0</td>\n",
       "      <td>15.700000</td>\n",
       "      <td>50.080</td>\n",
       "      <td>1.600000</td>\n",
       "      <td>8.100000</td>\n",
       "      <td>14.500000</td>\n",
       "      <td>...</td>\n",
       "      <td>-4.928820</td>\n",
       "      <td>-1.477300</td>\n",
       "      <td>-5.633160</td>\n",
       "      <td>-0.881980</td>\n",
       "      <td>0.125000</td>\n",
       "      <td>0.875000</td>\n",
       "      <td>0.708300</td>\n",
       "      <td>0.083300</td>\n",
       "      <td>0.04170</td>\n",
       "      <td>2.41670</td>\n",
       "    </tr>\n",
       "    <tr>\n",
       "      <th>1</th>\n",
       "      <td>a'torri shine</td>\n",
       "      <td>Grambling St.</td>\n",
       "      <td>SWAC</td>\n",
       "      <td>Wing G</td>\n",
       "      <td>27.0</td>\n",
       "      <td>23.100000</td>\n",
       "      <td>49.985</td>\n",
       "      <td>4.000000</td>\n",
       "      <td>10.100000</td>\n",
       "      <td>8.200000</td>\n",
       "      <td>...</td>\n",
       "      <td>-2.114325</td>\n",
       "      <td>-4.820495</td>\n",
       "      <td>-0.919447</td>\n",
       "      <td>-4.191470</td>\n",
       "      <td>1.132150</td>\n",
       "      <td>3.831400</td>\n",
       "      <td>0.950850</td>\n",
       "      <td>0.670500</td>\n",
       "      <td>0.21585</td>\n",
       "      <td>13.02745</td>\n",
       "    </tr>\n",
       "    <tr>\n",
       "      <th>2</th>\n",
       "      <td>a'uston calhoun</td>\n",
       "      <td>Bowling Green</td>\n",
       "      <td>MAC</td>\n",
       "      <td>Wing F</td>\n",
       "      <td>23.5</td>\n",
       "      <td>24.850000</td>\n",
       "      <td>50.490</td>\n",
       "      <td>6.225000</td>\n",
       "      <td>12.675000</td>\n",
       "      <td>4.075000</td>\n",
       "      <td>...</td>\n",
       "      <td>-0.935753</td>\n",
       "      <td>-3.182705</td>\n",
       "      <td>7.261217</td>\n",
       "      <td>-2.661530</td>\n",
       "      <td>1.568950</td>\n",
       "      <td>4.624525</td>\n",
       "      <td>0.501925</td>\n",
       "      <td>0.400150</td>\n",
       "      <td>0.39315</td>\n",
       "      <td>11.30355</td>\n",
       "    </tr>\n",
       "    <tr>\n",
       "      <th>3</th>\n",
       "      <td>a.c. reid</td>\n",
       "      <td>Liberty</td>\n",
       "      <td>BSth</td>\n",
       "      <td>Combo G</td>\n",
       "      <td>29.0</td>\n",
       "      <td>17.633333</td>\n",
       "      <td>45.250</td>\n",
       "      <td>0.833333</td>\n",
       "      <td>10.666667</td>\n",
       "      <td>14.133333</td>\n",
       "      <td>...</td>\n",
       "      <td>-2.732733</td>\n",
       "      <td>-1.676557</td>\n",
       "      <td>-3.327480</td>\n",
       "      <td>-1.286542</td>\n",
       "      <td>0.126433</td>\n",
       "      <td>1.939567</td>\n",
       "      <td>1.370433</td>\n",
       "      <td>0.529367</td>\n",
       "      <td>0.10510</td>\n",
       "      <td>5.41610</td>\n",
       "    </tr>\n",
       "    <tr>\n",
       "      <th>4</th>\n",
       "      <td>a.c. reid</td>\n",
       "      <td>Tennessee St.</td>\n",
       "      <td>OVC</td>\n",
       "      <td>Combo G</td>\n",
       "      <td>8.0</td>\n",
       "      <td>13.900000</td>\n",
       "      <td>7.140</td>\n",
       "      <td>0.000000</td>\n",
       "      <td>6.900000</td>\n",
       "      <td>5.200000</td>\n",
       "      <td>...</td>\n",
       "      <td>-8.733310</td>\n",
       "      <td>-2.066710</td>\n",
       "      <td>-10.044700</td>\n",
       "      <td>-2.299060</td>\n",
       "      <td>0.000000</td>\n",
       "      <td>0.700000</td>\n",
       "      <td>0.400000</td>\n",
       "      <td>0.200000</td>\n",
       "      <td>0.10000</td>\n",
       "      <td>1.20000</td>\n",
       "    </tr>\n",
       "  </tbody>\n",
       "</table>\n",
       "<p>5 rows × 43 columns</p>\n",
       "</div>"
      ],
      "text/plain": [
       "       player_name           team  conf role_position    GP        usg  \\\n",
       "0  a'torey everett  Tennessee St.   OVC       Combo G  23.0  15.700000   \n",
       "1    a'torri shine  Grambling St.  SWAC        Wing G  27.0  23.100000   \n",
       "2  a'uston calhoun  Bowling Green   MAC        Wing F  23.5  24.850000   \n",
       "3        a.c. reid        Liberty  BSth       Combo G  29.0  17.633333   \n",
       "4        a.c. reid  Tennessee St.   OVC       Combo G   8.0  13.900000   \n",
       "\n",
       "   TS_per   ORB_per    DRB_per    AST_per  ...      obpm      dbpm      ogbpm  \\\n",
       "0  50.080  1.600000   8.100000  14.500000  ... -4.928820 -1.477300  -5.633160   \n",
       "1  49.985  4.000000  10.100000   8.200000  ... -2.114325 -4.820495  -0.919447   \n",
       "2  50.490  6.225000  12.675000   4.075000  ... -0.935753 -3.182705   7.261217   \n",
       "3  45.250  0.833333  10.666667  14.133333  ... -2.732733 -1.676557  -3.327480   \n",
       "4   7.140  0.000000   6.900000   5.200000  ... -8.733310 -2.066710 -10.044700   \n",
       "\n",
       "      dgbpm      oreb      treb       ast       stl      blk       pts  \n",
       "0 -0.881980  0.125000  0.875000  0.708300  0.083300  0.04170   2.41670  \n",
       "1 -4.191470  1.132150  3.831400  0.950850  0.670500  0.21585  13.02745  \n",
       "2 -2.661530  1.568950  4.624525  0.501925  0.400150  0.39315  11.30355  \n",
       "3 -1.286542  0.126433  1.939567  1.370433  0.529367  0.10510   5.41610  \n",
       "4 -2.299060  0.000000  0.700000  0.400000  0.200000  0.10000   1.20000  \n",
       "\n",
       "[5 rows x 43 columns]"
      ]
     },
     "execution_count": 10,
     "metadata": {},
     "output_type": "execute_result"
    }
   ],
   "source": [
    "playerDf=player_grouped\n",
    "playerDf.head()"
   ]
  },
  {
   "cell_type": "markdown",
   "id": "b13895a3",
   "metadata": {},
   "source": [
    "Test grouped data"
   ]
  },
  {
   "cell_type": "code",
   "execution_count": 11,
   "id": "24ee4ecd",
   "metadata": {},
   "outputs": [
    {
     "data": {
      "text/html": [
       "<div>\n",
       "<style scoped>\n",
       "    .dataframe tbody tr th:only-of-type {\n",
       "        vertical-align: middle;\n",
       "    }\n",
       "\n",
       "    .dataframe tbody tr th {\n",
       "        vertical-align: top;\n",
       "    }\n",
       "\n",
       "    .dataframe thead th {\n",
       "        text-align: right;\n",
       "    }\n",
       "</style>\n",
       "<table border=\"1\" class=\"dataframe\">\n",
       "  <thead>\n",
       "    <tr style=\"text-align: right;\">\n",
       "      <th></th>\n",
       "      <th>player_name</th>\n",
       "      <th>team</th>\n",
       "      <th>conf</th>\n",
       "      <th>role_position</th>\n",
       "      <th>GP</th>\n",
       "      <th>usg</th>\n",
       "      <th>TS_per</th>\n",
       "      <th>ORB_per</th>\n",
       "      <th>DRB_per</th>\n",
       "      <th>AST_per</th>\n",
       "      <th>...</th>\n",
       "      <th>obpm</th>\n",
       "      <th>dbpm</th>\n",
       "      <th>ogbpm</th>\n",
       "      <th>dgbpm</th>\n",
       "      <th>oreb</th>\n",
       "      <th>treb</th>\n",
       "      <th>ast</th>\n",
       "      <th>stl</th>\n",
       "      <th>blk</th>\n",
       "      <th>pts</th>\n",
       "    </tr>\n",
       "  </thead>\n",
       "  <tbody>\n",
       "    <tr>\n",
       "      <th>30195</th>\n",
       "      <td>zygis sestokas</td>\n",
       "      <td>Hofstra</td>\n",
       "      <td>CAA</td>\n",
       "      <td>NaN</td>\n",
       "      <td>23.0</td>\n",
       "      <td>11.3</td>\n",
       "      <td>59.15</td>\n",
       "      <td>2.7</td>\n",
       "      <td>6.4</td>\n",
       "      <td>6.8</td>\n",
       "      <td>...</td>\n",
       "      <td>2.4286</td>\n",
       "      <td>-0.956826</td>\n",
       "      <td>2.46174</td>\n",
       "      <td>-0.40718</td>\n",
       "      <td>0.4348</td>\n",
       "      <td>1.4348</td>\n",
       "      <td>0.5217</td>\n",
       "      <td>0.2609</td>\n",
       "      <td>0.1739</td>\n",
       "      <td>5.087</td>\n",
       "    </tr>\n",
       "  </tbody>\n",
       "</table>\n",
       "<p>1 rows × 43 columns</p>\n",
       "</div>"
      ],
      "text/plain": [
       "          player_name     team conf role_position    GP   usg  TS_per  \\\n",
       "30195  zygis sestokas  Hofstra  CAA           NaN  23.0  11.3   59.15   \n",
       "\n",
       "       ORB_per  DRB_per  AST_per  ...    obpm      dbpm    ogbpm    dgbpm  \\\n",
       "30195      2.7      6.4      6.8  ...  2.4286 -0.956826  2.46174 -0.40718   \n",
       "\n",
       "         oreb    treb     ast     stl     blk    pts  \n",
       "30195  0.4348  1.4348  0.5217  0.2609  0.1739  5.087  \n",
       "\n",
       "[1 rows x 43 columns]"
      ]
     },
     "execution_count": 11,
     "metadata": {},
     "output_type": "execute_result"
    }
   ],
   "source": [
    "playerDf.loc[playerDf['player_name']=='zygis sestokas']"
   ]
  },
  {
   "cell_type": "code",
   "execution_count": 12,
   "id": "e244b634",
   "metadata": {},
   "outputs": [
    {
     "data": {
      "text/plain": [
       "30190    2021.0\n",
       "30191    2016.5\n",
       "30192    2018.5\n",
       "30193    2011.0\n",
       "30194    2009.5\n",
       "30195    2009.0\n",
       "30196    2019.0\n",
       "30197    2016.5\n",
       "30198    2020.0\n",
       "30199    2020.5\n",
       "Name: year, dtype: float64"
      ]
     },
     "execution_count": 12,
     "metadata": {},
     "output_type": "execute_result"
    }
   ],
   "source": [
    "player_grouped['year'].tail(10)"
   ]
  },
  {
   "cell_type": "code",
   "execution_count": 13,
   "id": "080d6537",
   "metadata": {},
   "outputs": [
    {
     "data": {
      "text/plain": [
       "(2528, 43)"
      ]
     },
     "execution_count": 13,
     "metadata": {},
     "output_type": "execute_result"
    }
   ],
   "source": [
    "playerDf.loc[playerDf['year']==2021].shape"
   ]
  },
  {
   "cell_type": "code",
   "execution_count": null,
   "id": "21074ae1",
   "metadata": {},
   "outputs": [],
   "source": []
  },
  {
   "cell_type": "code",
   "execution_count": 14,
   "id": "bf6943a8",
   "metadata": {},
   "outputs": [
    {
     "data": {
      "text/html": [
       "<div>\n",
       "<style scoped>\n",
       "    .dataframe tbody tr th:only-of-type {\n",
       "        vertical-align: middle;\n",
       "    }\n",
       "\n",
       "    .dataframe tbody tr th {\n",
       "        vertical-align: top;\n",
       "    }\n",
       "\n",
       "    .dataframe thead th {\n",
       "        text-align: right;\n",
       "    }\n",
       "</style>\n",
       "<table border=\"1\" class=\"dataframe\">\n",
       "  <thead>\n",
       "    <tr style=\"text-align: right;\">\n",
       "      <th></th>\n",
       "      <th>player_name</th>\n",
       "      <th>team</th>\n",
       "      <th>conf</th>\n",
       "      <th>role_position</th>\n",
       "      <th>GP</th>\n",
       "      <th>usg</th>\n",
       "      <th>TS_per</th>\n",
       "      <th>ORB_per</th>\n",
       "      <th>DRB_per</th>\n",
       "      <th>AST_per</th>\n",
       "      <th>...</th>\n",
       "      <th>obpm</th>\n",
       "      <th>dbpm</th>\n",
       "      <th>ogbpm</th>\n",
       "      <th>dgbpm</th>\n",
       "      <th>oreb</th>\n",
       "      <th>treb</th>\n",
       "      <th>ast</th>\n",
       "      <th>stl</th>\n",
       "      <th>blk</th>\n",
       "      <th>pts</th>\n",
       "    </tr>\n",
       "  </thead>\n",
       "  <tbody>\n",
       "    <tr>\n",
       "      <th>23634</th>\n",
       "      <td>pooh williams</td>\n",
       "      <td>Utah St.</td>\n",
       "      <td>WAC</td>\n",
       "      <td>Combo G</td>\n",
       "      <td>33.0</td>\n",
       "      <td>17.233333</td>\n",
       "      <td>53.403333</td>\n",
       "      <td>2.3</td>\n",
       "      <td>6.2</td>\n",
       "      <td>14.8</td>\n",
       "      <td>...</td>\n",
       "      <td>1.640557</td>\n",
       "      <td>-0.306989</td>\n",
       "      <td>0.531476</td>\n",
       "      <td>0.238109</td>\n",
       "      <td>0.432267</td>\n",
       "      <td>1.807133</td>\n",
       "      <td>2.033967</td>\n",
       "      <td>0.4059</td>\n",
       "      <td>0.181667</td>\n",
       "      <td>7.796367</td>\n",
       "    </tr>\n",
       "  </tbody>\n",
       "</table>\n",
       "<p>1 rows × 43 columns</p>\n",
       "</div>"
      ],
      "text/plain": [
       "         player_name      team conf role_position    GP        usg     TS_per  \\\n",
       "23634  pooh williams  Utah St.  WAC       Combo G  33.0  17.233333  53.403333   \n",
       "\n",
       "       ORB_per  DRB_per  AST_per  ...      obpm      dbpm     ogbpm     dgbpm  \\\n",
       "23634      2.3      6.2     14.8  ...  1.640557 -0.306989  0.531476  0.238109   \n",
       "\n",
       "           oreb      treb       ast     stl       blk       pts  \n",
       "23634  0.432267  1.807133  2.033967  0.4059  0.181667  7.796367  \n",
       "\n",
       "[1 rows x 43 columns]"
      ]
     },
     "execution_count": 14,
     "metadata": {},
     "output_type": "execute_result"
    }
   ],
   "source": [
    "player_grouped.loc[playerDf['player_name']=='pooh williams']"
   ]
  },
  {
   "cell_type": "markdown",
   "id": "75ff6935",
   "metadata": {},
   "source": [
    "KNN to fill in all NAN values"
   ]
  },
  {
   "cell_type": "code",
   "execution_count": 15,
   "id": "b1e7a9f1",
   "metadata": {},
   "outputs": [],
   "source": [
    "threshold = 15\n",
    "missing_percentage = (playerDf.isnull().sum(axis=1) / playerDf.shape[1]) * 100\n",
    "rows_to_drop = []\n",
    "\n",
    "for index, percentage in missing_percentage.iteritems():\n",
    "    if percentage > threshold:\n",
    "        rows_to_drop.append(index)\n",
    "\n",
    "playerDf = playerDf.drop(index=rows_to_drop)"
   ]
  },
  {
   "cell_type": "code",
   "execution_count": 16,
   "id": "53e37739",
   "metadata": {},
   "outputs": [],
   "source": [
    "team_label_encoder = LabelEncoder()\n",
    "playerDf['team'] = team_label_encoder.fit_transform(playerDf['team'])\n",
    "\n",
    "conf_label_encoder = LabelEncoder()\n",
    "playerDf['conf'] = conf_label_encoder.fit_transform(playerDf['conf'])\n",
    "\n",
    "role_position_label_encoder = LabelEncoder()\n",
    "playerDf['role_position'] = role_position_label_encoder.fit_transform(playerDf['role_position'])\n",
    "\n",
    "playerDf=playerDf.drop('player_name', axis=1)"
   ]
  },
  {
   "cell_type": "code",
   "execution_count": 17,
   "id": "d2978867",
   "metadata": {},
   "outputs": [],
   "source": [
    "imputer = KNNImputer(n_neighbors=10)\n",
    "imputed_numeric = imputer.fit_transform(playerDf.select_dtypes(include=np.number))\n",
    "dfBasketballTraining_filled = pd.DataFrame(imputed_numeric, columns=playerDf.select_dtypes(include=np.number).columns)\n",
    "string_columns = playerDf.select_dtypes(include='object').columns\n",
    "imputed_data = pd.concat([playerDf[string_columns], dfBasketballTraining_filled], axis=1)"
   ]
  },
  {
   "cell_type": "code",
   "execution_count": 18,
   "id": "28d296c9",
   "metadata": {},
   "outputs": [],
   "source": [
    "playerDf = pd.DataFrame(imputed_data, columns=playerDf.columns)"
   ]
  },
  {
   "cell_type": "markdown",
   "id": "64b3f183",
   "metadata": {},
   "source": [
    "Seperate testing and training data"
   ]
  },
  {
   "cell_type": "code",
   "execution_count": 19,
   "id": "66c5c2f2",
   "metadata": {},
   "outputs": [],
   "source": [
    "trainDf=playerDf.loc[playerDf['year'] <2021]\n",
    "testDf= playerDf.loc[playerDf['year'] >= 2021]"
   ]
  },
  {
   "cell_type": "markdown",
   "id": "ca1d1d84",
   "metadata": {},
   "source": [
    "Feature selection "
   ]
  },
  {
   "cell_type": "code",
   "execution_count": 20,
   "id": "62151c28",
   "metadata": {},
   "outputs": [
    {
     "name": "stdout",
     "output_type": "stream",
     "text": [
      "Selected features:\n",
      "Index(['GP', 'FTA', 'porpag', 'adjoe', 'midmade+midmiss',\n",
      "       'dunksmiss+dunksmade', 'adrtg', 'bpm', 'obpm', 'dbpm', 'ogbpm', 'dgbpm',\n",
      "       'pts'],\n",
      "      dtype='object')\n",
      "Feature importance scores:\n",
      "[0.01504113 0.0127449  0.00547024 0.05277218 0.01730781 0.01533851\n",
      " 0.01557322 0.01319895 0.01475107 0.01667449 0.02736638 0.01569533\n",
      " 0.01333219 0.01851112 0.0135769  0.01485451 0.01270675 0.01505277\n",
      " 0.062753   0.03459112 0.01410708 0.01145076 0.0148787  0.02048307\n",
      " 0.0322145  0.01528911 0.01350214 0.05552453 0.01118055 0.05506419\n",
      " 0.08193069 0.02921814 0.03276128 0.04818423 0.03356593 0.01662559\n",
      " 0.02383999 0.01619954 0.01600674 0.02022435 0.03043632]\n"
     ]
    }
   ],
   "source": [
    "from sklearn.ensemble import RandomForestClassifier\n",
    "from sklearn.feature_selection import SelectFromModel\n",
    "\n",
    "X = trainDf.drop(\"pick\", axis=1)\n",
    "y = trainDf[\"pick\"]\n",
    "\n",
    "X_train, X_test, y_train, y_test = train_test_split(X, y, test_size=0.3, random_state=42)\n",
    "\n",
    "# Fit a RandomForestClassifier\n",
    "rf_classifier = RandomForestClassifier(n_estimators=100)\n",
    "rf_classifier.fit(X_train, y_train)\n",
    "\n",
    "#importance\n",
    "sel = SelectFromModel(rf_classifier)\n",
    "sel.fit(X_train, y_train)\n",
    "\n",
    "# Get support and selected feature names\n",
    "selected_feature_indices = sel.get_support()\n",
    "selected_features = X_train.columns[selected_feature_indices]\n",
    "\n",
    "print(\"Selected features:\")\n",
    "print(selected_features)\n",
    "\n",
    "print(\"Feature importance scores:\")\n",
    "print(sel.estimator_.feature_importances_)\n"
   ]
  },
  {
   "cell_type": "markdown",
   "id": "a67ed9b5",
   "metadata": {},
   "source": [
    "## Model"
   ]
  },
  {
   "cell_type": "code",
   "execution_count": 21,
   "id": "e3c44aad",
   "metadata": {},
   "outputs": [],
   "source": [
    "from sklearn.model_selection import train_test_split\n",
    "from sklearn.linear_model import LogisticRegression\n",
    "from sklearn.tree import DecisionTreeClassifier\n",
    "from sklearn.svm import SVC\n",
    "from sklearn.ensemble import RandomForestClassifier, VotingClassifier\n",
    "from sklearn.metrics import accuracy_score\n",
    "from sklearn.metrics import precision_score, recall_score, f1_score\n",
    "from sklearn.cluster import KMeans\n",
    "from sklearn.neighbors import KNeighborsClassifier"
   ]
  },
  {
   "cell_type": "code",
   "execution_count": 22,
   "id": "645306cb",
   "metadata": {},
   "outputs": [],
   "source": [
    "#Trying with k-fold cross validation "
   ]
  },
  {
   "cell_type": "code",
   "execution_count": 23,
   "id": "9749348d",
   "metadata": {},
   "outputs": [],
   "source": [
    "def get_training_data(data, start, stop, end=False):\n",
    "    if end==False: \n",
    "        subset = data.iloc[start:stop]\n",
    "    else: #include the raminder of the samples in the last set \n",
    "        subset = data.iloc[start:]\n",
    "    return subset\n",
    "    "
   ]
  },
  {
   "cell_type": "code",
   "execution_count": 24,
   "id": "2c6da734",
   "metadata": {},
   "outputs": [],
   "source": [
    "#get divided training data for k-crossfold validation \n",
    "#all features (no pick)\n",
    "# features=['usg', 'DRB_per', 'AST_per', 'TO_per',  'twoP_per', 'blk_per', 'porpag','bpm', 'dbpm', 'ogbpm', 'dgbpm']\n",
    "# features = ['GP', 'FTA', 'porpag', 'adjoe', 'adrtg', 'bpm', 'obpm', 'dbpm', 'ogbpm', 'dgbpm','blk', 'pts']\n",
    "# features = ['GP', 'FTA', 'porpag', 'adjoe', 'adrtg', 'bpm', 'obpm', 'dbpm', 'blk', 'pts']\n",
    "# features=['porpag','adjoe','adrtg', 'bpm', 'obpm', 'dbpm', 'ogbpm', 'dgbpm', 'pts']\n",
    "\n",
    "      \n",
    "features= selected_features\n",
    "\n",
    "numFeatures= len(features)\n",
    "rows=trainDf.shape[0]\n",
    "numSets=5\n",
    "perSet = int(rows/numSets)\n",
    "\n",
    "#shuffle\n",
    "trainDf = trainDf.sample(frac=1, random_state=42).reset_index(drop=True)\n",
    "\n",
    "# 6 sets\n",
    "numSets=6\n",
    "perSet = int(rows/numSets)\n",
    "\n",
    "set1=get_training_data(trainDf, 0,perSet) \n",
    "set2=get_training_data(trainDf, perSet, perSet*2) \n",
    "set3=get_training_data(trainDf, perSet*2, perSet*3) \n",
    "set4=get_training_data(trainDf, perSet*3, perSet*4) \n",
    "set5=get_training_data(trainDf, perSet*4, perSet*5) \n",
    "set6=get_training_data(trainDf, perSet*5, 0, True) #set will inclide any extera entries \n",
    "\n",
    "trainingSets=[set1, set2, set3, set4, set5, set6]\n"
   ]
  },
  {
   "cell_type": "code",
   "execution_count": 25,
   "id": "12e28661",
   "metadata": {},
   "outputs": [],
   "source": [
    "def kFoldTrain(model, sets, features, target='pick'):\n",
    "    prefMetrics = {'Validation set':[],'Precision': [], 'Recall': [], 'F1 Score': []}\n",
    "    sumAccuracy=0\n",
    "    for j in range(len(sets)):\n",
    "        valSet=sets[j]\n",
    "        accuracyCount=0\n",
    "        \n",
    "        for i in range(len(sets)):\n",
    "            #dont train validation set against validation set \n",
    "            if i!=j: \n",
    "            \n",
    "                #remove target variable pick from the training and the testing data \n",
    "                trainSet=sets[i]\n",
    "                trainNoTarget=trainSet[features]\n",
    "                trainTarget=trainSet[target]\n",
    "                valNoTarget=valSet[features]\n",
    "                valTarget=valSet[target]\n",
    "                \n",
    "                #train \n",
    "                model.fit(trainNoTarget, trainTarget)\n",
    "                \n",
    "                predVals = model.predict(valNoTarget)\n",
    "\n",
    "                prefMetrics['Validation set'].append(j+1)\n",
    "                prefMetrics['Precision'].append(precision_score(valTarget, predVals))\n",
    "                prefMetrics['Recall'].append(recall_score(valTarget, predVals))\n",
    "                prefMetrics['F1 Score'].append(f1_score(valTarget, predVals))\n",
    "            \n",
    "                accuracyCount+=accuracy_score(valTarget, predVals)\n",
    "                \n",
    "        print(\"validation set \", j, \"accuracy\", accuracyCount/len(valSet))    \n",
    "        sumAccuracy+=accuracyCount/len(valSet)\n",
    "    return sumAccuracy, prefMetrics \n",
    "                "
   ]
  },
  {
   "cell_type": "code",
   "execution_count": 26,
   "id": "33ee2089",
   "metadata": {},
   "outputs": [
    {
     "name": "stdout",
     "output_type": "stream",
     "text": [
      "validation set  0 accuracy 0.0011629904988657038\n",
      "validation set  1 accuracy 0.0011591159228229375\n",
      "validation set  2 accuracy 0.0011642258709373104\n",
      "validation set  3 accuracy 0.0011609689809303477\n",
      "validation set  4 accuracy 0.0011584982367871342\n",
      "validation set  5 accuracy 0.0011633475236635781\n"
     ]
    }
   ],
   "source": [
    "#citations: \n",
    "#video: https://aleksandarhaber.com/ensemble-learning-in-scikit-learn-voting-classifiers/\n",
    "#Documentation: https://scikit-learn.org/stable/modules/generated/sklearn.ensemble.VotingClassifier.html\n",
    "#build model \n",
    "\n",
    "#the 3 models for the ensemble \n",
    "logreg = LogisticRegression(multi_class='multinomial', max_iter=2000, random_state=42)\n",
    "randFor = RandomForestClassifier(n_estimators=50, random_state=15)\n",
    "svm = SVC(probability=True, random_state=191) \n",
    "\n",
    "                                     \n",
    "# voting ensemble classifier \n",
    "model = VotingClassifier(estimators=[('lr', logreg), ('rf', randFor), ('svm', svm)], voting='hard')\n",
    "# model = VotingClassifier(estimators=[('kmeans', kmeans), ('rf', randFor), ('svm', svm)], voting='hard')\n",
    "\n",
    "acc, trainMetrics=kFoldTrain(model, trainingSets, features)"
   ]
  },
  {
   "cell_type": "code",
   "execution_count": 27,
   "id": "52d212b9",
   "metadata": {},
   "outputs": [
    {
     "name": "stdout",
     "output_type": "stream",
     "text": [
      "Estimated accuracy of the model is:  0.0011615245056678352\n"
     ]
    }
   ],
   "source": [
    "print(\"Estimated accuracy of the model is: \", acc/len(trainingSets))"
   ]
  },
  {
   "cell_type": "code",
   "execution_count": 28,
   "id": "6d1b1e89",
   "metadata": {},
   "outputs": [
    {
     "data": {
      "text/html": [
       "<div>\n",
       "<style scoped>\n",
       "    .dataframe tbody tr th:only-of-type {\n",
       "        vertical-align: middle;\n",
       "    }\n",
       "\n",
       "    .dataframe tbody tr th {\n",
       "        vertical-align: top;\n",
       "    }\n",
       "\n",
       "    .dataframe thead th {\n",
       "        text-align: right;\n",
       "    }\n",
       "</style>\n",
       "<table border=\"1\" class=\"dataframe\">\n",
       "  <thead>\n",
       "    <tr style=\"text-align: right;\">\n",
       "      <th></th>\n",
       "      <th>Validation set</th>\n",
       "      <th>Precision</th>\n",
       "      <th>Recall</th>\n",
       "      <th>F1 Score</th>\n",
       "    </tr>\n",
       "  </thead>\n",
       "  <tbody>\n",
       "    <tr>\n",
       "      <th>0</th>\n",
       "      <td>1</td>\n",
       "      <td>0.812500</td>\n",
       "      <td>0.268041</td>\n",
       "      <td>0.403101</td>\n",
       "    </tr>\n",
       "    <tr>\n",
       "      <th>1</th>\n",
       "      <td>1</td>\n",
       "      <td>0.920000</td>\n",
       "      <td>0.237113</td>\n",
       "      <td>0.377049</td>\n",
       "    </tr>\n",
       "    <tr>\n",
       "      <th>2</th>\n",
       "      <td>1</td>\n",
       "      <td>0.758621</td>\n",
       "      <td>0.226804</td>\n",
       "      <td>0.349206</td>\n",
       "    </tr>\n",
       "    <tr>\n",
       "      <th>3</th>\n",
       "      <td>1</td>\n",
       "      <td>0.750000</td>\n",
       "      <td>0.278351</td>\n",
       "      <td>0.406015</td>\n",
       "    </tr>\n",
       "    <tr>\n",
       "      <th>4</th>\n",
       "      <td>1</td>\n",
       "      <td>0.892857</td>\n",
       "      <td>0.257732</td>\n",
       "      <td>0.400000</td>\n",
       "    </tr>\n",
       "    <tr>\n",
       "      <th>5</th>\n",
       "      <td>2</td>\n",
       "      <td>0.695652</td>\n",
       "      <td>0.290909</td>\n",
       "      <td>0.410256</td>\n",
       "    </tr>\n",
       "    <tr>\n",
       "      <th>6</th>\n",
       "      <td>2</td>\n",
       "      <td>0.757576</td>\n",
       "      <td>0.227273</td>\n",
       "      <td>0.349650</td>\n",
       "    </tr>\n",
       "    <tr>\n",
       "      <th>7</th>\n",
       "      <td>2</td>\n",
       "      <td>0.659574</td>\n",
       "      <td>0.281818</td>\n",
       "      <td>0.394904</td>\n",
       "    </tr>\n",
       "    <tr>\n",
       "      <th>8</th>\n",
       "      <td>2</td>\n",
       "      <td>0.708333</td>\n",
       "      <td>0.309091</td>\n",
       "      <td>0.430380</td>\n",
       "    </tr>\n",
       "    <tr>\n",
       "      <th>9</th>\n",
       "      <td>2</td>\n",
       "      <td>0.805556</td>\n",
       "      <td>0.263636</td>\n",
       "      <td>0.397260</td>\n",
       "    </tr>\n",
       "    <tr>\n",
       "      <th>10</th>\n",
       "      <td>3</td>\n",
       "      <td>0.606061</td>\n",
       "      <td>0.243902</td>\n",
       "      <td>0.347826</td>\n",
       "    </tr>\n",
       "    <tr>\n",
       "      <th>11</th>\n",
       "      <td>3</td>\n",
       "      <td>0.666667</td>\n",
       "      <td>0.219512</td>\n",
       "      <td>0.330275</td>\n",
       "    </tr>\n",
       "    <tr>\n",
       "      <th>12</th>\n",
       "      <td>3</td>\n",
       "      <td>0.531250</td>\n",
       "      <td>0.207317</td>\n",
       "      <td>0.298246</td>\n",
       "    </tr>\n",
       "    <tr>\n",
       "      <th>13</th>\n",
       "      <td>3</td>\n",
       "      <td>0.605263</td>\n",
       "      <td>0.280488</td>\n",
       "      <td>0.383333</td>\n",
       "    </tr>\n",
       "    <tr>\n",
       "      <th>14</th>\n",
       "      <td>3</td>\n",
       "      <td>0.793103</td>\n",
       "      <td>0.280488</td>\n",
       "      <td>0.414414</td>\n",
       "    </tr>\n",
       "    <tr>\n",
       "      <th>15</th>\n",
       "      <td>4</td>\n",
       "      <td>0.777778</td>\n",
       "      <td>0.271845</td>\n",
       "      <td>0.402878</td>\n",
       "    </tr>\n",
       "    <tr>\n",
       "      <th>16</th>\n",
       "      <td>4</td>\n",
       "      <td>0.787879</td>\n",
       "      <td>0.252427</td>\n",
       "      <td>0.382353</td>\n",
       "    </tr>\n",
       "    <tr>\n",
       "      <th>17</th>\n",
       "      <td>4</td>\n",
       "      <td>0.758621</td>\n",
       "      <td>0.213592</td>\n",
       "      <td>0.333333</td>\n",
       "    </tr>\n",
       "    <tr>\n",
       "      <th>18</th>\n",
       "      <td>4</td>\n",
       "      <td>0.738095</td>\n",
       "      <td>0.300971</td>\n",
       "      <td>0.427586</td>\n",
       "    </tr>\n",
       "    <tr>\n",
       "      <th>19</th>\n",
       "      <td>4</td>\n",
       "      <td>0.766667</td>\n",
       "      <td>0.223301</td>\n",
       "      <td>0.345865</td>\n",
       "    </tr>\n",
       "    <tr>\n",
       "      <th>20</th>\n",
       "      <td>5</td>\n",
       "      <td>0.767442</td>\n",
       "      <td>0.289474</td>\n",
       "      <td>0.420382</td>\n",
       "    </tr>\n",
       "    <tr>\n",
       "      <th>21</th>\n",
       "      <td>5</td>\n",
       "      <td>0.736842</td>\n",
       "      <td>0.245614</td>\n",
       "      <td>0.368421</td>\n",
       "    </tr>\n",
       "    <tr>\n",
       "      <th>22</th>\n",
       "      <td>5</td>\n",
       "      <td>0.823529</td>\n",
       "      <td>0.245614</td>\n",
       "      <td>0.378378</td>\n",
       "    </tr>\n",
       "    <tr>\n",
       "      <th>23</th>\n",
       "      <td>5</td>\n",
       "      <td>0.717391</td>\n",
       "      <td>0.289474</td>\n",
       "      <td>0.412500</td>\n",
       "    </tr>\n",
       "    <tr>\n",
       "      <th>24</th>\n",
       "      <td>5</td>\n",
       "      <td>0.736842</td>\n",
       "      <td>0.245614</td>\n",
       "      <td>0.368421</td>\n",
       "    </tr>\n",
       "    <tr>\n",
       "      <th>25</th>\n",
       "      <td>6</td>\n",
       "      <td>0.771429</td>\n",
       "      <td>0.287234</td>\n",
       "      <td>0.418605</td>\n",
       "    </tr>\n",
       "    <tr>\n",
       "      <th>26</th>\n",
       "      <td>6</td>\n",
       "      <td>0.866667</td>\n",
       "      <td>0.276596</td>\n",
       "      <td>0.419355</td>\n",
       "    </tr>\n",
       "    <tr>\n",
       "      <th>27</th>\n",
       "      <td>6</td>\n",
       "      <td>0.806452</td>\n",
       "      <td>0.265957</td>\n",
       "      <td>0.400000</td>\n",
       "    </tr>\n",
       "    <tr>\n",
       "      <th>28</th>\n",
       "      <td>6</td>\n",
       "      <td>0.763158</td>\n",
       "      <td>0.308511</td>\n",
       "      <td>0.439394</td>\n",
       "    </tr>\n",
       "    <tr>\n",
       "      <th>29</th>\n",
       "      <td>6</td>\n",
       "      <td>0.717949</td>\n",
       "      <td>0.297872</td>\n",
       "      <td>0.421053</td>\n",
       "    </tr>\n",
       "  </tbody>\n",
       "</table>\n",
       "</div>"
      ],
      "text/plain": [
       "    Validation set  Precision    Recall  F1 Score\n",
       "0                1   0.812500  0.268041  0.403101\n",
       "1                1   0.920000  0.237113  0.377049\n",
       "2                1   0.758621  0.226804  0.349206\n",
       "3                1   0.750000  0.278351  0.406015\n",
       "4                1   0.892857  0.257732  0.400000\n",
       "5                2   0.695652  0.290909  0.410256\n",
       "6                2   0.757576  0.227273  0.349650\n",
       "7                2   0.659574  0.281818  0.394904\n",
       "8                2   0.708333  0.309091  0.430380\n",
       "9                2   0.805556  0.263636  0.397260\n",
       "10               3   0.606061  0.243902  0.347826\n",
       "11               3   0.666667  0.219512  0.330275\n",
       "12               3   0.531250  0.207317  0.298246\n",
       "13               3   0.605263  0.280488  0.383333\n",
       "14               3   0.793103  0.280488  0.414414\n",
       "15               4   0.777778  0.271845  0.402878\n",
       "16               4   0.787879  0.252427  0.382353\n",
       "17               4   0.758621  0.213592  0.333333\n",
       "18               4   0.738095  0.300971  0.427586\n",
       "19               4   0.766667  0.223301  0.345865\n",
       "20               5   0.767442  0.289474  0.420382\n",
       "21               5   0.736842  0.245614  0.368421\n",
       "22               5   0.823529  0.245614  0.378378\n",
       "23               5   0.717391  0.289474  0.412500\n",
       "24               5   0.736842  0.245614  0.368421\n",
       "25               6   0.771429  0.287234  0.418605\n",
       "26               6   0.866667  0.276596  0.419355\n",
       "27               6   0.806452  0.265957  0.400000\n",
       "28               6   0.763158  0.308511  0.439394\n",
       "29               6   0.717949  0.297872  0.421053"
      ]
     },
     "execution_count": 28,
     "metadata": {},
     "output_type": "execute_result"
    }
   ],
   "source": [
    "pd.DataFrame(trainMetrics)\n",
    "#make a plot for the train metrics and also need to check the accuracy "
   ]
  },
  {
   "cell_type": "code",
   "execution_count": 29,
   "id": "7b87edfe",
   "metadata": {
    "scrolled": true
   },
   "outputs": [],
   "source": [
    "#test the model \n",
    "testNoPick=testDf[features]\n",
    "testPick=testDf['pick']\n",
    "\n",
    "# Predict if player was selected for the draft on the test set\n",
    "predTest = model.predict(testNoPick)\n"
   ]
  },
  {
   "cell_type": "markdown",
   "id": "d910479f",
   "metadata": {},
   "source": [
    "Validation/testing precision, recall and fscore "
   ]
  },
  {
   "cell_type": "code",
   "execution_count": 30,
   "id": "3523a1fc",
   "metadata": {},
   "outputs": [
    {
     "name": "stdout",
     "output_type": "stream",
     "text": [
      "\n",
      "Precision on Test Set: 0.75\n",
      "Recall on Test Set: 0.15\n",
      "F1-score on Test Set: 0.24999999999999997\n"
     ]
    }
   ],
   "source": [
    "\n",
    "#preformance metrics for test set\n",
    "print()\n",
    "tPrecision = precision_score(testPick, predTest)\n",
    "tRecall = recall_score(testPick, predTest)\n",
    "tF1 = f1_score(testPick, predTest)\n",
    "\n",
    "print('Precision on Test Set:', tPrecision)\n",
    "print('Recall on Test Set:', tRecall)\n",
    "print('F1-score on Test Set:', tF1)\n"
   ]
  },
  {
   "cell_type": "code",
   "execution_count": 31,
   "id": "f80fadb1",
   "metadata": {},
   "outputs": [
    {
     "data": {
      "image/png": "[encoded data removed]",
      "text/plain": [
       "<Figure size 800x500 with 1 Axes>"
      ]
     },
     "metadata": {},
     "output_type": "display_data"
    }
   ],
   "source": [
    "import matplotlib.pyplot as plt\n",
    "\n",
    "#bar plot of the metrics\n",
    "metrics = ['Precision', 'Recall', 'F1 Score']\n",
    "scores = [tPrecision, tRecall , tF1]\n",
    "\n",
    "plt.figure(figsize=(8, 5))\n",
    "plt.bar(metrics, scores, color=['blue', 'green', 'purple'])\n",
    "plt.xlabel('Metrics')\n",
    "plt.ylabel('Scores')\n",
    "plt.title('Performance Metrics on Test Set')\n",
    "plt.ylim(0, 1)  # Set y-axis limit to better visualize scores between 0 and 1\n",
    "plt.show()"
   ]
  },
  {
   "attachments": {
    "image-2.png": {
     "image/png": "[encoded data removed]"
    },
    "image-4.png": {
     "image/png": "[encoded data removed]"
    },
    "image-5.png": {
     "image/png": "[encoded data removed]"
    },
    "image.png": {
     "image/png": "[encoded data removed]"
    }
   },
   "cell_type": "markdown",
   "id": "86735e98",
   "metadata": {},
   "source": [
    "## Test run pref values for cross fold and various features selected:\n",
    "\n",
    "1) 5 training sets, features = ['GP', 'FTA', 'porpag', 'adjoe', 'adrtg', 'bpm', 'obpm', 'dbpm', 'blk', 'pts']\n",
    "\n",
    "![image.png](attachment:image.png)\n",
    "\n",
    "2) 5 training sets, features=['usg', 'DRB_per', 'AST_per', 'TO_per',  'twoP_per', 'blk_per', 'porpag','bpm', 'dbpm', 'ogbpm', 'dgbpm']\n",
    "\n",
    "![image-2.png](attachment:image-2.png)\n",
    "\n",
    "3) 5 training sets, features=['porpag', 'adjoe','adrtg', 'bpm', 'obpm', 'dbpm', 'ogbpm', 'dgbpm', 'pts']\n",
    "\n",
    "![image-4.png](attachment:image-4.png)\n",
    "\n",
    "4) 6 training sets, features=['porpag','adjoe','adrtg', 'bpm', 'obpm', 'dbpm', 'ogbpm', 'dgbpm', 'pts']\n",
    "![image-5.png](attachment:image-5.png)\n",
    "\n",
    "5) 7 training sets give the same metrics as 6\n"
   ]
  },
  {
   "cell_type": "markdown",
   "id": "bd305d07",
   "metadata": {},
   "source": [
    "# Testing by training on balanced data"
   ]
  },
  {
   "cell_type": "code",
   "execution_count": 53,
   "id": "9c385732",
   "metadata": {},
   "outputs": [],
   "source": [
    "def get_training_data(dataframe, replacement, features = 13, multiplicity = 10):\n",
    "    trainingCount = int(features*multiplicity/2)\n",
    "    not_drafted = dataframe[dataframe['pick'] == 0].sample(n=trainingCount, replace=replacement)\n",
    "    drafted = dataframe[dataframe['pick'] == 1].sample(n=trainingCount, replace=replacement)\n",
    "    return pd.concat([not_drafted, drafted], ignore_index=True)"
   ]
  },
  {
   "cell_type": "code",
   "execution_count": 54,
   "id": "43cd75fb",
   "metadata": {},
   "outputs": [],
   "source": [
    "def trainRandSets(model, features, sets, target='pick'): \n",
    "    prefMetrics = {'Precision': [], 'Recall': [], 'F1 Score': []}\n",
    "\n",
    "    for data in sets:\n",
    "        y = data[target]\n",
    "        X = data.drop(target, axis=1) \n",
    "        \n",
    "        trainTarget, valTarget, trainNoTarget, valNoTarget = train_test_split(X, y, test_size=0.2, random_state=42)\n",
    "\n",
    "        # Train\n",
    "        model.fit(trainNoTarget, trainTarget)  \n",
    "\n",
    "        predVals = model.predict(valNoTarget)\n",
    "\n",
    "        prefMetrics['Precision'].append(precision_score(valTarget, predVals))\n",
    "        prefMetrics['Recall'].append(recall_score(valTarget, predVals))\n",
    "        prefMetrics['F1 Score'].append(f1_score(valTarget, predVals))\n",
    "\n",
    "    return prefMetrics"
   ]
  },
  {
   "cell_type": "code",
   "execution_count": 55,
   "id": "90c1cf94",
   "metadata": {},
   "outputs": [],
   "source": [
    "def shuffle(): \n",
    "    return trainDf.sample(frac=1, random_state=42).reset_index(drop=True)\n",
    "\n",
    "set1=get_training_data(trainDf, False, len(features))\n",
    "shuffle()\n",
    "set2=get_training_data(trainDf, False, len(features))\n",
    "shuffle()\n",
    "set3=get_training_data(trainDf, False, len(features))\n",
    "shuffle()\n",
    "set4=get_training_data(trainDf, False, len(features))\n",
    "shuffle()\n",
    "set5=get_training_data(trainDf, False, len(features))\n",
    "\n",
    "trainingSets=[set1, set2, set3, set4, set5]"
   ]
  },
  {
   "cell_type": "code",
   "execution_count": 56,
   "id": "afa743f7",
   "metadata": {},
   "outputs": [
    {
     "ename": "ValueError",
     "evalue": "Unknown label type: 'continuous-multioutput'",
     "output_type": "error",
     "traceback": [
      "\u001b[1;31m---------------------------------------------------------------------------\u001b[0m",
      "\u001b[1;31mValueError\u001b[0m                                Traceback (most recent call last)",
      "Cell \u001b[1;32mIn[56], line 9\u001b[0m\n\u001b[0;32m      6\u001b[0m model2 \u001b[38;5;241m=\u001b[39m VotingClassifier(estimators\u001b[38;5;241m=\u001b[39m[(\u001b[38;5;124m'\u001b[39m\u001b[38;5;124mlr\u001b[39m\u001b[38;5;124m'\u001b[39m, logreg), (\u001b[38;5;124m'\u001b[39m\u001b[38;5;124mrf\u001b[39m\u001b[38;5;124m'\u001b[39m, randFor), (\u001b[38;5;124m'\u001b[39m\u001b[38;5;124msvm\u001b[39m\u001b[38;5;124m'\u001b[39m, svm)], voting\u001b[38;5;241m=\u001b[39m\u001b[38;5;124m'\u001b[39m\u001b[38;5;124mhard\u001b[39m\u001b[38;5;124m'\u001b[39m)\n\u001b[0;32m      8\u001b[0m \u001b[38;5;66;03m#recycle the kfold train method since it's still just testing all the data \u001b[39;00m\n\u001b[1;32m----> 9\u001b[0m trainMetrics\u001b[38;5;241m=\u001b[39m\u001b[43mtrainRandSets\u001b[49m\u001b[43m(\u001b[49m\u001b[43mmodel2\u001b[49m\u001b[43m,\u001b[49m\u001b[43mfeatures\u001b[49m\u001b[43m,\u001b[49m\u001b[43m \u001b[49m\u001b[43mtrainingSets\u001b[49m\u001b[43m)\u001b[49m\n",
      "Cell \u001b[1;32mIn[54], line 11\u001b[0m, in \u001b[0;36mtrainRandSets\u001b[1;34m(model, features, sets, target)\u001b[0m\n\u001b[0;32m      8\u001b[0m trainTarget, valTarget, trainNoTarget, valNoTarget \u001b[38;5;241m=\u001b[39m train_test_split(X, y, test_size\u001b[38;5;241m=\u001b[39m\u001b[38;5;241m0.2\u001b[39m, random_state\u001b[38;5;241m=\u001b[39m\u001b[38;5;241m42\u001b[39m)\n\u001b[0;32m     10\u001b[0m \u001b[38;5;66;03m# Train\u001b[39;00m\n\u001b[1;32m---> 11\u001b[0m \u001b[43mmodel\u001b[49m\u001b[38;5;241;43m.\u001b[39;49m\u001b[43mfit\u001b[49m\u001b[43m(\u001b[49m\u001b[43mtrainNoTarget\u001b[49m\u001b[43m,\u001b[49m\u001b[43m \u001b[49m\u001b[43mtrainTarget\u001b[49m\u001b[43m)\u001b[49m  \n\u001b[0;32m     13\u001b[0m predVals \u001b[38;5;241m=\u001b[39m model\u001b[38;5;241m.\u001b[39mpredict(valNoTarget)\n\u001b[0;32m     15\u001b[0m prefMetrics[\u001b[38;5;124m'\u001b[39m\u001b[38;5;124mPrecision\u001b[39m\u001b[38;5;124m'\u001b[39m]\u001b[38;5;241m.\u001b[39mappend(precision_score(valTarget, predVals))\n",
      "File \u001b[1;32m~\\anaconda3\\lib\\site-packages\\sklearn\\ensemble\\_voting.py:309\u001b[0m, in \u001b[0;36mVotingClassifier.fit\u001b[1;34m(self, X, y, sample_weight)\u001b[0m\n\u001b[0;32m    285\u001b[0m \u001b[38;5;28;01mdef\u001b[39;00m \u001b[38;5;21mfit\u001b[39m(\u001b[38;5;28mself\u001b[39m, X, y, sample_weight\u001b[38;5;241m=\u001b[39m\u001b[38;5;28;01mNone\u001b[39;00m):\n\u001b[0;32m    286\u001b[0m     \u001b[38;5;124;03m\"\"\"Fit the estimators.\u001b[39;00m\n\u001b[0;32m    287\u001b[0m \n\u001b[0;32m    288\u001b[0m \u001b[38;5;124;03m    Parameters\u001b[39;00m\n\u001b[1;32m   (...)\u001b[0m\n\u001b[0;32m    307\u001b[0m \u001b[38;5;124;03m        Returns the instance itself.\u001b[39;00m\n\u001b[0;32m    308\u001b[0m \u001b[38;5;124;03m    \"\"\"\u001b[39;00m\n\u001b[1;32m--> 309\u001b[0m     \u001b[43mcheck_classification_targets\u001b[49m\u001b[43m(\u001b[49m\u001b[43my\u001b[49m\u001b[43m)\u001b[49m\n\u001b[0;32m    310\u001b[0m     \u001b[38;5;28;01mif\u001b[39;00m \u001b[38;5;28misinstance\u001b[39m(y, np\u001b[38;5;241m.\u001b[39mndarray) \u001b[38;5;129;01mand\u001b[39;00m \u001b[38;5;28mlen\u001b[39m(y\u001b[38;5;241m.\u001b[39mshape) \u001b[38;5;241m>\u001b[39m \u001b[38;5;241m1\u001b[39m \u001b[38;5;129;01mand\u001b[39;00m y\u001b[38;5;241m.\u001b[39mshape[\u001b[38;5;241m1\u001b[39m] \u001b[38;5;241m>\u001b[39m \u001b[38;5;241m1\u001b[39m:\n\u001b[0;32m    311\u001b[0m         \u001b[38;5;28;01mraise\u001b[39;00m \u001b[38;5;167;01mNotImplementedError\u001b[39;00m(\n\u001b[0;32m    312\u001b[0m             \u001b[38;5;124m\"\u001b[39m\u001b[38;5;124mMultilabel and multi-output classification is not supported.\u001b[39m\u001b[38;5;124m\"\u001b[39m\n\u001b[0;32m    313\u001b[0m         )\n",
      "File \u001b[1;32m~\\anaconda3\\lib\\site-packages\\sklearn\\utils\\multiclass.py:197\u001b[0m, in \u001b[0;36mcheck_classification_targets\u001b[1;34m(y)\u001b[0m\n\u001b[0;32m    189\u001b[0m y_type \u001b[38;5;241m=\u001b[39m type_of_target(y)\n\u001b[0;32m    190\u001b[0m \u001b[38;5;28;01mif\u001b[39;00m y_type \u001b[38;5;129;01mnot\u001b[39;00m \u001b[38;5;129;01min\u001b[39;00m [\n\u001b[0;32m    191\u001b[0m     \u001b[38;5;124m\"\u001b[39m\u001b[38;5;124mbinary\u001b[39m\u001b[38;5;124m\"\u001b[39m,\n\u001b[0;32m    192\u001b[0m     \u001b[38;5;124m\"\u001b[39m\u001b[38;5;124mmulticlass\u001b[39m\u001b[38;5;124m\"\u001b[39m,\n\u001b[1;32m   (...)\u001b[0m\n\u001b[0;32m    195\u001b[0m     \u001b[38;5;124m\"\u001b[39m\u001b[38;5;124mmultilabel-sequences\u001b[39m\u001b[38;5;124m\"\u001b[39m,\n\u001b[0;32m    196\u001b[0m ]:\n\u001b[1;32m--> 197\u001b[0m     \u001b[38;5;28;01mraise\u001b[39;00m \u001b[38;5;167;01mValueError\u001b[39;00m(\u001b[38;5;124m\"\u001b[39m\u001b[38;5;124mUnknown label type: \u001b[39m\u001b[38;5;132;01m%r\u001b[39;00m\u001b[38;5;124m\"\u001b[39m \u001b[38;5;241m%\u001b[39m y_type)\n",
      "\u001b[1;31mValueError\u001b[0m: Unknown label type: 'continuous-multioutput'"
     ]
    }
   ],
   "source": [
    "logreg = LogisticRegression(multi_class='multinomial', max_iter=2000, random_state=42)\n",
    "randFor = RandomForestClassifier(n_estimators=50, random_state=15)\n",
    "svm = SVC(probability=True, random_state=1) \n",
    "\n",
    "# voting ensemble classifier \n",
    "model2 = VotingClassifier(estimators=[('lr', logreg), ('rf', randFor), ('svm', svm)], voting='hard')\n",
    "\n",
    "#recycle the kfold train method since it's still just testing all the data \n",
    "trainMetrics=trainRandSets(model2,features, trainingSets)\n"
   ]
  },
  {
   "cell_type": "code",
   "execution_count": null,
   "id": "d0ee158a",
   "metadata": {},
   "outputs": [],
   "source": []
  }
 ],
 "metadata": {
  "kernelspec": {
   "display_name": "Python 3 (ipykernel)",
   "language": "python",
   "name": "python3"
  },
  "language_info": {
   "codemirror_mode": {
    "name": "ipython",
    "version": 3
   },
   "file_extension": ".py",
   "mimetype": "text/x-python",
   "name": "python",
   "nbconvert_exporter": "python",
   "pygments_lexer": "ipython3",
   "version": "3.9.7"
  }
 },
 "nbformat": 4,
 "nbformat_minor": 5
}
