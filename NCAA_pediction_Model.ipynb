{
 "cells": [
  {
   "cell_type": "markdown",
   "id": "aa307109",
   "metadata": {},
   "source": [
    "## Cleaning\n",
    "Drop column with extera catigorical data or data that just give bias to prefered players: usage, college year, ht, num, pfr, year, rec rank, pick, pik drafted, gbpm, offensive gdbm, defensive gdbm, type, Recruit Rank"
   ]
  },
  {
   "cell_type": "code",
   "execution_count": 2,
   "id": "2171391a",
   "metadata": {},
   "outputs": [
    {
     "name": "stderr",
     "output_type": "stream",
     "text": [
      "C:\\Users\\HP\\AppData\\Local\\Temp\\ipykernel_26084\\1196356588.py:17: DtypeWarning: Columns (27) have mixed types. Specify dtype option on import or set low_memory=False.\n",
      "  dfBasketball = pd.read_csv(file_path)\n"
     ]
    },
    {
     "name": "stdout",
     "output_type": "stream",
     "text": [
      "<class 'pandas.core.frame.DataFrame'>\n",
      "RangeIndex: 61061 entries, 0 to 61060\n",
      "Data columns (total 66 columns):\n",
      " #   Column                           Non-Null Count  Dtype  \n",
      "---  ------                           --------------  -----  \n",
      " 0   player_name                      61061 non-null  object \n",
      " 1   team                             61061 non-null  object \n",
      " 2   conf                             61061 non-null  object \n",
      " 3   GP                               61061 non-null  int64  \n",
      " 4   Min_per                          61061 non-null  float64\n",
      " 5   Ortg                             61061 non-null  float64\n",
      " 6   usg                              61061 non-null  float64\n",
      " 7   eFG                              61061 non-null  float64\n",
      " 8   TS_per                           61061 non-null  float64\n",
      " 9   ORB_per                          61061 non-null  float64\n",
      " 10  DRB_per                          61061 non-null  float64\n",
      " 11  AST_per                          61061 non-null  float64\n",
      " 12  TO_per                           61061 non-null  float64\n",
      " 13  FTM                              61061 non-null  int64  \n",
      " 14  FTA                              61061 non-null  int64  \n",
      " 15  FT_per                           61061 non-null  float64\n",
      " 16  twoPM                            61061 non-null  int64  \n",
      " 17  twoPA                            61061 non-null  int64  \n",
      " 18  twoP_per                         61061 non-null  float64\n",
      " 19  TPM                              61061 non-null  int64  \n",
      " 20  TPA                              61061 non-null  int64  \n",
      " 21  TP_per                           61061 non-null  float64\n",
      " 22  blk_per                          61061 non-null  float64\n",
      " 23  stl_per                          61061 non-null  float64\n",
      " 24  ftr                              61061 non-null  float64\n",
      " 25  yr                               60767 non-null  object \n",
      " 26  ht                               60950 non-null  object \n",
      " 27  num                              56275 non-null  object \n",
      " 28  porpag                           61061 non-null  float64\n",
      " 29  adjoe                            61061 non-null  float64\n",
      " 30  pfr                              61061 non-null  float64\n",
      " 31  year                             61061 non-null  int64  \n",
      " 32  pid                              61061 non-null  int64  \n",
      " 33  type                             61061 non-null  object \n",
      " 34  Rec Rank                         18470 non-null  float64\n",
      " 35  ast/tov                          56334 non-null  float64\n",
      " 36  rimmade                          54732 non-null  float64\n",
      " 37  rimmade+rimmiss                  54732 non-null  float64\n",
      " 38  midmade                          54732 non-null  float64\n",
      " 39  midmade+midmiss                  54732 non-null  float64\n",
      " 40  rimmade/(rimmade+rimmiss)        50951 non-null  float64\n",
      " 41  midmade/(midmade+midmiss)        50676 non-null  float64\n",
      " 42  dunksmade                        54732 non-null  float64\n",
      " 43  dunksmiss+dunksmade              54732 non-null  float64\n",
      " 44  dunksmade/(dunksmade+dunksmiss)  27551 non-null  float64\n",
      " 45  pick                             1435 non-null   float64\n",
      " 46  drtg                             61016 non-null  float64\n",
      " 47  adrtg                            61016 non-null  float64\n",
      " 48  dporpag                          61016 non-null  float64\n",
      " 49  stops                            61016 non-null  float64\n",
      " 50  bpm                              61016 non-null  float64\n",
      " 51  obpm                             61016 non-null  float64\n",
      " 52  dbpm                             61016 non-null  float64\n",
      " 53  gbpm                             61016 non-null  float64\n",
      " 54  mp                               61023 non-null  float64\n",
      " 55  ogbpm                            61016 non-null  float64\n",
      " 56  dgbpm                            61016 non-null  float64\n",
      " 57  oreb                             61023 non-null  float64\n",
      " 58  dreb                             61023 non-null  float64\n",
      " 59  treb                             61023 non-null  float64\n",
      " 60  ast                              61023 non-null  float64\n",
      " 61  stl                              61023 non-null  float64\n",
      " 62  blk                              61023 non-null  float64\n",
      " 63  pts                              61023 non-null  float64\n",
      " 64  Unnamed: 64                      56377 non-null  object \n",
      " 65  Unnamed: 65                      61016 non-null  float64\n",
      "dtypes: float64(49), int64(9), object(8)\n",
      "memory usage: 30.7+ MB\n",
      "<class 'pandas.core.frame.DataFrame'>\n",
      "RangeIndex: 61061 entries, 0 to 61060\n",
      "Data columns (total 55 columns):\n",
      " #   Column                           Non-Null Count  Dtype  \n",
      "---  ------                           --------------  -----  \n",
      " 0   player_name                      61061 non-null  object \n",
      " 1   team                             61061 non-null  object \n",
      " 2   conf                             61061 non-null  object \n",
      " 3   GP                               61061 non-null  int64  \n",
      " 4   Min_per                          61061 non-null  float64\n",
      " 5   Ortg                             61061 non-null  float64\n",
      " 6   eFG                              61061 non-null  float64\n",
      " 7   TS_per                           61061 non-null  float64\n",
      " 8   ORB_per                          61061 non-null  float64\n",
      " 9   DRB_per                          61061 non-null  float64\n",
      " 10  AST_per                          61061 non-null  float64\n",
      " 11  TO_per                           61061 non-null  float64\n",
      " 12  FTM                              61061 non-null  int64  \n",
      " 13  FTA                              61061 non-null  int64  \n",
      " 14  FT_per                           61061 non-null  float64\n",
      " 15  twoPM                            61061 non-null  int64  \n",
      " 16  twoPA                            61061 non-null  int64  \n",
      " 17  twoP_per                         61061 non-null  float64\n",
      " 18  TPM                              61061 non-null  int64  \n",
      " 19  TPA                              61061 non-null  int64  \n",
      " 20  TP_per                           61061 non-null  float64\n",
      " 21  blk_per                          61061 non-null  float64\n",
      " 22  stl_per                          61061 non-null  float64\n",
      " 23  ftr                              61061 non-null  float64\n",
      " 24  yr                               60767 non-null  object \n",
      " 25  porpag                           61061 non-null  float64\n",
      " 26  adjoe                            61061 non-null  float64\n",
      " 27  pid                              61061 non-null  int64  \n",
      " 28  ast/tov                          56334 non-null  float64\n",
      " 29  rimmade                          54732 non-null  float64\n",
      " 30  rimmade+rimmiss                  54732 non-null  float64\n",
      " 31  midmade                          54732 non-null  float64\n",
      " 32  midmade+midmiss                  54732 non-null  float64\n",
      " 33  rimmade/(rimmade+rimmiss)        50951 non-null  float64\n",
      " 34  midmade/(midmade+midmiss)        50676 non-null  float64\n",
      " 35  dunksmade                        54732 non-null  float64\n",
      " 36  dunksmiss+dunksmade              54732 non-null  float64\n",
      " 37  dunksmade/(dunksmade+dunksmiss)  27551 non-null  float64\n",
      " 38  drtg                             61016 non-null  float64\n",
      " 39  adrtg                            61016 non-null  float64\n",
      " 40  dporpag                          61016 non-null  float64\n",
      " 41  stops                            61016 non-null  float64\n",
      " 42  bpm                              61016 non-null  float64\n",
      " 43  obpm                             61016 non-null  float64\n",
      " 44  dbpm                             61016 non-null  float64\n",
      " 45  mp                               61023 non-null  float64\n",
      " 46  oreb                             61023 non-null  float64\n",
      " 47  dreb                             61023 non-null  float64\n",
      " 48  treb                             61023 non-null  float64\n",
      " 49  ast                              61023 non-null  float64\n",
      " 50  stl                              61023 non-null  float64\n",
      " 51  blk                              61023 non-null  float64\n",
      " 52  pts                              61023 non-null  float64\n",
      " 53  Unnamed: 64                      56377 non-null  object \n",
      " 54  Unnamed: 65                      61016 non-null  float64\n",
      "dtypes: float64(42), int64(8), object(5)\n",
      "memory usage: 25.6+ MB\n"
     ]
    }
   ],
   "source": [
    "#Alisha \n",
    "import numpy as np\n",
    "import pandas as pd\n",
    "import matplotlib.pylab as plt\n",
    "%matplotlib inline\n",
    "\n",
    "import seaborn as sns\n",
    "from sklearn.model_selection import train_test_split\n",
    "from sklearn.linear_model import LinearRegression, Ridge, Lasso\n",
    "from sklearn import metrics\n",
    "from sklearn.impute import KNNImputer\n",
    "from sklearn.preprocessing import LabelEncoder\n",
    "\n",
    "pd.set_option('display.max_columns', 70)\n",
    "\n",
    "file_path = 'trainingData/CollegeBasketballPlayers2009-2021.csv'\n",
    "dfBasketball = pd.read_csv(file_path)\n",
    "\n",
    "# Inspect some of the data\n",
    "dfBasketball.head()\n",
    "\n",
    "dfBasketball.info()\n",
    "\n",
    "dfBasketballTraining = dfBasketball.drop(columns=['usg','ht', 'num', 'pfr', 'year', 'Rec Rank', 'pick', 'gbpm', 'ogbpm', 'dgbpm', 'type'])\n",
    "\n",
    "dfBasketballTraining.info()\n"
   ]
  },
  {
   "cell_type": "markdown",
   "id": "c9702a4d",
   "metadata": {},
   "source": [
    "fill in missing values for dunks made"
   ]
  },
  {
   "cell_type": "code",
   "execution_count": 6,
   "id": "1796e1f6",
   "metadata": {},
   "outputs": [
    {
     "data": {
      "image/png": "[encoded data removed]",
      "text/plain": [
       "<Figure size 640x480 with 1 Axes>"
      ]
     },
     "metadata": {},
     "output_type": "display_data"
    }
   ],
   "source": []
  },
  {
   "cell_type": "code",
   "execution_count": null,
   "id": "71cebfc8",
   "metadata": {},
   "outputs": [],
   "source": [
    "#Josh "
   ]
  },
  {
   "cell_type": "markdown",
   "id": "b3876ddd",
   "metadata": {},
   "source": [
    "fill in missing values for dunks attempt"
   ]
  },
  {
   "cell_type": "code",
   "execution_count": null,
   "id": "139e7e6a",
   "metadata": {},
   "outputs": [],
   "source": [
    "#Josh "
   ]
  },
  {
   "cell_type": "markdown",
   "id": "09b86a62",
   "metadata": {},
   "source": [
    "fill in missing values for midrange shots made"
   ]
  },
  {
   "cell_type": "code",
   "execution_count": null,
   "id": "0fb0bca9",
   "metadata": {},
   "outputs": [],
   "source": [
    "#Heather "
   ]
  },
  {
   "cell_type": "markdown",
   "id": "935bbc40",
   "metadata": {},
   "source": [
    "fill in missing values for midrange attempts"
   ]
  },
  {
   "cell_type": "code",
   "execution_count": null,
   "id": "456b23da",
   "metadata": {},
   "outputs": [],
   "source": [
    "#Heather "
   ]
  },
  {
   "cell_type": "markdown",
   "id": "dc879073",
   "metadata": {},
   "source": [
    "fill in missing values for rim shots made"
   ]
  },
  {
   "cell_type": "code",
   "execution_count": 7,
   "id": "4dbca026",
   "metadata": {},
   "outputs": [
    {
     "ename": "KeyError",
     "evalue": "'role_position'",
     "output_type": "error",
     "traceback": [
      "\u001b[1;31m---------------------------------------------------------------------------\u001b[0m",
      "\u001b[1;31mKeyError\u001b[0m                                  Traceback (most recent call last)",
      "File \u001b[1;32m~\\AppData\\Local\\Packages\\PythonSoftwareFoundation.Python.3.10_qbz5n2kfra8p0\\LocalCache\\local-packages\\Python310\\site-packages\\pandas\\core\\indexes\\base.py:3790\u001b[0m, in \u001b[0;36mIndex.get_loc\u001b[1;34m(self, key)\u001b[0m\n\u001b[0;32m   3789\u001b[0m \u001b[39mtry\u001b[39;00m:\n\u001b[1;32m-> 3790\u001b[0m     \u001b[39mreturn\u001b[39;00m \u001b[39mself\u001b[39;49m\u001b[39m.\u001b[39;49m_engine\u001b[39m.\u001b[39;49mget_loc(casted_key)\n\u001b[0;32m   3791\u001b[0m \u001b[39mexcept\u001b[39;00m \u001b[39mKeyError\u001b[39;00m \u001b[39mas\u001b[39;00m err:\n",
      "File \u001b[1;32mindex.pyx:152\u001b[0m, in \u001b[0;36mpandas._libs.index.IndexEngine.get_loc\u001b[1;34m()\u001b[0m\n",
      "File \u001b[1;32mindex.pyx:181\u001b[0m, in \u001b[0;36mpandas._libs.index.IndexEngine.get_loc\u001b[1;34m()\u001b[0m\n",
      "File \u001b[1;32mpandas\\_libs\\hashtable_class_helper.pxi:7080\u001b[0m, in \u001b[0;36mpandas._libs.hashtable.PyObjectHashTable.get_item\u001b[1;34m()\u001b[0m\n",
      "File \u001b[1;32mpandas\\_libs\\hashtable_class_helper.pxi:7088\u001b[0m, in \u001b[0;36mpandas._libs.hashtable.PyObjectHashTable.get_item\u001b[1;34m()\u001b[0m\n",
      "\u001b[1;31mKeyError\u001b[0m: 'role_position'",
      "\nThe above exception was the direct cause of the following exception:\n",
      "\u001b[1;31mKeyError\u001b[0m                                  Traceback (most recent call last)",
      "\u001b[1;32mc:\\Users\\HP\\NCAA-Basketball-Player-Predictions-\\NCAA_pediction_Model.ipynb Cell 13\u001b[0m line \u001b[0;36m1\n\u001b[0;32m      <a href='vscode-notebook-cell:/c%3A/Users/HP/NCAA-Basketball-Player-Predictions-/NCAA_pediction_Model.ipynb#X14sZmlsZQ%3D%3D?line=7'>8</a>\u001b[0m dfBasketballTraining[\u001b[39m'\u001b[39m\u001b[39myr\u001b[39m\u001b[39m'\u001b[39m] \u001b[39m=\u001b[39m yr_label_encoder\u001b[39m.\u001b[39mfit_transform(dfBasketballTraining[\u001b[39m'\u001b[39m\u001b[39myr\u001b[39m\u001b[39m'\u001b[39m])\n\u001b[0;32m     <a href='vscode-notebook-cell:/c%3A/Users/HP/NCAA-Basketball-Player-Predictions-/NCAA_pediction_Model.ipynb#X14sZmlsZQ%3D%3D?line=9'>10</a>\u001b[0m role_position_label_encoder \u001b[39m=\u001b[39m LabelEncoder()\n\u001b[1;32m---> <a href='vscode-notebook-cell:/c%3A/Users/HP/NCAA-Basketball-Player-Predictions-/NCAA_pediction_Model.ipynb#X14sZmlsZQ%3D%3D?line=10'>11</a>\u001b[0m dfBasketballTraining[\u001b[39m'\u001b[39m\u001b[39mrole_position\u001b[39m\u001b[39m'\u001b[39m] \u001b[39m=\u001b[39m role_position_label_encoder\u001b[39m.\u001b[39mfit_transform(dfBasketballTraining[\u001b[39m'\u001b[39;49m\u001b[39mrole_position\u001b[39;49m\u001b[39m'\u001b[39;49m])\n",
      "File \u001b[1;32m~\\AppData\\Local\\Packages\\PythonSoftwareFoundation.Python.3.10_qbz5n2kfra8p0\\LocalCache\\local-packages\\Python310\\site-packages\\pandas\\core\\frame.py:3896\u001b[0m, in \u001b[0;36mDataFrame.__getitem__\u001b[1;34m(self, key)\u001b[0m\n\u001b[0;32m   3894\u001b[0m \u001b[39mif\u001b[39;00m \u001b[39mself\u001b[39m\u001b[39m.\u001b[39mcolumns\u001b[39m.\u001b[39mnlevels \u001b[39m>\u001b[39m \u001b[39m1\u001b[39m:\n\u001b[0;32m   3895\u001b[0m     \u001b[39mreturn\u001b[39;00m \u001b[39mself\u001b[39m\u001b[39m.\u001b[39m_getitem_multilevel(key)\n\u001b[1;32m-> 3896\u001b[0m indexer \u001b[39m=\u001b[39m \u001b[39mself\u001b[39;49m\u001b[39m.\u001b[39;49mcolumns\u001b[39m.\u001b[39;49mget_loc(key)\n\u001b[0;32m   3897\u001b[0m \u001b[39mif\u001b[39;00m is_integer(indexer):\n\u001b[0;32m   3898\u001b[0m     indexer \u001b[39m=\u001b[39m [indexer]\n",
      "File \u001b[1;32m~\\AppData\\Local\\Packages\\PythonSoftwareFoundation.Python.3.10_qbz5n2kfra8p0\\LocalCache\\local-packages\\Python310\\site-packages\\pandas\\core\\indexes\\base.py:3797\u001b[0m, in \u001b[0;36mIndex.get_loc\u001b[1;34m(self, key)\u001b[0m\n\u001b[0;32m   3792\u001b[0m     \u001b[39mif\u001b[39;00m \u001b[39misinstance\u001b[39m(casted_key, \u001b[39mslice\u001b[39m) \u001b[39mor\u001b[39;00m (\n\u001b[0;32m   3793\u001b[0m         \u001b[39misinstance\u001b[39m(casted_key, abc\u001b[39m.\u001b[39mIterable)\n\u001b[0;32m   3794\u001b[0m         \u001b[39mand\u001b[39;00m \u001b[39many\u001b[39m(\u001b[39misinstance\u001b[39m(x, \u001b[39mslice\u001b[39m) \u001b[39mfor\u001b[39;00m x \u001b[39min\u001b[39;00m casted_key)\n\u001b[0;32m   3795\u001b[0m     ):\n\u001b[0;32m   3796\u001b[0m         \u001b[39mraise\u001b[39;00m InvalidIndexError(key)\n\u001b[1;32m-> 3797\u001b[0m     \u001b[39mraise\u001b[39;00m \u001b[39mKeyError\u001b[39;00m(key) \u001b[39mfrom\u001b[39;00m \u001b[39merr\u001b[39;00m\n\u001b[0;32m   3798\u001b[0m \u001b[39mexcept\u001b[39;00m \u001b[39mTypeError\u001b[39;00m:\n\u001b[0;32m   3799\u001b[0m     \u001b[39m# If we have a listlike key, _check_indexing_error will raise\u001b[39;00m\n\u001b[0;32m   3800\u001b[0m     \u001b[39m#  InvalidIndexError. Otherwise we fall through and re-raise\u001b[39;00m\n\u001b[0;32m   3801\u001b[0m     \u001b[39m#  the TypeError.\u001b[39;00m\n\u001b[0;32m   3802\u001b[0m     \u001b[39mself\u001b[39m\u001b[39m.\u001b[39m_check_indexing_error(key)\n",
      "\u001b[1;31mKeyError\u001b[0m: 'role_position'"
     ]
    }
   ],
   "source": []
  },
  {
   "cell_type": "code",
   "execution_count": 29,
   "id": "0ad0d11c",
   "metadata": {},
   "outputs": [
    {
     "name": "stdout",
     "output_type": "stream",
     "text": [
      "Number of missing values in rimmade column: 6329\n",
      "Number of missing values in rimmade column: 4243\n",
      "Empty DataFrame\n",
      "Columns: [player_name, team, conf, GP, Min_per, Ortg, usg, eFG, TS_per, ORB_per, DRB_per, AST_per, TO_per, FTM, FTA, FT_per, twoPM, twoPA, twoP_per, TPM, TPA, TP_per, blk_per, stl_per, ftr, yr, ht, num, porpag, adjoe, pfr, year, pid, type, Rec Rank, ast/tov, rimmade, rimmade+rimmiss, midmade, midmade+midmiss, rimmade/(rimmade+rimmiss), midmade/(midmade+midmiss), dunksmade, dunksmiss+dunksmade, dunksmade/(dunksmade+dunksmiss), pick, drtg, adrtg, dporpag, stops, bpm, obpm, dbpm, gbpm, mp, ogbpm, dgbpm, oreb, dreb, treb, ast, stl, blk, pts, Unnamed: 64, Unnamed: 65]\n",
      "Index: []\n"
     ]
    }
   ],
   "source": []
  },
  {
   "cell_type": "code",
   "execution_count": null,
   "id": "99d0fd90",
   "metadata": {},
   "outputs": [],
   "source": []
  },
  {
   "cell_type": "markdown",
   "id": "9ea8d937",
   "metadata": {},
   "source": [
    "fill in missing values for rim shots attempted "
   ]
  },
  {
   "cell_type": "code",
   "execution_count": null,
   "id": "e192e1e8",
   "metadata": {},
   "outputs": [],
   "source": [
    "#Alisha "
   ]
  },
  {
   "cell_type": "markdown",
   "id": "cd6c1d6e",
   "metadata": {},
   "source": [
    "check for players still missing over 15% of the data and drop "
   ]
  },
  {
   "cell_type": "code",
   "execution_count": null,
   "id": "9a3d0375",
   "metadata": {},
   "outputs": [],
   "source": [
    "#Steve"
   ]
  },
  {
   "cell_type": "markdown",
   "id": "ffb809ae",
   "metadata": {},
   "source": [
    "check and fill any remaining nulls in the columns "
   ]
  },
  {
   "cell_type": "code",
   "execution_count": null,
   "id": "a322e0c7",
   "metadata": {},
   "outputs": [],
   "source": [
    "#Steve"
   ]
  },
  {
   "cell_type": "markdown",
   "id": "da6b6863",
   "metadata": {},
   "source": [
    "## Transform "
   ]
  },
  {
   "cell_type": "markdown",
   "id": "5e4564ed",
   "metadata": {},
   "source": []
  },
  {
   "cell_type": "code",
   "execution_count": null,
   "id": "14fc2023",
   "metadata": {},
   "outputs": [],
   "source": []
  },
  {
   "cell_type": "code",
   "execution_count": null,
   "id": "c95f53d8",
   "metadata": {},
   "outputs": [],
   "source": []
  }
 ],
 "metadata": {
  "kernelspec": {
   "display_name": "Python 3 (ipykernel)",
   "language": "python",
   "name": "python3"
  },
  "language_info": {
   "codemirror_mode": {
    "name": "ipython",
    "version": 3
   },
   "file_extension": ".py",
   "mimetype": "text/x-python",
   "name": "python",
   "nbconvert_exporter": "python",
   "pygments_lexer": "ipython3",
   "version": "3.10.11"
  }
 },
 "nbformat": 4,
 "nbformat_minor": 5
}
