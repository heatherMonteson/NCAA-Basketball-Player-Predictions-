{
 "cells": [
  {
   "cell_type": "markdown",
   "id": "aa307109",
   "metadata": {},
   "source": [
    "## Cleaning\n",
    "Drop column with extera catigorical data or data that just give bias to prefered players: usage, college year, ht, num, pfr, year, rec rank, pick, pik drafted, gbpm, offensive gdbm, defensive gdbm, type, Recruit Rank"
   ]
  },
  {
   "cell_type": "code",
   "execution_count": 12,
   "id": "2171391a",
   "metadata": {},
   "outputs": [
    {
     "name": "stderr",
     "output_type": "stream",
     "text": [
      "C:\\Users\\HP\\AppData\\Local\\Temp\\ipykernel_1072\\454714667.py:10: DtypeWarning: Columns (27) have mixed types. Specify dtype option on import or set low_memory=False.\n",
      "  dfBasketball = pd.read_csv(file_path)\n"
     ]
    },
    {
     "name": "stdout",
     "output_type": "stream",
     "text": [
      "<class 'pandas.core.frame.DataFrame'>\n",
      "RangeIndex: 61061 entries, 0 to 61060\n",
      "Data columns (total 66 columns):\n",
      " #   Column                           Non-Null Count  Dtype  \n",
      "---  ------                           --------------  -----  \n",
      " 0   player_name                      61061 non-null  object \n",
      " 1   team                             61061 non-null  object \n",
      " 2   conf                             61061 non-null  object \n",
      " 3   GP                               61061 non-null  int64  \n",
      " 4   Min_per                          61061 non-null  float64\n",
      " 5   Ortg                             61061 non-null  float64\n",
      " 6   usg                              61061 non-null  float64\n",
      " 7   eFG                              61061 non-null  float64\n",
      " 8   TS_per                           61061 non-null  float64\n",
      " 9   ORB_per                          61061 non-null  float64\n",
      " 10  DRB_per                          61061 non-null  float64\n",
      " 11  AST_per                          61061 non-null  float64\n",
      " 12  TO_per                           61061 non-null  float64\n",
      " 13  FTM                              61061 non-null  int64  \n",
      " 14  FTA                              61061 non-null  int64  \n",
      " 15  FT_per                           61061 non-null  float64\n",
      " 16  twoPM                            61061 non-null  int64  \n",
      " 17  twoPA                            61061 non-null  int64  \n",
      " 18  twoP_per                         61061 non-null  float64\n",
      " 19  TPM                              61061 non-null  int64  \n",
      " 20  TPA                              61061 non-null  int64  \n",
      " 21  TP_per                           61061 non-null  float64\n",
      " 22  blk_per                          61061 non-null  float64\n",
      " 23  stl_per                          61061 non-null  float64\n",
      " 24  ftr                              61061 non-null  float64\n",
      " 25  yr                               60767 non-null  object \n",
      " 26  ht                               60950 non-null  object \n",
      " 27  num                              56275 non-null  object \n",
      " 28  porpag                           61061 non-null  float64\n",
      " 29  adjoe                            61061 non-null  float64\n",
      " 30  pfr                              61061 non-null  float64\n",
      " 31  year                             61061 non-null  int64  \n",
      " 32  pid                              61061 non-null  int64  \n",
      " 33  type                             61061 non-null  object \n",
      " 34  Rec Rank                         18470 non-null  float64\n",
      " 35  ast/tov                          56334 non-null  float64\n",
      " 36  rimmade                          54732 non-null  float64\n",
      " 37  rimmade+rimmiss                  54732 non-null  float64\n",
      " 38  midmade                          54732 non-null  float64\n",
      " 39  midmade+midmiss                  54732 non-null  float64\n",
      " 40  rimmade/(rimmade+rimmiss)        50951 non-null  float64\n",
      " 41  midmade/(midmade+midmiss)        50676 non-null  float64\n",
      " 42  dunksmade                        54732 non-null  float64\n",
      " 43  dunksmiss+dunksmade              54732 non-null  float64\n",
      " 44  dunksmade/(dunksmade+dunksmiss)  27551 non-null  float64\n",
      " 45  pick                             1435 non-null   float64\n",
      " 46  drtg                             61016 non-null  float64\n",
      " 47  adrtg                            61016 non-null  float64\n",
      " 48  dporpag                          61016 non-null  float64\n",
      " 49  stops                            61016 non-null  float64\n",
      " 50  bpm                              61016 non-null  float64\n",
      " 51  obpm                             61016 non-null  float64\n",
      " 52  dbpm                             61016 non-null  float64\n",
      " 53  gbpm                             61016 non-null  float64\n",
      " 54  mp                               61023 non-null  float64\n",
      " 55  ogbpm                            61016 non-null  float64\n",
      " 56  dgbpm                            61016 non-null  float64\n",
      " 57  oreb                             61023 non-null  float64\n",
      " 58  dreb                             61023 non-null  float64\n",
      " 59  treb                             61023 non-null  float64\n",
      " 60  ast                              61023 non-null  float64\n",
      " 61  stl                              61023 non-null  float64\n",
      " 62  blk                              61023 non-null  float64\n",
      " 63  pts                              61023 non-null  float64\n",
      " 64  Unnamed: 64                      56377 non-null  object \n",
      " 65  Unnamed: 65                      61016 non-null  float64\n",
      "dtypes: float64(49), int64(9), object(8)\n",
      "memory usage: 30.7+ MB\n",
      "<class 'pandas.core.frame.DataFrame'>\n",
      "RangeIndex: 61061 entries, 0 to 61060\n",
      "Data columns (total 54 columns):\n",
      " #   Column                           Non-Null Count  Dtype  \n",
      "---  ------                           --------------  -----  \n",
      " 0   player_name                      61061 non-null  object \n",
      " 1   team                             61061 non-null  object \n",
      " 2   conf                             61061 non-null  object \n",
      " 3   GP                               61061 non-null  int64  \n",
      " 4   Min_per                          61061 non-null  float64\n",
      " 5   Ortg                             61061 non-null  float64\n",
      " 6   eFG                              61061 non-null  float64\n",
      " 7   TS_per                           61061 non-null  float64\n",
      " 8   ORB_per                          61061 non-null  float64\n",
      " 9   DRB_per                          61061 non-null  float64\n",
      " 10  AST_per                          61061 non-null  float64\n",
      " 11  TO_per                           61061 non-null  float64\n",
      " 12  FTM                              61061 non-null  int64  \n",
      " 13  FTA                              61061 non-null  int64  \n",
      " 14  FT_per                           61061 non-null  float64\n",
      " 15  twoPM                            61061 non-null  int64  \n",
      " 16  twoPA                            61061 non-null  int64  \n",
      " 17  twoP_per                         61061 non-null  float64\n",
      " 18  TPM                              61061 non-null  int64  \n",
      " 19  TPA                              61061 non-null  int64  \n",
      " 20  TP_per                           61061 non-null  float64\n",
      " 21  blk_per                          61061 non-null  float64\n",
      " 22  stl_per                          61061 non-null  float64\n",
      " 23  ftr                              61061 non-null  float64\n",
      " 24  porpag                           61061 non-null  float64\n",
      " 25  adjoe                            61061 non-null  float64\n",
      " 26  pid                              61061 non-null  int64  \n",
      " 27  ast/tov                          56334 non-null  float64\n",
      " 28  rimmade                          54732 non-null  float64\n",
      " 29  rimmade+rimmiss                  54732 non-null  float64\n",
      " 30  midmade                          54732 non-null  float64\n",
      " 31  midmade+midmiss                  54732 non-null  float64\n",
      " 32  rimmade/(rimmade+rimmiss)        50951 non-null  float64\n",
      " 33  midmade/(midmade+midmiss)        50676 non-null  float64\n",
      " 34  dunksmade                        54732 non-null  float64\n",
      " 35  dunksmiss+dunksmade              54732 non-null  float64\n",
      " 36  dunksmade/(dunksmade+dunksmiss)  27551 non-null  float64\n",
      " 37  drtg                             61016 non-null  float64\n",
      " 38  adrtg                            61016 non-null  float64\n",
      " 39  dporpag                          61016 non-null  float64\n",
      " 40  stops                            61016 non-null  float64\n",
      " 41  bpm                              61016 non-null  float64\n",
      " 42  obpm                             61016 non-null  float64\n",
      " 43  dbpm                             61016 non-null  float64\n",
      " 44  mp                               61023 non-null  float64\n",
      " 45  oreb                             61023 non-null  float64\n",
      " 46  dreb                             61023 non-null  float64\n",
      " 47  treb                             61023 non-null  float64\n",
      " 48  ast                              61023 non-null  float64\n",
      " 49  stl                              61023 non-null  float64\n",
      " 50  blk                              61023 non-null  float64\n",
      " 51  pts                              61023 non-null  float64\n",
      " 52  Unnamed: 64                      56377 non-null  object \n",
      " 53  Unnamed: 65                      61016 non-null  float64\n",
      "dtypes: float64(42), int64(8), object(4)\n",
      "memory usage: 25.2+ MB\n"
     ]
    }
   ],
   "source": [
    "#Alisha \n",
    "import numpy as np\n",
    "import pandas as pd\n",
    "import matplotlib.pylab as plt\n",
    "%matplotlib inline\n",
    "\n",
    "pd.set_option('display.max_columns', 70)\n",
    "\n",
    "file_path = 'trainingData/CollegeBasketballPlayers2009-2021.csv'\n",
    "dfBasketball = pd.read_csv(file_path)\n",
    "\n",
    "# Inspect some of the data\n",
    "dfBasketball.head()\n",
    "\n",
    "dfBasketball.info()\n",
    "\n",
    "dfBasketballTraining = dfBasketball.drop(columns=['usg','yr','ht', 'num', 'pfr', 'year', 'Rec Rank', 'pick', 'gbpm', 'ogbpm', 'dgbpm', 'type'])\n",
    "\n",
    "dfBasketballTraining.info()\n"
   ]
  },
  {
   "cell_type": "markdown",
   "id": "c9702a4d",
   "metadata": {},
   "source": [
    "fill in missing values for dunks made"
   ]
  },
  {
   "cell_type": "code",
   "execution_count": 3,
   "id": "71cebfc8",
   "metadata": {},
   "outputs": [],
   "source": [
    "#Josh "
   ]
  },
  {
   "cell_type": "markdown",
   "id": "b3876ddd",
   "metadata": {},
   "source": [
    "fill in missing values for dunks attempt"
   ]
  },
  {
   "cell_type": "code",
   "execution_count": 4,
   "id": "139e7e6a",
   "metadata": {},
   "outputs": [],
   "source": [
    "#Josh "
   ]
  },
  {
   "cell_type": "markdown",
   "id": "09b86a62",
   "metadata": {},
   "source": [
    "fill in missing values for midrange shots made"
   ]
  },
  {
   "cell_type": "code",
   "execution_count": 5,
   "id": "0fb0bca9",
   "metadata": {},
   "outputs": [],
   "source": [
    "#Heather "
   ]
  },
  {
   "cell_type": "markdown",
   "id": "935bbc40",
   "metadata": {},
   "source": [
    "fill in missing values for midrange attempts"
   ]
  },
  {
   "cell_type": "code",
   "execution_count": 6,
   "id": "456b23da",
   "metadata": {},
   "outputs": [],
   "source": [
    "#Heather "
   ]
  },
  {
   "cell_type": "markdown",
   "id": "dc879073",
   "metadata": {},
   "source": [
    "fill in missing values for rim shots made"
   ]
  },
  {
   "cell_type": "code",
   "execution_count": 1,
   "id": "0ad0d11c",
   "metadata": {},
   "outputs": [
    {
     "ename": "NameError",
     "evalue": "name 'dfBasketball' is not defined",
     "output_type": "error",
     "traceback": [
      "\u001b[1;31m---------------------------------------------------------------------------\u001b[0m",
      "\u001b[1;31mNameError\u001b[0m                                 Traceback (most recent call last)",
      "\u001b[1;32mc:\\Users\\HP\\NCAA-Basketball-Player-Predictions-\\NCAA_pediction_Model.ipynb Cell 12\u001b[0m line \u001b[0;36m4\n\u001b[0;32m      <a href='vscode-notebook-cell:/c%3A/Users/HP/NCAA-Basketball-Player-Predictions-/NCAA_pediction_Model.ipynb#X14sZmlsZQ%3D%3D?line=0'>1</a>\u001b[0m \u001b[39m#Alisha \u001b[39;00m\n\u001b[0;32m      <a href='vscode-notebook-cell:/c%3A/Users/HP/NCAA-Basketball-Player-Predictions-/NCAA_pediction_Model.ipynb#X14sZmlsZQ%3D%3D?line=1'>2</a>\u001b[0m \n\u001b[0;32m      <a href='vscode-notebook-cell:/c%3A/Users/HP/NCAA-Basketball-Player-Predictions-/NCAA_pediction_Model.ipynb#X14sZmlsZQ%3D%3D?line=2'>3</a>\u001b[0m \u001b[39m#Kaggle says 10% is num\u001b[39;00m\n\u001b[1;32m----> <a href='vscode-notebook-cell:/c%3A/Users/HP/NCAA-Basketball-Player-Predictions-/NCAA_pediction_Model.ipynb#X14sZmlsZQ%3D%3D?line=3'>4</a>\u001b[0m missing_values \u001b[39m=\u001b[39m dfBasketball[\u001b[39m'\u001b[39m\u001b[39mrimmade\u001b[39m\u001b[39m'\u001b[39m]\u001b[39m.\u001b[39misnull()\u001b[39m.\u001b[39msum()\n\u001b[0;32m      <a href='vscode-notebook-cell:/c%3A/Users/HP/NCAA-Basketball-Player-Predictions-/NCAA_pediction_Model.ipynb#X14sZmlsZQ%3D%3D?line=4'>5</a>\u001b[0m \u001b[39mprint\u001b[39m(\u001b[39mf\u001b[39m\u001b[39m\"\u001b[39m\u001b[39mNumber of missing values in rimmade column: \u001b[39m\u001b[39m{\u001b[39;00mmissing_values\u001b[39m}\u001b[39;00m\u001b[39m\"\u001b[39m)\n",
      "\u001b[1;31mNameError\u001b[0m: name 'dfBasketball' is not defined"
     ]
    }
   ],
   "source": [
    "#Alisha \n",
    "\n",
    "#Kaggle says 10% is null\n",
    "missing_values = dfBasketball['rimmade'].isnull().sum()\n",
    "print(f\"Number of missing values in rimmade column: {missing_values}\")\n"
   ]
  },
  {
   "cell_type": "markdown",
   "id": "9ea8d937",
   "metadata": {},
   "source": [
    "fill in missing values for rim shots attempted "
   ]
  },
  {
   "cell_type": "code",
   "execution_count": 8,
   "id": "e192e1e8",
   "metadata": {},
   "outputs": [],
   "source": [
    "#Alisha "
   ]
  },
  {
   "cell_type": "markdown",
   "id": "cd6c1d6e",
   "metadata": {},
   "source": [
    "check for players still missing over 15% of the data and drop "
   ]
  },
  {
   "cell_type": "code",
   "execution_count": 9,
   "id": "9a3d0375",
   "metadata": {},
   "outputs": [],
   "source": [
    "#Steve"
   ]
  },
  {
   "cell_type": "markdown",
   "id": "ffb809ae",
   "metadata": {},
   "source": [
    "check and fill any remaining nulls in the columns "
   ]
  },
  {
   "cell_type": "code",
   "execution_count": 10,
   "id": "a322e0c7",
   "metadata": {},
   "outputs": [],
   "source": [
    "#Steve"
   ]
  },
  {
   "cell_type": "markdown",
   "id": "da6b6863",
   "metadata": {},
   "source": [
    "## Transform "
   ]
  },
  {
   "cell_type": "markdown",
   "id": "5e4564ed",
   "metadata": {},
   "source": []
  },
  {
   "cell_type": "code",
   "execution_count": null,
   "id": "b7770fe0",
   "metadata": {},
   "outputs": [],
   "source": []
  }
 ],
 "metadata": {
  "kernelspec": {
   "display_name": "Python 3 (ipykernel)",
   "language": "python",
   "name": "python3"
  },
  "language_info": {
   "codemirror_mode": {
    "name": "ipython",
    "version": 3
   },
   "file_extension": ".py",
   "mimetype": "text/x-python",
   "name": "python",
   "nbconvert_exporter": "python",
   "pygments_lexer": "ipython3",
   "version": "3.11.1"
  }
 },
 "nbformat": 4,
 "nbformat_minor": 5
}
