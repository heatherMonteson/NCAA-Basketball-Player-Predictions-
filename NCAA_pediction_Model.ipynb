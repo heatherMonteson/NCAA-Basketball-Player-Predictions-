{
 "cells": [
  {
   "cell_type": "markdown",
   "id": "aa307109",
   "metadata": {},
   "source": [
    "## Cleaning\n",
    "Drop column with extera catigorical data or data that just give bias to prefered players: usage, college year, ht, num, pfr, year, rec rank, pick, pik drafted, gbpm, offensive gdbm, defensive gdbm, type, Recruit Rank"
   ]
  },
  {
   "cell_type": "code",
   "execution_count": null,
   "id": "2171391a",
   "metadata": {},
   "outputs": [],
   "source": [
    "#Alisha "
   ]
  },
  {
   "cell_type": "markdown",
   "id": "c9702a4d",
   "metadata": {},
   "source": [
    "fill in missing values for dunks made"
   ]
  },
  {
   "cell_type": "code",
   "execution_count": null,
   "id": "71cebfc8",
   "metadata": {},
   "outputs": [],
   "source": [
    "#Josh "
   ]
  },
  {
   "cell_type": "markdown",
   "id": "b3876ddd",
   "metadata": {},
   "source": [
    "fill in missing values for dunks attempt"
   ]
  },
  {
   "cell_type": "code",
   "execution_count": null,
   "id": "139e7e6a",
   "metadata": {},
   "outputs": [],
   "source": [
    "#Josh "
   ]
  },
  {
   "cell_type": "markdown",
   "id": "09b86a62",
   "metadata": {},
   "source": [
    "fill in missing values for midrange shots made"
   ]
  },
  {
   "cell_type": "code",
   "execution_count": null,
   "id": "0fb0bca9",
   "metadata": {},
   "outputs": [],
   "source": [
    "#Heather "
   ]
  },
  {
   "cell_type": "markdown",
   "id": "935bbc40",
   "metadata": {},
   "source": [
    "fill in missing values for midrange attempts"
   ]
  },
  {
   "cell_type": "code",
   "execution_count": null,
   "id": "456b23da",
   "metadata": {},
   "outputs": [],
   "source": [
    "#Heather "
   ]
  },
  {
   "cell_type": "markdown",
   "id": "dc879073",
   "metadata": {},
   "source": [
    "fill in missing values for rim shots made"
   ]
  },
  {
   "cell_type": "code",
   "execution_count": null,
   "id": "0ad0d11c",
   "metadata": {},
   "outputs": [],
   "source": [
    "#Alisha "
   ]
  },
  {
   "cell_type": "markdown",
   "id": "9ea8d937",
   "metadata": {},
   "source": [
    "fill in missing values for rim shots attempted "
   ]
  },
  {
   "cell_type": "code",
   "execution_count": null,
   "id": "e192e1e8",
   "metadata": {},
   "outputs": [],
   "source": [
    "#Alisha "
   ]
  },
  {
   "cell_type": "markdown",
   "id": "cd6c1d6e",
   "metadata": {},
   "source": [
    "check for players still missing over 15% of the data and drop "
   ]
  },
  {
   "cell_type": "code",
   "execution_count": null,
   "id": "9a3d0375",
   "metadata": {},
   "outputs": [],
   "source": [
    "#Steve"
   ]
  },
  {
   "cell_type": "markdown",
   "id": "ffb809ae",
   "metadata": {},
   "source": [
    "check and fill any remaining nulls in the columns "
   ]
  },
  {
   "cell_type": "code",
   "execution_count": null,
   "id": "a322e0c7",
   "metadata": {},
   "outputs": [],
   "source": [
    "#Steve"
   ]
  },
  {
   "cell_type": "markdown",
   "id": "da6b6863",
   "metadata": {},
   "source": [
    "## Transform "
   ]
  },
  {
   "cell_type": "markdown",
   "id": "5e4564ed",
   "metadata": {},
   "source": []
  },
  {
   "cell_type": "code",
   "execution_count": null,
   "id": "b7770fe0",
   "metadata": {},
   "outputs": [],
   "source": []
  }
 ],
 "metadata": {
  "kernelspec": {
   "display_name": "Python 3 (ipykernel)",
   "language": "python",
   "name": "python3"
  },
  "language_info": {
   "codemirror_mode": {
    "name": "ipython",
    "version": 3
   },
   "file_extension": ".py",
   "mimetype": "text/x-python",
   "name": "python",
   "nbconvert_exporter": "python",
   "pygments_lexer": "ipython3",
   "version": "3.9.7"
  }
 },
 "nbformat": 4,
 "nbformat_minor": 5
}
