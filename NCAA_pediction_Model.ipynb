{
 "cells": [
  {
   "cell_type": "markdown",
   "id": "aa307109",
   "metadata": {},
   "source": [
    "## Cleaning\n",
    "Drop column with extera catigorical data or data that just give bias to prefered players: usage, college year, ht, num, pfr, year, rec rank, pick, pik drafted, gbpm, offensive gdbm, defensive gdbm, type, Recruit Rank"
   ]
  },
  {
   "cell_type": "code",
   "execution_count": 3,
   "id": "2171391a",
   "metadata": {},
   "outputs": [
    {
     "name": "stdout",
     "output_type": "stream",
     "text": [
      "<class 'pandas.core.frame.DataFrame'>\n",
      "RangeIndex: 61061 entries, 0 to 61060\n",
      "Data columns (total 66 columns):\n",
      " #   Column                           Non-Null Count  Dtype  \n",
      "---  ------                           --------------  -----  \n",
      " 0   player_name                      61061 non-null  object \n",
      " 1   team                             61061 non-null  object \n",
      " 2   conf                             61061 non-null  object \n",
      " 3   GP                               61061 non-null  int64  \n",
      " 4   Min_per                          61061 non-null  float64\n",
      " 5   Ortg                             61061 non-null  float64\n",
      " 6   usg                              61061 non-null  float64\n",
      " 7   eFG                              61061 non-null  float64\n",
      " 8   TS_per                           61061 non-null  float64\n",
      " 9   ORB_per                          61061 non-null  float64\n",
      " 10  DRB_per                          61061 non-null  float64\n",
      " 11  AST_per                          61061 non-null  float64\n",
      " 12  TO_per                           61061 non-null  float64\n",
      " 13  FTM                              61061 non-null  int64  \n",
      " 14  FTA                              61061 non-null  int64  \n",
      " 15  FT_per                           61061 non-null  float64\n",
      " 16  twoPM                            61061 non-null  int64  \n",
      " 17  twoPA                            61061 non-null  int64  \n",
      " 18  twoP_per                         61061 non-null  float64\n",
      " 19  TPM                              61061 non-null  int64  \n",
      " 20  TPA                              61061 non-null  int64  \n",
      " 21  TP_per                           61061 non-null  float64\n",
      " 22  blk_per                          61061 non-null  float64\n",
      " 23  stl_per                          61061 non-null  float64\n",
      " 24  ftr                              61061 non-null  float64\n",
      " 25  yr                               60767 non-null  object \n",
      " 26  ht                               60950 non-null  object \n",
      " 27  num                              56275 non-null  object \n",
      " 28  porpag                           61061 non-null  float64\n",
      " 29  adjoe                            61061 non-null  float64\n",
      " 30  pfr                              61061 non-null  float64\n",
      " 31  year                             61061 non-null  int64  \n",
      " 32  pid                              61061 non-null  int64  \n",
      " 33  type                             61061 non-null  object \n",
      " 34  Rec Rank                         18470 non-null  float64\n",
      " 35  ast/tov                          56334 non-null  float64\n",
      " 36  rimmade                          54732 non-null  float64\n",
      " 37  rimmade+rimmiss                  54732 non-null  float64\n",
      " 38  midmade                          54732 non-null  float64\n",
      " 39  midmade+midmiss                  54732 non-null  float64\n",
      " 40  rimmade/(rimmade+rimmiss)        50951 non-null  float64\n",
      " 41  midmade/(midmade+midmiss)        50676 non-null  float64\n",
      " 42  dunksmade                        54732 non-null  float64\n",
      " 43  dunksmiss+dunksmade              54732 non-null  float64\n",
      " 44  dunksmade/(dunksmade+dunksmiss)  27551 non-null  float64\n",
      " 45  pick                             1435 non-null   float64\n",
      " 46  drtg                             61016 non-null  float64\n",
      " 47  adrtg                            61016 non-null  float64\n",
      " 48  dporpag                          61016 non-null  float64\n",
      " 49  stops                            61016 non-null  float64\n",
      " 50  bpm                              61016 non-null  float64\n",
      " 51  obpm                             61016 non-null  float64\n",
      " 52  dbpm                             61016 non-null  float64\n",
      " 53  gbpm                             61016 non-null  float64\n",
      " 54  mp                               61023 non-null  float64\n",
      " 55  ogbpm                            61016 non-null  float64\n",
      " 56  dgbpm                            61016 non-null  float64\n",
      " 57  oreb                             61023 non-null  float64\n",
      " 58  dreb                             61023 non-null  float64\n",
      " 59  treb                             61023 non-null  float64\n",
      " 60  ast                              61023 non-null  float64\n",
      " 61  stl                              61023 non-null  float64\n",
      " 62  blk                              61023 non-null  float64\n",
      " 63  pts                              61023 non-null  float64\n",
      " 64  Unnamed: 64                      56377 non-null  object \n",
      " 65  Unnamed: 65                      61016 non-null  float64\n",
      "dtypes: float64(49), int64(9), object(8)\n",
      "memory usage: 30.7+ MB\n",
      "<class 'pandas.core.frame.DataFrame'>\n",
      "RangeIndex: 61061 entries, 0 to 61060\n",
      "Data columns (total 55 columns):\n",
      " #   Column                           Non-Null Count  Dtype  \n",
      "---  ------                           --------------  -----  \n",
      " 0   player_name                      61061 non-null  object \n",
      " 1   team                             61061 non-null  object \n",
      " 2   conf                             61061 non-null  object \n",
      " 3   GP                               61061 non-null  int64  \n",
      " 4   Min_per                          61061 non-null  float64\n",
      " 5   Ortg                             61061 non-null  float64\n",
      " 6   eFG                              61061 non-null  float64\n",
      " 7   TS_per                           61061 non-null  float64\n",
      " 8   ORB_per                          61061 non-null  float64\n",
      " 9   DRB_per                          61061 non-null  float64\n",
      " 10  AST_per                          61061 non-null  float64\n",
      " 11  TO_per                           61061 non-null  float64\n",
      " 12  FTM                              61061 non-null  int64  \n",
      " 13  FTA                              61061 non-null  int64  \n",
      " 14  FT_per                           61061 non-null  float64\n",
      " 15  twoPM                            61061 non-null  int64  \n",
      " 16  twoPA                            61061 non-null  int64  \n",
      " 17  twoP_per                         61061 non-null  float64\n",
      " 18  TPM                              61061 non-null  int64  \n",
      " 19  TPA                              61061 non-null  int64  \n",
      " 20  TP_per                           61061 non-null  float64\n",
      " 21  blk_per                          61061 non-null  float64\n",
      " 22  stl_per                          61061 non-null  float64\n",
      " 23  ftr                              61061 non-null  float64\n",
      " 24  porpag                           61061 non-null  float64\n",
      " 25  adjoe                            61061 non-null  float64\n",
      " 26  pid                              61061 non-null  int64  \n",
      " 27  ast/tov                          56334 non-null  float64\n",
      " 28  rimmade                          54732 non-null  float64\n",
      " 29  rimmade+rimmiss                  54732 non-null  float64\n",
      " 30  midmade                          54732 non-null  float64\n",
      " 31  midmade+midmiss                  54732 non-null  float64\n",
      " 32  rimmade/(rimmade+rimmiss)        50951 non-null  float64\n",
      " 33  midmade/(midmade+midmiss)        50676 non-null  float64\n",
      " 34  dunksmade                        54732 non-null  float64\n",
      " 35  dunksmiss+dunksmade              54732 non-null  float64\n",
      " 36  dunksmade/(dunksmade+dunksmiss)  27551 non-null  float64\n",
      " 37  pick                             1435 non-null   float64\n",
      " 38  drtg                             61016 non-null  float64\n",
      " 39  adrtg                            61016 non-null  float64\n",
      " 40  dporpag                          61016 non-null  float64\n",
      " 41  stops                            61016 non-null  float64\n",
      " 42  bpm                              61016 non-null  float64\n",
      " 43  obpm                             61016 non-null  float64\n",
      " 44  dbpm                             61016 non-null  float64\n",
      " 45  mp                               61023 non-null  float64\n",
      " 46  oreb                             61023 non-null  float64\n",
      " 47  dreb                             61023 non-null  float64\n",
      " 48  treb                             61023 non-null  float64\n",
      " 49  ast                              61023 non-null  float64\n",
      " 50  stl                              61023 non-null  float64\n",
      " 51  blk                              61023 non-null  float64\n",
      " 52  pts                              61023 non-null  float64\n",
      " 53  Unnamed: 64                      56377 non-null  object \n",
      " 54  Unnamed: 65                      61016 non-null  float64\n",
      "dtypes: float64(43), int64(8), object(4)\n",
      "memory usage: 25.6+ MB\n"
     ]
    },
    {
     "name": "stderr",
     "output_type": "stream",
     "text": [
      "C:\\Users\\Steven\\AppData\\Local\\Temp\\ipykernel_17864\\3130527685.py:10: DtypeWarning: Columns (27) have mixed types. Specify dtype option on import or set low_memory=False.\n",
      "  dfBasketball = pd.read_csv(file_path)\n"
     ]
    }
   ],
   "source": [
    "#Alisha \n",
    "import numpy as np\n",
    "import pandas as pd\n",
    "import matplotlib.pylab as plt\n",
    "%matplotlib inline\n",
    "\n",
    "pd.set_option('display.max_columns', 70)\n",
    "\n",
    "file_path = 'trainingData/CollegeBasketballPlayers2009-2021.csv'\n",
    "dfBasketball = pd.read_csv(file_path)\n",
    "\n",
    "# Inspect some of the data\n",
    "dfBasketball.head()\n",
    "\n",
    "dfBasketball.info()\n",
    "\n",
    "dfBasketballTraining = dfBasketball.drop(columns=['usg','yr','ht', 'num', 'pfr', 'year', 'Rec Rank', 'gbpm', 'ogbpm', 'dgbpm', 'type'])\n",
    "\n",
    "dfBasketballTraining.info(verbose=True, show_counts=True)\n"
   ]
  },
  {
   "cell_type": "code",
   "execution_count": 7,
   "metadata": {},
   "outputs": [],
   "source": [
    "def get_training_data(dataframe, replacement, features = 13, multiplicity = 10):\n",
    "    trainingCount = int(features*multiplicity/2)\n",
    "    not_drafted = dataframe[dataframe['pick'].isnull()].sample(n=trainingCount, replace=replacement)\n",
    "    drafted = dataframe[dataframe['pick'].notnull()].sample(n=trainingCount, replace=replacement)\n",
    "    return pd.concat([not_drafted, drafted], ignore_index=True)"
   ]
  },
  {
   "cell_type": "markdown",
   "id": "c9702a4d",
   "metadata": {},
   "source": [
    "fill in missing values for dunks made"
   ]
  },
  {
   "cell_type": "code",
   "execution_count": 3,
   "id": "71cebfc8",
   "metadata": {},
   "outputs": [],
   "source": [
    "#Josh "
   ]
  },
  {
   "cell_type": "markdown",
   "id": "b3876ddd",
   "metadata": {},
   "source": [
    "fill in missing values for dunks attempt"
   ]
  },
  {
   "cell_type": "code",
   "execution_count": 4,
   "id": "139e7e6a",
   "metadata": {},
   "outputs": [],
   "source": [
    "#Josh "
   ]
  },
  {
   "cell_type": "markdown",
   "id": "09b86a62",
   "metadata": {},
   "source": [
    "fill in missing values for midrange shots made"
   ]
  },
  {
   "cell_type": "code",
   "execution_count": 5,
   "id": "0fb0bca9",
   "metadata": {},
   "outputs": [],
   "source": [
    "#Heather "
   ]
  },
  {
   "cell_type": "markdown",
   "id": "935bbc40",
   "metadata": {},
   "source": [
    "fill in missing values for midrange attempts"
   ]
  },
  {
   "cell_type": "code",
   "execution_count": 6,
   "id": "456b23da",
   "metadata": {},
   "outputs": [],
   "source": [
    "#Heather "
   ]
  },
  {
   "cell_type": "markdown",
   "id": "dc879073",
   "metadata": {},
   "source": [
    "fill in missing values for rim shots made"
   ]
  },
  {
   "cell_type": "code",
   "execution_count": 7,
   "id": "0ad0d11c",
   "metadata": {},
   "outputs": [],
   "source": [
    "#Alisha "
   ]
  },
  {
   "cell_type": "markdown",
   "id": "9ea8d937",
   "metadata": {},
   "source": [
    "fill in missing values for rim shots attempted "
   ]
  },
  {
   "cell_type": "code",
   "execution_count": 8,
   "id": "e192e1e8",
   "metadata": {},
   "outputs": [],
   "source": [
    "#Alisha "
   ]
  },
  {
   "cell_type": "markdown",
   "id": "cd6c1d6e",
   "metadata": {},
   "source": [
    "check for players still missing over 15% of the data and drop "
   ]
  },
  {
   "cell_type": "code",
   "execution_count": 3,
   "id": "9a3d0375",
   "metadata": {},
   "outputs": [],
   "source": [
    "#Steve\n",
    "threshold = 15\n",
    "missing_percentage = (dfBasketball.isnull().sum() / len(dfBasketball)) * 100\n",
    "columns_to_drop = []\n",
    "\n",
    "for column in dfBasketball.columns:\n",
    "    if missing_percentage[column] > threshold:\n",
    "        columns_to_drop.append(column)\n",
    "\n",
    "dfBasketballTraining = dfBasketball.drop(columns=columns_to_drop)"
   ]
  },
  {
   "cell_type": "markdown",
   "id": "ffb809ae",
   "metadata": {},
   "source": [
    "check and fill any remaining nulls in the columns "
   ]
  },
  {
   "cell_type": "code",
   "execution_count": 9,
   "id": "a322e0c7",
   "metadata": {},
   "outputs": [
    {
     "name": "stdout",
     "output_type": "stream",
     "text": [
      "DataFrame with missing values filled in:\n",
      "              player_name              team  conf  yr      ht   num type  \\\n",
      "0           DeAndrae Ross     South Alabama    SB  So   2-Jun   NaN  all   \n",
      "1           Pooh Williams          Utah St.   WAC  So   4-Jun   NaN  all   \n",
      "2           Jesus Verdejo     South Florida    BE  Sr   4-Jun   NaN  all   \n",
      "3         Mike Hornbuckle        Pepperdine   WCC  Sr   4-Jun   NaN  all   \n",
      "4           Anthony Brown           Pacific    BW  Sr   8-Jun   NaN  all   \n",
      "...                   ...               ...   ...  ..     ...   ...  ...   \n",
      "61056      Trey Patterson         Villanova    BE  Fr   8-Jun  12.0  all   \n",
      "61057  Stavros Polatoglou  Northwestern St.  Slnd  Fr  11-Jun  33.0  all   \n",
      "61058          Sandy Ryan            Tulane  Amer  Fr     NaN  24.0  all   \n",
      "61059           Ty Larson        Texas Tech   B12  Fr     NaN  30.0  all   \n",
      "61060         Jaden Jones           Rutgers   B10  Fr   8-Jun  45.0  all   \n",
      "\n",
      "      Unnamed: 64    GP  Min_per   Ortg   usg   eFG  TS_per  ORB_per  DRB_per  \\\n",
      "0             NaN  26.0     29.5   97.3  16.6  42.5   44.43      1.6      4.6   \n",
      "1             NaN  34.0     60.9  108.3  14.9  52.4   54.48      3.8      6.3   \n",
      "2             NaN  27.0     72.0   96.2  21.8  45.7   47.98      2.1      8.0   \n",
      "3             NaN  30.0     44.5   97.7  16.0  53.6   53.69      4.1      9.4   \n",
      "4             NaN  33.0     56.2   96.5  22.0  52.8   54.31      8.3     18.6   \n",
      "...           ...   ...      ...    ...   ...   ...     ...      ...      ...   \n",
      "61056     Pure PG   2.0      0.3   60.5  19.3   0.0    0.00      0.0      0.0   \n",
      "61057           C   4.0      1.3   28.3   7.1   0.0    0.00      7.0      0.0   \n",
      "61058        PF/C   1.0      0.1    0.0   0.0   0.0    0.00      0.0      0.0   \n",
      "61059        PF/C   1.0      0.1    0.0   0.0   0.0    0.00      0.0      0.0   \n",
      "61060     Pure PG   4.0      1.0   89.6  28.8  25.0   25.00     10.3      0.0   \n",
      "\n",
      "       AST_per  TO_per   FTM    FTA  FT_per  twoPM  twoPA  twoP_per   TPM  \\\n",
      "0         15.8    16.3  10.0   14.0   0.714   26.0   68.0     0.382  13.0   \n",
      "1         13.6    19.8  30.0   45.0   0.667   56.0  113.0     0.496  20.0   \n",
      "2         14.7    15.9  45.0   67.0   0.672   67.0  157.0     0.427  50.0   \n",
      "3         13.7    23.8  14.0   27.0   0.519   25.0   63.0     0.397  28.0   \n",
      "4          8.2    22.7  64.0  114.0   0.561   93.0  176.0     0.528   0.0   \n",
      "...        ...     ...   ...    ...     ...    ...    ...       ...   ...   \n",
      "61056     51.1     0.0   0.0    0.0   0.000    0.0    1.0     0.000   0.0   \n",
      "61057      0.0    50.3   0.0    0.0   0.000    0.0    1.0     0.000   0.0   \n",
      "61058      0.0     0.0   0.0    0.0   0.000    0.0    0.0     0.000   0.0   \n",
      "61059      0.0     0.0   0.0    0.0   0.000    0.0    0.0     0.000   0.0   \n",
      "61060     48.0     0.0   0.0    0.0   0.000    0.0    4.0     0.000   1.0   \n",
      "\n",
      "         TPA  TP_per  blk_per  stl_per   ftr    porpag      adjoe  pfr  \\\n",
      "0       39.0   0.333      0.3      1.5  13.1  0.258086   89.39380  2.5   \n",
      "1       51.0   0.392      1.0      1.1  27.4  1.334920  100.06600  3.4   \n",
      "2      154.0   0.325      0.0      0.9  21.5  2.274070  104.10700  1.7   \n",
      "3       62.0   0.452      0.8      1.9  21.6  0.552857   93.20860  2.0   \n",
      "4        0.0   0.000      1.9      1.3  64.8  1.060130   97.85540  3.8   \n",
      "...      ...     ...      ...      ...   ...       ...        ...  ...   \n",
      "61056    0.0   0.000      0.0     20.3   0.0 -0.117667   62.64930  0.0   \n",
      "61057    0.0   0.000      0.0      0.0   0.0 -0.859158   19.23020  0.0   \n",
      "61058    0.0   0.000      0.0      0.0   0.0 -0.326039   -8.70362  0.0   \n",
      "61059    0.0   0.000      0.0      0.0   0.0 -0.321884   -7.50633  0.0   \n",
      "61060    2.0   0.500      0.0      0.0   0.0  0.210483  107.31300  0.0   \n",
      "\n",
      "         year      pid   ast/tov  rimmade  rimmade+rimmiss  midmade  \\\n",
      "0      2009.0      2.0  1.823646     14.6             21.0      5.0   \n",
      "1      2009.0      3.0  1.631621     39.0             70.2     15.8   \n",
      "2      2009.0      5.0  1.081662     33.0             56.6     21.4   \n",
      "3      2009.0      8.0  0.942830     14.6             21.0      5.0   \n",
      "4      2009.0      9.0  0.491229     53.0             92.6     32.4   \n",
      "...       ...      ...       ...      ...              ...      ...   \n",
      "61056  2021.0  74229.0  0.866660      0.2              1.6      0.6   \n",
      "61057  2021.0  74230.0  0.000000      0.0              0.0      0.0   \n",
      "61058  2021.0  74231.0  0.066667      0.2              0.4      0.2   \n",
      "61059  2021.0  74232.0  0.466667      0.2              0.4      0.2   \n",
      "61060  2021.0  74254.0  0.833313      3.6              7.0      1.4   \n",
      "\n",
      "       midmade+midmiss  dunksmade  dunksmiss+dunksmade      drtg     adrtg  \\\n",
      "0                 16.6        1.0                  1.2  108.3210  108.5270   \n",
      "1                 48.6        4.6                  5.6  105.0780  104.0170   \n",
      "2                 62.8        4.0                  4.6  107.5560  102.1540   \n",
      "3                 16.6        1.0                  1.2  108.8580  106.5560   \n",
      "4                 92.4        8.8                 10.6  101.0520  100.7240   \n",
      "...                ...        ...                  ...       ...       ...   \n",
      "61056              2.2        0.0                  0.2   65.1939   61.6342   \n",
      "61057              1.0        0.0                  0.0  119.3690  124.7220   \n",
      "61058              1.4        0.0                  0.0  110.6320  108.0530   \n",
      "61059              1.4        0.0                  0.0  105.9010  107.5350   \n",
      "61060              4.4        0.2                  0.2  111.7530  101.5300   \n",
      "\n",
      "        dporpag       stops        bpm      obpm      dbpm       gbpm  \\\n",
      "0      0.893017   49.964400  -4.995140 -1.623360 -3.371780  -4.723150   \n",
      "1      1.880030  111.929000   0.593024  1.385490 -0.792469  -0.300196   \n",
      "2      2.763870  115.021000   0.003161  1.024770 -1.021610   0.665065   \n",
      "3      1.218710   84.169800  -0.977798 -0.502574 -0.475224  -0.736233   \n",
      "4      1.992790  128.028000  -1.836060 -1.946040  0.109983  -2.353180   \n",
      "...         ...         ...        ...       ...       ...        ...   \n",
      "61056  0.341560    1.324650   1.175740 -5.172880  6.348620  18.161500   \n",
      "61057  0.032976    1.432110 -11.362500 -7.448800 -3.913670 -12.236100   \n",
      "61058  0.066632    0.098523  -4.939260 -4.485900 -0.453364  -4.651630   \n",
      "61059  0.068429    0.100635  -1.144880 -1.489440  0.344566  -4.256800   \n",
      "61060  0.245485    0.959619  -2.875570  1.822580 -4.698150   5.891530   \n",
      "\n",
      "            mp     ogbpm      dgbpm    oreb    dreb    treb     ast     stl  \\\n",
      "0      14.5769 -2.781990  -1.941150  0.1923  0.6154  0.8077  1.1923  0.3462   \n",
      "1      24.5294 -0.052263  -0.247934  0.6765  1.2647  1.9412  1.8235  0.4118   \n",
      "2      33.1852  1.548230  -0.883163  0.6296  2.3333  2.9630  1.9630  0.4815   \n",
      "3      17.9667 -0.342775  -0.393459  0.7000  1.4333  2.1333  1.1000  0.5667   \n",
      "4      22.9091 -1.684860  -0.668318  1.4242  3.3030  4.7273  0.8485  0.4545   \n",
      "...        ...       ...        ...     ...     ...     ...     ...     ...   \n",
      "61056   1.5000  2.143290  16.018200  0.0000  0.0000  0.0000  0.5000  0.5000   \n",
      "61057   3.7500 -7.242230  -4.993820  0.2500  0.0000  0.2500  0.0000  0.0000   \n",
      "61058   1.0000 -3.524820  -1.126810  0.0000  0.0000  0.0000  0.0000  0.0000   \n",
      "61059   1.0000 -1.876040  -2.380750  0.0000  0.0000  0.0000  0.0000  0.0000   \n",
      "61060   2.7500  9.220840  -3.329310  0.2500  0.0000  0.2500  0.7500  0.0000   \n",
      "\n",
      "          blk      pts  Unnamed: 65  \n",
      "0      0.0385   3.8846      6.22026  \n",
      "1      0.2353   5.9412      3.94375  \n",
      "2      0.0000  12.1852     10.92680  \n",
      "3      0.1333   4.9333      6.77427  \n",
      "4      0.3333   7.5758      0.00000  \n",
      "...       ...      ...          ...  \n",
      "61056  0.0000   0.0000      0.00000  \n",
      "61057  0.0000   0.0000      0.00000  \n",
      "61058  0.0000   0.0000      0.00000  \n",
      "61059  0.0000   0.0000      0.00000  \n",
      "61060  0.0000   0.7500     10.43920  \n",
      "\n",
      "[61061 rows x 61 columns]\n"
     ]
    }
   ],
   "source": [
    "#Steve\n",
    "from sklearn.impute import KNNImputer\n",
    "imputer = KNNImputer(n_neighbors=5)\n",
    "imputed_numeric = imputer.fit_transform(dfBasketballTraining.select_dtypes(include=np.number))\n",
    "dfBasketballTraining_filled = pd.DataFrame(imputed_numeric, columns=dfBasketballTraining.select_dtypes(include=np.number).columns)\n",
    "string_columns = dfBasketball.select_dtypes(include='object').columns\n",
    "dfBasketballTraining_filled = pd.concat([dfBasketball[string_columns], dfBasketballTraining_filled], axis=1)\n",
    "print(\"DataFrame with missing values filled in:\")\n",
    "print(dfBasketballTraining_filled)"
   ]
  },
  {
   "cell_type": "markdown",
   "id": "da6b6863",
   "metadata": {},
   "source": [
    "## Transform "
   ]
  },
  {
   "cell_type": "markdown",
   "id": "5e4564ed",
   "metadata": {},
   "source": []
  },
  {
   "cell_type": "code",
   "execution_count": null,
   "id": "b7770fe0",
   "metadata": {},
   "outputs": [],
   "source": []
  }
 ],
 "metadata": {
  "kernelspec": {
   "display_name": "Python 3 (ipykernel)",
   "language": "python",
   "name": "python3"
  },
  "language_info": {
   "codemirror_mode": {
    "name": "ipython",
    "version": 3
   },
   "file_extension": ".py",
   "mimetype": "text/x-python",
   "name": "python",
   "nbconvert_exporter": "python",
   "pygments_lexer": "ipython3",
   "version": "3.11.6"
  }
 },
 "nbformat": 4,
 "nbformat_minor": 5
}
